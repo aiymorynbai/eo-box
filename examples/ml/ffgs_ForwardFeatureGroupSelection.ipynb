{
 "cells": [
  {
   "cell_type": "markdown",
   "metadata": {},
   "source": [
    "# Forward Feature Group Selection\n",
    "\n",
    "## What are we talking about?\n",
    "\n",
    "Forward feature group selection works as forward feature selection but it enables you to consider feature groups instead of only single features.\n",
    "\n",
    "## Why?\n",
    "\n",
    "Sometimes features can be grouped logically and it might be of interest how groups of features perform instead of single features. \n",
    "\n",
    "If this is the case, an additional advantage is that the number of iterations and train/val tasks needed to run through a sequential feature selection is lower.\n",
    "\n",
    "## Example"
   ]
  },
  {
   "cell_type": "code",
   "execution_count": 2,
   "metadata": {},
   "outputs": [],
   "source": [
    "%matplotlib inline\n",
    "\n",
    "import numpy as np\n",
    "import matplotlib.pyplot as plt\n",
    "import pandas as pd\n",
    "import pprint as pp\n",
    "from sklearn.neighbors import KNeighborsClassifier\n",
    "from sklearn.datasets import load_iris\n",
    "\n",
    "from mlxtend import feature_selection\n",
    "from mlxtend.plotting import plot_sequential_feature_selection as plot_sfs\n",
    "\n",
    "from eobox.ml import ffgs"
   ]
  },
  {
   "cell_type": "markdown",
   "metadata": {},
   "source": [
    "### Dataset\n",
    "\n",
    "We use the well known Iris dataset here but add additional columns without any information to have some more features."
   ]
  },
  {
   "cell_type": "code",
   "execution_count": 3,
   "metadata": {},
   "outputs": [
    {
     "data": {
      "text/html": [
       "<div>\n",
       "<style scoped>\n",
       "    .dataframe tbody tr th:only-of-type {\n",
       "        vertical-align: middle;\n",
       "    }\n",
       "\n",
       "    .dataframe tbody tr th {\n",
       "        vertical-align: top;\n",
       "    }\n",
       "\n",
       "    .dataframe thead th {\n",
       "        text-align: right;\n",
       "    }\n",
       "</style>\n",
       "<table border=\"1\" class=\"dataframe\">\n",
       "  <thead>\n",
       "    <tr style=\"text-align: right;\">\n",
       "      <th></th>\n",
       "      <th>sepal length (cm)</th>\n",
       "      <th>sepal width (cm)</th>\n",
       "      <th>petal length (cm)</th>\n",
       "      <th>petal width (cm)</th>\n",
       "      <th>noinfo-0</th>\n",
       "      <th>noinfo-1</th>\n",
       "      <th>noinfo-2</th>\n",
       "      <th>noinfo-3</th>\n",
       "    </tr>\n",
       "  </thead>\n",
       "  <tbody>\n",
       "    <tr>\n",
       "      <th>0</th>\n",
       "      <td>5.1</td>\n",
       "      <td>3.5</td>\n",
       "      <td>1.4</td>\n",
       "      <td>0.2</td>\n",
       "      <td>6.275729</td>\n",
       "      <td>3.716454</td>\n",
       "      <td>4.556304</td>\n",
       "      <td>1.407720</td>\n",
       "    </tr>\n",
       "    <tr>\n",
       "      <th>1</th>\n",
       "      <td>4.9</td>\n",
       "      <td>3.0</td>\n",
       "      <td>1.4</td>\n",
       "      <td>0.2</td>\n",
       "      <td>5.825157</td>\n",
       "      <td>3.550146</td>\n",
       "      <td>3.581765</td>\n",
       "      <td>2.240255</td>\n",
       "    </tr>\n",
       "    <tr>\n",
       "      <th>2</th>\n",
       "      <td>4.7</td>\n",
       "      <td>3.2</td>\n",
       "      <td>1.3</td>\n",
       "      <td>0.2</td>\n",
       "      <td>7.769186</td>\n",
       "      <td>2.920260</td>\n",
       "      <td>5.671178</td>\n",
       "      <td>1.369348</td>\n",
       "    </tr>\n",
       "    <tr>\n",
       "      <th>3</th>\n",
       "      <td>4.6</td>\n",
       "      <td>3.1</td>\n",
       "      <td>1.5</td>\n",
       "      <td>0.2</td>\n",
       "      <td>6.344960</td>\n",
       "      <td>4.221432</td>\n",
       "      <td>1.419113</td>\n",
       "      <td>0.309110</td>\n",
       "    </tr>\n",
       "    <tr>\n",
       "      <th>4</th>\n",
       "      <td>5.0</td>\n",
       "      <td>3.6</td>\n",
       "      <td>1.4</td>\n",
       "      <td>0.2</td>\n",
       "      <td>4.372786</td>\n",
       "      <td>3.998288</td>\n",
       "      <td>5.591125</td>\n",
       "      <td>2.188029</td>\n",
       "    </tr>\n",
       "  </tbody>\n",
       "</table>\n",
       "</div>"
      ],
      "text/plain": [
       "   sepal length (cm)  sepal width (cm)  petal length (cm)  petal width (cm)  \\\n",
       "0                5.1               3.5                1.4               0.2   \n",
       "1                4.9               3.0                1.4               0.2   \n",
       "2                4.7               3.2                1.3               0.2   \n",
       "3                4.6               3.1                1.5               0.2   \n",
       "4                5.0               3.6                1.4               0.2   \n",
       "\n",
       "   noinfo-0  noinfo-1  noinfo-2  noinfo-3  \n",
       "0  6.275729  3.716454  4.556304  1.407720  \n",
       "1  5.825157  3.550146  3.581765  2.240255  \n",
       "2  7.769186  2.920260  5.671178  1.369348  \n",
       "3  6.344960  4.221432  1.419113  0.309110  \n",
       "4  4.372786  3.998288  5.591125  2.188029  "
      ]
     },
     "metadata": {},
     "output_type": "display_data"
    }
   ],
   "source": [
    "iris = load_iris(as_frame=True)\n",
    "X_informative = iris.data\n",
    "np.random.seed(0)\n",
    "X_uninformative = pd.DataFrame(np.random.uniform(X_informative.min(), \n",
    "                                                 X_informative.max(), \n",
    "                                                 size=X_informative.shape))\n",
    "X_uninformative.columns = [f\"noinfo-{i}\" for i in range(X_uninformative.shape[1])]\n",
    "X = pd.concat([X_informative, X_uninformative], axis=1)\n",
    "y = iris.target\n",
    "knn = KNeighborsClassifier(n_neighbors=4)\n",
    "display(X.head())"
   ]
  },
  {
   "cell_type": "markdown",
   "metadata": {},
   "source": [
    "### Forward Feature Selection (FFS)\n",
    "\n",
    "#### FFS on individual features\n",
    "\n",
    "With FFS we consider and select one feature in each iteration. "
   ]
  },
  {
   "cell_type": "code",
   "execution_count": 4,
   "metadata": {},
   "outputs": [
    {
     "name": "stderr",
     "output_type": "stream",
     "text": [
      "[Parallel(n_jobs=1)]: Using backend SequentialBackend with 1 concurrent workers.\n",
      "[Parallel(n_jobs=1)]: Done   8 out of   8 | elapsed:    0.1s finished\n",
      "Features: 1/8[Parallel(n_jobs=1)]: Using backend SequentialBackend with 1 concurrent workers.\n",
      "[Parallel(n_jobs=1)]: Done   7 out of   7 | elapsed:    0.1s finished\n",
      "Features: 2/8[Parallel(n_jobs=1)]: Using backend SequentialBackend with 1 concurrent workers.\n",
      "[Parallel(n_jobs=1)]: Done   6 out of   6 | elapsed:    0.1s finished\n",
      "Features: 3/8[Parallel(n_jobs=1)]: Using backend SequentialBackend with 1 concurrent workers.\n",
      "[Parallel(n_jobs=1)]: Done   5 out of   5 | elapsed:    0.1s finished\n",
      "Features: 4/8[Parallel(n_jobs=1)]: Using backend SequentialBackend with 1 concurrent workers.\n",
      "[Parallel(n_jobs=1)]: Done   4 out of   4 | elapsed:    0.0s finished\n",
      "Features: 5/8[Parallel(n_jobs=1)]: Using backend SequentialBackend with 1 concurrent workers.\n",
      "[Parallel(n_jobs=1)]: Done   3 out of   3 | elapsed:    0.0s finished\n",
      "Features: 6/8[Parallel(n_jobs=1)]: Using backend SequentialBackend with 1 concurrent workers.\n",
      "[Parallel(n_jobs=1)]: Done   2 out of   2 | elapsed:    0.0s finished\n",
      "Features: 7/8[Parallel(n_jobs=1)]: Using backend SequentialBackend with 1 concurrent workers.\n",
      "[Parallel(n_jobs=1)]: Done   1 out of   1 | elapsed:    0.0s finished\n",
      "Features: 8/8"
     ]
    },
    {
     "name": "stdout",
     "output_type": "stream",
     "text": [
      "Iteration : Selected Features\n",
      "1         : ('petal width (cm)',)\n",
      "2         : ('petal length (cm)', 'petal width (cm)')\n",
      "3         : ('petal length (cm)', 'petal width (cm)', 'noinfo-1')\n",
      "4         : ('sepal width (cm)', 'petal length (cm)', 'petal width (cm)', 'noinfo-1')\n",
      "5         : ('sepal length (cm)', 'sepal width (cm)', 'petal length (cm)', 'petal width (cm)', 'noinfo-1')\n",
      "6         : ('sepal length (cm)', 'sepal width (cm)', 'petal length (cm)', 'petal width (cm)', 'noinfo-1', 'noinfo-3')\n",
      "7         : ('sepal length (cm)', 'sepal width (cm)', 'petal length (cm)', 'petal width (cm)', 'noinfo-1', 'noinfo-2', 'noinfo-3')\n",
      "8         : ('sepal length (cm)', 'sepal width (cm)', 'petal length (cm)', 'petal width (cm)', 'noinfo-0', 'noinfo-1', 'noinfo-2', 'noinfo-3')\n"
     ]
    },
    {
     "data": {
      "image/png": "[encoded data removed]",
      "text/plain": [
       "<Figure size 432x288 with 1 Axes>"
      ]
     },
     "metadata": {
      "needs_background": "light"
     },
     "output_type": "display_data"
    }
   ],
   "source": [
    "ffs = feature_selection.SequentialFeatureSelector(knn, \n",
    "                                                  k_features=X.shape[1], \n",
    "                                                  forward=True, \n",
    "                                                  floating=False, \n",
    "                                                  scoring='accuracy',\n",
    "                                                  verbose=1\n",
    "                                                  )\n",
    "ffs = ffs.fit(X, y, custom_feature_names=X.columns)\n",
    "    \n",
    "print(f\"Iteration : Selected Features\")\n",
    "for iter, subset in ffs.subsets_.items():\n",
    "    print(f\"{iter}         : {subset['feature_names']}\")\n",
    "\n",
    "plot_sfs(ffs.get_metric_dict(), kind='std_dev')\n",
    "plt.title('Sequential Forward Feature Selection (w. StdDev)')\n",
    "plt.grid()\n",
    "plt.show()"
   ]
  },
  {
   "cell_type": "markdown",
   "metadata": {},
   "source": [
    "#### FFGS - Forward Feature *Group* Selection\n",
    "\n",
    "With FFGS we can define groups of features and consider and select these groups of feature in each iteration.\n",
    "Here we define four groups of features. "
   ]
  },
  {
   "cell_type": "code",
   "execution_count": 5,
   "metadata": {},
   "outputs": [
    {
     "name": "stdout",
     "output_type": "stream",
     "text": [
      "fgroups: [0 0 1 1 2 3 3 3]\n"
     ]
    }
   ],
   "source": [
    "fgroups_dict = {\n",
    "    0: [0, 1], # sepal features\n",
    "    1: [2, 3], # petal features \n",
    "    2: [4], # a single no-info feature\n",
    "    3: [5, 6, 7], # three no-info features\n",
    "}\n",
    "fgroups = np.zeros(X.shape[1], dtype=int)\n",
    "for group, feature_indices in fgroups_dict.items():\n",
    "    # print(group, feature_indices)\n",
    "    fgroups[np.array(feature_indices)] = group\n",
    "print(\"fgroups:\", fgroups)"
   ]
  },
  {
   "cell_type": "markdown",
   "metadata": {},
   "source": [
    "We run a forward feature group selection similar to the forward squential feature selection just that we additionally have to specify the feature grouping. "
   ]
  },
  {
   "cell_type": "code",
   "execution_count": 6,
   "metadata": {},
   "outputs": [
    {
     "name": "stderr",
     "output_type": "stream",
     "text": [
      "[Parallel(n_jobs=1)]: Using backend SequentialBackend with 1 concurrent workers.\n",
      "[Parallel(n_jobs=1)]: Done   4 out of   4 | elapsed:    0.1s finished\n",
      "Features: 2/8[Parallel(n_jobs=1)]: Using backend SequentialBackend with 1 concurrent workers.\n",
      "[Parallel(n_jobs=1)]: Done   3 out of   3 | elapsed:    0.0s finished\n",
      "Features: 4/8[Parallel(n_jobs=1)]: Using backend SequentialBackend with 1 concurrent workers.\n",
      "[Parallel(n_jobs=1)]: Done   2 out of   2 | elapsed:    0.0s finished\n",
      "Features: 5/8[Parallel(n_jobs=1)]: Using backend SequentialBackend with 1 concurrent workers.\n",
      "[Parallel(n_jobs=1)]: Done   1 out of   1 | elapsed:    0.0s finished\n",
      "Features: 8/8"
     ]
    },
    {
     "name": "stdout",
     "output_type": "stream",
     "text": [
      "Iteration : Selected Features\n",
      "2         : ('petal length (cm)', 'petal width (cm)')\n",
      "4         : ('sepal length (cm)', 'sepal width (cm)', 'petal length (cm)', 'petal width (cm)')\n",
      "5         : ('sepal length (cm)', 'sepal width (cm)', 'petal length (cm)', 'petal width (cm)', 'noinfo-0')\n",
      "8         : ('sepal length (cm)', 'sepal width (cm)', 'petal length (cm)', 'petal width (cm)', 'noinfo-0', 'noinfo-1', 'noinfo-2', 'noinfo-3')\n"
     ]
    },
    {
     "data": {
      "image/png": "[encoded data removed]",
      "text/plain": [
       "<Figure size 432x288 with 1 Axes>"
      ]
     },
     "metadata": {
      "needs_background": "light"
     },
     "output_type": "display_data"
    }
   ],
   "source": [
    "mod = KNeighborsClassifier(n_neighbors=4)\n",
    "fsel = ffgs.ForwardFeatureGroupSelection(mod, \n",
    "                                         k_features=X.shape[1],\n",
    "                                         scoring='accuracy',\n",
    "                                         verbose=1)\n",
    "\n",
    "fsel = fsel.fit(X, y, custom_feature_names=X.columns, fgroups=fgroups)\n",
    "\n",
    "    \n",
    "print(f\"Iteration : Selected Features\")\n",
    "for iter, subset in fsel.subsets_.items():\n",
    "    print(f\"{iter}         : {subset['feature_names']}\")\n",
    "\n",
    "plot_sfs(fsel.get_metric_dict(), kind='std_dev')\n",
    "plt.title('Forward Feature Group Selection (w. StdDev)')\n",
    "plt.grid()\n",
    "plt.show()"
   ]
  },
  {
   "cell_type": "markdown",
   "metadata": {},
   "source": [
    "### Computational cost\n",
    "\n",
    "As mentioned above the number of iterations and train/val tasks are lower if we can cosider groups of features instead of single features only.\n",
    "\n",
    "To evaluate the 4 feature *groups* we needed to train and estimate the performance for 9 feature sets while for the feature selection on 8 individual feautes this number increases to 35."
   ]
  },
  {
   "cell_type": "code",
   "execution_count": 7,
   "metadata": {},
   "outputs": [
    {
     "name": "stdout",
     "output_type": "stream",
     "text": [
      "Number of CV runs with single features FFS    :  35\n",
      "Number of CV runs with group-wise features FFS:  9\n"
     ]
    }
   ],
   "source": [
    "print(\"Number of CV runs with single features FFS    : \", ffgs.get_number_of_ffs_iterations(8))\n",
    "print(\"Number of CV runs with group-wise features FFS: \", ffgs.get_number_of_ffs_iterations(4))"
   ]
  }
 ],
 "metadata": {
  "kernelspec": {
   "display_name": "Python 3",
   "language": "python",
   "name": "python3"
  },
  "language_info": {
   "codemirror_mode": {
    "name": "ipython",
    "version": 3
   },
   "file_extension": ".py",
   "mimetype": "text/x-python",
   "name": "python",
   "nbconvert_exporter": "python",
   "pygments_lexer": "ipython3",
   "version": "3.8.6"
  }
 },
 "nbformat": 4,
 "nbformat_minor": 4
}
