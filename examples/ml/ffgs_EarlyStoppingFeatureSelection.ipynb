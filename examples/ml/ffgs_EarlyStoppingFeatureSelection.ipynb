{
 "cells": [
  {
   "cell_type": "markdown",
   "metadata": {},
   "source": [
    "# Early stopping feature selection\n",
    "\n",
    "Model performance during sequential forward feature selection often reaches a performance plateau before all features are selected.\n",
    "To save time it makes sense to stop the feature selection process once the relevant features are selected.\n",
    "Potentially a variaty of stopping criteria might make sense.\n",
    "\n",
    "Here we show how to implement and use a custom early stopping criteria."
   ]
  },
  {
   "cell_type": "code",
   "execution_count": 2,
   "metadata": {},
   "outputs": [],
   "source": [
    "%matplotlib inline\n",
    "import numpy as np\n",
    "import pandas as pd\n",
    "from sklearn.datasets import load_iris\n",
    "from sklearn.neighbors import KNeighborsClassifier\n",
    "from mlxtend.plotting import plot_sequential_feature_selection as plot_sfs\n",
    "\n",
    "from eobox.ml import ffgs"
   ]
  },
  {
   "cell_type": "markdown",
   "metadata": {},
   "source": [
    "## Dataset\n",
    "\n",
    "Let us define a dataset with useful and uninformative features."
   ]
  },
  {
   "cell_type": "code",
   "execution_count": 3,
   "metadata": {},
   "outputs": [],
   "source": [
    "iris = load_iris(as_frame=True)\n",
    "X_informative = iris.data\n",
    "np.random.seed(0)\n",
    "X_uninformative = pd.DataFrame(np.random.uniform(X_informative.min(), \n",
    "                                                 X_informative.max(), \n",
    "                                                 size=X_informative.shape))\n",
    "X_uninformative.columns = [f\"noinfo-{i}\" for i in range(X_uninformative.shape[1])]\n",
    "X = pd.concat([X_informative, X_uninformative], axis=1)\n",
    "y = iris.target"
   ]
  },
  {
   "cell_type": "markdown",
   "metadata": {},
   "source": [
    "## Full selection\n",
    "\n",
    "Lets start by running through the full selection process and visualize the feature learning curve."
   ]
  },
  {
   "cell_type": "code",
   "execution_count": 4,
   "metadata": {},
   "outputs": [
    {
     "data": {
      "text/plain": [
       "(<Figure size 432x288 with 1 Axes>,\n",
       " <AxesSubplot:xlabel='Number of Features', ylabel='Performance'>)"
      ]
     },
     "execution_count": 4,
     "metadata": {},
     "output_type": "execute_result"
    },
    {
     "data": {
      "image/png": "[encoded data removed]",
      "text/plain": [
       "<Figure size 432x288 with 1 Axes>"
      ]
     },
     "metadata": {
      "needs_background": "light"
     },
     "output_type": "display_data"
    }
   ],
   "source": [
    "knn = KNeighborsClassifier(n_neighbors=4)\n",
    "fsel = ffgs.ForwardFeatureGroupSelection(knn, k_features=X.shape[1])\n",
    "fsel = fsel.fit(X, y)\n",
    "plot_sfs(fsel.get_metric_dict())"
   ]
  },
  {
   "cell_type": "markdown",
   "metadata": {},
   "source": [
    "## Custom early stopping function\n",
    "\n",
    "### Example implementation\n",
    "\n",
    "To implement early stopping we need to implement a function that takes the metric dictionary (output of `ForwardFeatureGroupSelection.get_metric_dict()`) as an input and returnes a boolean as an output that indicates if to stop (`True`) or proceed (`False`) the feature selection. \n",
    "This function will be internally evaluated after every iteration with the metric dictionary as filled at the respective point.\n",
    "\n",
    "For example a stopping criteria could be to stop if the mean performance does not increases for more than 0.5% (`p`) for 3 (`n`) subsequent iterations."
   ]
  },
  {
   "cell_type": "code",
   "execution_count": 5,
   "metadata": {},
   "outputs": [],
   "source": [
    "p = 0.005\n",
    "n = 3"
   ]
  },
  {
   "cell_type": "markdown",
   "metadata": {},
   "source": [
    "One way to implement this is as follows (note that `sfs_metrics_to_dataframe` will be available at exection time and can be used inside the costum function)."
   ]
  },
  {
   "cell_type": "code",
   "execution_count": 6,
   "metadata": {},
   "outputs": [],
   "source": [
    "def early_stop(metrics_dict, p=0.005, n=3, verbosity=0):\n",
    "    metrics_df = ffgs.sfs_metrics_to_dataframe(metrics_dict)\n",
    "    metrics_df[\"perf_change\"] = metrics_df[\"avg_score\"].pct_change()\n",
    "    metrics_df[\"perf_change_let_p\"] = metrics_df[\"perf_change\"] <= p\n",
    "\n",
    "    metrics_df[\"perf_change_let_p_n_successive\"] = metrics_df[\"perf_change_let_p\"].groupby(metrics_df[\"perf_change_let_p\"].eq(0).cumsum()).cumsum().tolist()\n",
    "    stop = metrics_df.loc[metrics_df.index[-1], \"perf_change_let_p_n_successive\"] >= n\n",
    "    \n",
    "    if verbosity > 0 and stop:\n",
    "        print(\"Stopping criteria met!\")\n",
    "    if verbosity > 1 and stop:\n",
    "        display(metrics_df[[\"avg_score\", \"perf_change\", \"perf_change_let_p\", \"perf_change_let_p_n_successive\"]])\n",
    "    return stop"
   ]
  },
  {
   "cell_type": "markdown",
   "metadata": {},
   "source": [
    "Note that the metrics dictionary will have one more element after every iteration, i.e. after every additionally selected feature.\n",
    "The following shows the early stopping evaluation process: "
   ]
  },
  {
   "cell_type": "code",
   "execution_count": 7,
   "metadata": {},
   "outputs": [
    {
     "name": "stdout",
     "output_type": "stream",
     "text": [
      "i=0 - i=1 - i=2 - i=3 - i=4 - i=5 - Stopping criteria met!\n"
     ]
    },
    {
     "data": {
      "text/html": [
       "<div>\n",
       "<style scoped>\n",
       "    .dataframe tbody tr th:only-of-type {\n",
       "        vertical-align: middle;\n",
       "    }\n",
       "\n",
       "    .dataframe tbody tr th {\n",
       "        vertical-align: top;\n",
       "    }\n",
       "\n",
       "    .dataframe thead th {\n",
       "        text-align: right;\n",
       "    }\n",
       "</style>\n",
       "<table border=\"1\" class=\"dataframe\">\n",
       "  <thead>\n",
       "    <tr style=\"text-align: right;\">\n",
       "      <th></th>\n",
       "      <th>avg_score</th>\n",
       "      <th>perf_change</th>\n",
       "      <th>perf_change_let_p</th>\n",
       "      <th>perf_change_let_p_n_successive</th>\n",
       "    </tr>\n",
       "    <tr>\n",
       "      <th>iter</th>\n",
       "      <th></th>\n",
       "      <th></th>\n",
       "      <th></th>\n",
       "      <th></th>\n",
       "    </tr>\n",
       "  </thead>\n",
       "  <tbody>\n",
       "    <tr>\n",
       "      <th>1</th>\n",
       "      <td>0.960000</td>\n",
       "      <td>NaN</td>\n",
       "      <td>False</td>\n",
       "      <td>0</td>\n",
       "    </tr>\n",
       "    <tr>\n",
       "      <th>2</th>\n",
       "      <td>0.966667</td>\n",
       "      <td>0.006944</td>\n",
       "      <td>False</td>\n",
       "      <td>0</td>\n",
       "    </tr>\n",
       "    <tr>\n",
       "      <th>3</th>\n",
       "      <td>0.973333</td>\n",
       "      <td>0.006897</td>\n",
       "      <td>False</td>\n",
       "      <td>0</td>\n",
       "    </tr>\n",
       "    <tr>\n",
       "      <th>4</th>\n",
       "      <td>0.973333</td>\n",
       "      <td>0.000000</td>\n",
       "      <td>True</td>\n",
       "      <td>1</td>\n",
       "    </tr>\n",
       "    <tr>\n",
       "      <th>5</th>\n",
       "      <td>0.966667</td>\n",
       "      <td>-0.006849</td>\n",
       "      <td>True</td>\n",
       "      <td>2</td>\n",
       "    </tr>\n",
       "    <tr>\n",
       "      <th>6</th>\n",
       "      <td>0.926667</td>\n",
       "      <td>-0.041379</td>\n",
       "      <td>True</td>\n",
       "      <td>3</td>\n",
       "    </tr>\n",
       "  </tbody>\n",
       "</table>\n",
       "</div>"
      ],
      "text/plain": [
       "     avg_score  perf_change  perf_change_let_p  perf_change_let_p_n_successive\n",
       "iter                                                                          \n",
       "1     0.960000          NaN              False                               0\n",
       "2     0.966667     0.006944              False                               0\n",
       "3     0.973333     0.006897              False                               0\n",
       "4     0.973333     0.000000               True                               1\n",
       "5     0.966667    -0.006849               True                               2\n",
       "6     0.926667    -0.041379               True                               3"
      ]
     },
     "metadata": {},
     "output_type": "display_data"
    }
   ],
   "source": [
    "full_metric_dict = fsel.get_metric_dict()\n",
    "\n",
    "metric_dict_after_iter_i = {}\n",
    "for i, last_md_key in enumerate(full_metric_dict.keys()):\n",
    "    print(f\"i={i}\", end=\" - \")\n",
    "    metric_dict_after_iter_i[last_md_key] = full_metric_dict[last_md_key]\n",
    "    stop = early_stop(metric_dict_after_iter_i, p=0.005, n=3, verbosity=2)\n",
    "    #print(f\"STOP: {stop}\")\n",
    "    if stop:\n",
    "        break"
   ]
  },
  {
   "cell_type": "markdown",
   "metadata": {},
   "source": [
    "### Useage\n",
    "\n",
    "As we can see from the outputs and plot the last iterations are not ran anymore. "
   ]
  },
  {
   "cell_type": "code",
   "execution_count": 8,
   "metadata": {},
   "outputs": [
    {
     "name": "stderr",
     "output_type": "stream",
     "text": [
      "[Parallel(n_jobs=1)]: Using backend SequentialBackend with 1 concurrent workers.\n",
      "[Parallel(n_jobs=1)]: Done   8 out of   8 | elapsed:    0.1s finished\n",
      "Features: 1/8[Parallel(n_jobs=1)]: Using backend SequentialBackend with 1 concurrent workers.\n",
      "[Parallel(n_jobs=1)]: Done   7 out of   7 | elapsed:    0.1s finished\n",
      "Features: 2/8[Parallel(n_jobs=1)]: Using backend SequentialBackend with 1 concurrent workers.\n",
      "[Parallel(n_jobs=1)]: Done   6 out of   6 | elapsed:    0.1s finished\n",
      "Features: 3/8[Parallel(n_jobs=1)]: Using backend SequentialBackend with 1 concurrent workers.\n",
      "[Parallel(n_jobs=1)]: Done   5 out of   5 | elapsed:    0.1s finished\n",
      "Features: 4/8[Parallel(n_jobs=1)]: Using backend SequentialBackend with 1 concurrent workers.\n",
      "[Parallel(n_jobs=1)]: Done   4 out of   4 | elapsed:    0.1s finished\n",
      "Features: 5/8[Parallel(n_jobs=1)]: Using backend SequentialBackend with 1 concurrent workers.\n",
      "[Parallel(n_jobs=1)]: Done   3 out of   3 | elapsed:    0.0s finished\n",
      "Features: 6/8"
     ]
    },
    {
     "name": "stdout",
     "output_type": "stream",
     "text": [
      "Stopping early due to custom early stopping criteria.\n"
     ]
    },
    {
     "data": {
      "text/plain": [
       "(<Figure size 432x288 with 1 Axes>,\n",
       " <AxesSubplot:xlabel='Number of Features', ylabel='Performance'>)"
      ]
     },
     "execution_count": 8,
     "metadata": {},
     "output_type": "execute_result"
    },
    {
     "data": {
      "image/png": "[encoded data removed]",
      "text/plain": [
       "<Figure size 432x288 with 1 Axes>"
      ]
     },
     "metadata": {
      "needs_background": "light"
     },
     "output_type": "display_data"
    }
   ],
   "source": [
    "fsel = ffgs.ForwardFeatureGroupSelection(knn, k_features=X.shape[1], verbose=True)\n",
    "fsel = fsel.fit(X, y, custom_early_stop=early_stop)\n",
    "plot_sfs(fsel.get_metric_dict())"
   ]
  }
 ],
 "metadata": {
  "kernelspec": {
   "display_name": "Python 3",
   "language": "python",
   "name": "python3"
  },
  "language_info": {
   "codemirror_mode": {
    "name": "ipython",
    "version": 3
   },
   "file_extension": ".py",
   "mimetype": "text/x-python",
   "name": "python",
   "nbconvert_exporter": "python",
   "pygments_lexer": "ipython3",
   "version": "3.8.6"
  }
 },
 "nbformat": 4,
 "nbformat_minor": 4
}
