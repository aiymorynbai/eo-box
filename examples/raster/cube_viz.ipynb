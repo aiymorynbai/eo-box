{
 "cells": [
  {
   "cell_type": "markdown",
   "metadata": {},
   "source": [
    "# Visualization with ``EOCube``"
   ]
  },
  {
   "cell_type": "code",
   "execution_count": 1,
   "metadata": {},
   "outputs": [
    {
     "name": "stdout",
     "output_type": "stream",
     "text": [
      "/home/ben/Devel/Packages/eo-box/raster/eobox/raster/cube.py\n",
      "/home/ben/Devel/Packages/eo-box/sampledata/eobox/sampledata/__init__.py\n"
     ]
    }
   ],
   "source": [
    "%load_ext autoreload\n",
    "%autoreload 2\n",
    "\n",
    "import numpy as np\n",
    "import pandas as pd\n",
    "from pathlib import Path\n",
    "import rasterio\n",
    "import seaborn as sns\n",
    "import matplotlib.pyplot as plt\n",
    "\n",
    "# from eobox.raster import MultiRasterIO\n",
    "from eobox import sampledata\n",
    "from eobox.raster import cube\n",
    "from eobox.raster import gdalutils\n",
    "\n",
    "from eobox.raster.utils import cleanup_df_values_for_given_dtype\n",
    "from eobox.raster.utils import dtype_checker_df\n",
    "\n",
    "print(cube.__file__)\n",
    "print(sampledata.__file__)"
   ]
  },
  {
   "cell_type": "markdown",
   "metadata": {},
   "source": [
    "## Sample dataset"
   ]
  },
  {
   "cell_type": "code",
   "execution_count": 2,
   "metadata": {},
   "outputs": [],
   "source": [
    "def get_sampledata(year):\n",
    "    dataset = sampledata.get_dataset(\"lsts\")\n",
    "    layers_paths = [Path(p) for p in dataset[\"raster_files\"]]\n",
    "    layers_df = pd.Series([p.stem for p in layers_paths]).str.split(\"_\", expand=True) \\\n",
    "    .rename({0: \"sceneid\", 1:\"band\"}, axis=1)\n",
    "\n",
    "    layers_df[\"date\"] = pd.to_datetime(layers_df.sceneid.str[9:16], format=\"%Y%j\")\n",
    "    layers_df[\"uname\"] = layers_df.sceneid.str[:3] + \"_\" + layers_df.date.dt.strftime(\"%Y-%m-%d\") + \"_\" + layers_df.band.str[::] \n",
    "    layers_df[\"path\"] = layers_paths\n",
    "\n",
    "    layers_df = layers_df.sort_values([\"date\", \"band\"])\n",
    "    layers_df = layers_df.reset_index(drop=True)\n",
    "\n",
    "    layers_df_year = layers_df[(layers_df.date >= str(year)) & (layers_df.date < str(year+1))]\n",
    "    layers_df_year = layers_df_year.reset_index(drop=True)\n",
    "    return layers_df_year"
   ]
  },
  {
   "cell_type": "markdown",
   "metadata": {},
   "source": [
    "The sample data we are loading here contains 23 scenes each of which consists of three bands (*b3*, *b4*, *b5*) and a QA (quality assessment) band (here *fmask*).\n",
    "\n",
    "*fmask* has the following categories:\n",
    "\n",
    "      0 - clear land\n",
    "      1 - clear water\n",
    "      2 - cloud\n",
    "      3 - snow\n",
    "      4 - shadow\n",
    "    255 - NoData"
   ]
  },
  {
   "cell_type": "code",
   "execution_count": 3,
   "metadata": {},
   "outputs": [
    {
     "data": {
      "text/html": [
       "<div>\n",
       "<style scoped>\n",
       "    .dataframe tbody tr th:only-of-type {\n",
       "        vertical-align: middle;\n",
       "    }\n",
       "\n",
       "    .dataframe tbody tr th {\n",
       "        vertical-align: top;\n",
       "    }\n",
       "\n",
       "    .dataframe thead th {\n",
       "        text-align: right;\n",
       "    }\n",
       "</style>\n",
       "<table border=\"1\" class=\"dataframe\">\n",
       "  <thead>\n",
       "    <tr style=\"text-align: right;\">\n",
       "      <th></th>\n",
       "      <th>sceneid</th>\n",
       "      <th>band</th>\n",
       "      <th>date</th>\n",
       "      <th>uname</th>\n",
       "      <th>path</th>\n",
       "    </tr>\n",
       "  </thead>\n",
       "  <tbody>\n",
       "    <tr>\n",
       "      <th>0</th>\n",
       "      <td>LT50350322008110PAC01</td>\n",
       "      <td>b3</td>\n",
       "      <td>2008-04-19</td>\n",
       "      <td>LT5_2008-04-19_b3</td>\n",
       "      <td>/home/ben/Devel/Packages/eo-box/sampledata/eob...</td>\n",
       "    </tr>\n",
       "    <tr>\n",
       "      <th>1</th>\n",
       "      <td>LT50350322008110PAC01</td>\n",
       "      <td>b4</td>\n",
       "      <td>2008-04-19</td>\n",
       "      <td>LT5_2008-04-19_b4</td>\n",
       "      <td>/home/ben/Devel/Packages/eo-box/sampledata/eob...</td>\n",
       "    </tr>\n",
       "    <tr>\n",
       "      <th>2</th>\n",
       "      <td>LT50350322008110PAC01</td>\n",
       "      <td>b5</td>\n",
       "      <td>2008-04-19</td>\n",
       "      <td>LT5_2008-04-19_b5</td>\n",
       "      <td>/home/ben/Devel/Packages/eo-box/sampledata/eob...</td>\n",
       "    </tr>\n",
       "    <tr>\n",
       "      <th>3</th>\n",
       "      <td>LT50350322008110PAC01</td>\n",
       "      <td>fmask</td>\n",
       "      <td>2008-04-19</td>\n",
       "      <td>LT5_2008-04-19_fmask</td>\n",
       "      <td>/home/ben/Devel/Packages/eo-box/sampledata/eob...</td>\n",
       "    </tr>\n",
       "  </tbody>\n",
       "</table>\n",
       "</div>"
      ],
      "text/plain": [
       "                 sceneid   band       date                 uname  \\\n",
       "0  LT50350322008110PAC01     b3 2008-04-19     LT5_2008-04-19_b3   \n",
       "1  LT50350322008110PAC01     b4 2008-04-19     LT5_2008-04-19_b4   \n",
       "2  LT50350322008110PAC01     b5 2008-04-19     LT5_2008-04-19_b5   \n",
       "3  LT50350322008110PAC01  fmask 2008-04-19  LT5_2008-04-19_fmask   \n",
       "\n",
       "                                                path  \n",
       "0  /home/ben/Devel/Packages/eo-box/sampledata/eob...  \n",
       "1  /home/ben/Devel/Packages/eo-box/sampledata/eob...  \n",
       "2  /home/ben/Devel/Packages/eo-box/sampledata/eob...  \n",
       "3  /home/ben/Devel/Packages/eo-box/sampledata/eob...  "
      ]
     },
     "metadata": {},
     "output_type": "display_data"
    },
    {
     "name": "stdout",
     "output_type": "stream",
     "text": [
      "fmask    23\n",
      "b4       23\n",
      "b5       23\n",
      "b3       23\n",
      "Name: band, dtype: int64\n",
      "['2008-04-19' '2008-04-27' '2008-05-05' '2008-05-21' '2008-05-29'\n",
      " '2008-06-06' '2008-06-14' '2008-06-22' '2008-06-30' '2008-07-08'\n",
      " '2008-07-16' '2008-07-24' '2008-08-01' '2008-08-09' '2008-08-17'\n",
      " '2008-08-25' '2008-09-02' '2008-09-18' '2008-09-26' '2008-10-12'\n",
      " '2008-10-28' '2008-11-21' '2008-12-07']\n"
     ]
    }
   ],
   "source": [
    "df_layers = get_sampledata(2008)\n",
    "display(df_layers.head(4))\n",
    "print(df_layers.band.value_counts())\n",
    "print(df_layers.date.dt.strftime(\"%Y-%m-%d\").unique())"
   ]
  },
  {
   "cell_type": "markdown",
   "metadata": {},
   "source": [
    "**Initialize an ``EOCubeSceneCollection``**"
   ]
  },
  {
   "cell_type": "code",
   "execution_count": 4,
   "metadata": {},
   "outputs": [],
   "source": [
    "df_layers=df_layers\n",
    "chunksize=2**5\n",
    "variables=[\"b3\", \"b4\", \"b5\"]\n",
    "qa=\"fmask\"\n",
    "qa_valid=[0, 1]"
   ]
  },
  {
   "cell_type": "markdown",
   "metadata": {},
   "source": [
    "**Get a chunk and read the data**"
   ]
  },
  {
   "cell_type": "code",
   "execution_count": 5,
   "metadata": {},
   "outputs": [
    {
     "data": {
      "text/html": [
       "<div>\n",
       "<style scoped>\n",
       "    .dataframe tbody tr th:only-of-type {\n",
       "        vertical-align: middle;\n",
       "    }\n",
       "\n",
       "    .dataframe tbody tr th {\n",
       "        vertical-align: top;\n",
       "    }\n",
       "\n",
       "    .dataframe thead th {\n",
       "        text-align: right;\n",
       "    }\n",
       "</style>\n",
       "<table border=\"1\" class=\"dataframe\">\n",
       "  <thead>\n",
       "    <tr style=\"text-align: right;\">\n",
       "      <th></th>\n",
       "      <th>sceneid</th>\n",
       "      <th>band</th>\n",
       "      <th>date</th>\n",
       "      <th>uname</th>\n",
       "      <th>path</th>\n",
       "    </tr>\n",
       "  </thead>\n",
       "  <tbody>\n",
       "    <tr>\n",
       "      <th>0</th>\n",
       "      <td>LT50350322008110PAC01</td>\n",
       "      <td>b3</td>\n",
       "      <td>2008-04-19</td>\n",
       "      <td>LT5_2008-04-19_b3</td>\n",
       "      <td>/home/ben/Devel/Packages/eo-box/sampledata/eob...</td>\n",
       "    </tr>\n",
       "    <tr>\n",
       "      <th>1</th>\n",
       "      <td>LT50350322008110PAC01</td>\n",
       "      <td>b4</td>\n",
       "      <td>2008-04-19</td>\n",
       "      <td>LT5_2008-04-19_b4</td>\n",
       "      <td>/home/ben/Devel/Packages/eo-box/sampledata/eob...</td>\n",
       "    </tr>\n",
       "    <tr>\n",
       "      <th>2</th>\n",
       "      <td>LT50350322008110PAC01</td>\n",
       "      <td>b5</td>\n",
       "      <td>2008-04-19</td>\n",
       "      <td>LT5_2008-04-19_b5</td>\n",
       "      <td>/home/ben/Devel/Packages/eo-box/sampledata/eob...</td>\n",
       "    </tr>\n",
       "    <tr>\n",
       "      <th>3</th>\n",
       "      <td>LT50350322008110PAC01</td>\n",
       "      <td>fmask</td>\n",
       "      <td>2008-04-19</td>\n",
       "      <td>LT5_2008-04-19_fmask</td>\n",
       "      <td>/home/ben/Devel/Packages/eo-box/sampledata/eob...</td>\n",
       "    </tr>\n",
       "    <tr>\n",
       "      <th>4</th>\n",
       "      <td>LE70350322008118EDC00</td>\n",
       "      <td>b3</td>\n",
       "      <td>2008-04-27</td>\n",
       "      <td>LE7_2008-04-27_b3</td>\n",
       "      <td>/home/ben/Devel/Packages/eo-box/sampledata/eob...</td>\n",
       "    </tr>\n",
       "  </tbody>\n",
       "</table>\n",
       "</div>"
      ],
      "text/plain": [
       "                 sceneid   band       date                 uname  \\\n",
       "0  LT50350322008110PAC01     b3 2008-04-19     LT5_2008-04-19_b3   \n",
       "1  LT50350322008110PAC01     b4 2008-04-19     LT5_2008-04-19_b4   \n",
       "2  LT50350322008110PAC01     b5 2008-04-19     LT5_2008-04-19_b5   \n",
       "3  LT50350322008110PAC01  fmask 2008-04-19  LT5_2008-04-19_fmask   \n",
       "4  LE70350322008118EDC00     b3 2008-04-27     LE7_2008-04-27_b3   \n",
       "\n",
       "                                                path  \n",
       "0  /home/ben/Devel/Packages/eo-box/sampledata/eob...  \n",
       "1  /home/ben/Devel/Packages/eo-box/sampledata/eob...  \n",
       "2  /home/ben/Devel/Packages/eo-box/sampledata/eob...  \n",
       "3  /home/ben/Devel/Packages/eo-box/sampledata/eob...  \n",
       "4  /home/ben/Devel/Packages/eo-box/sampledata/eob...  "
      ]
     },
     "metadata": {},
     "output_type": "display_data"
    },
    {
     "data": {
      "text/plain": [
       "(32, 29, 92)"
      ]
     },
     "execution_count": 5,
     "metadata": {},
     "output_type": "execute_result"
    }
   ],
   "source": [
    "scoll = cube.EOCubeSceneCollection(df_layers=df_layers, \n",
    "                                   chunksize=chunksize, \n",
    "                                   variables=variables, \n",
    "                                   qa=qa, \n",
    "                                   qa_valid=qa_valid \n",
    "                                  )\n",
    "display(scoll.df_layers.head())\n",
    "\n",
    "scoll_chunk = scoll.get_chunk(1)\n",
    "scoll_chunk.read_data()\n",
    "scoll_chunk.data.shape"
   ]
  },
  {
   "cell_type": "markdown",
   "metadata": {},
   "source": [
    "## Plotting raster"
   ]
  },
  {
   "cell_type": "markdown",
   "metadata": {},
   "source": [
    "### Single layer\n",
    "\n",
    "#### Continuous"
   ]
  },
  {
   "cell_type": "code",
   "execution_count": 6,
   "metadata": {},
   "outputs": [
    {
     "data": {
      "image/png": "[encoded data removed]",
      "text/plain": [
       "<Figure size 1080x432 with 3 Axes>"
      ]
     },
     "metadata": {
      "needs_background": "light"
     },
     "output_type": "display_data"
    }
   ],
   "source": [
    "fig, axes = plt.subplots(nrows=1, ncols=3, figsize=(15, 6))\n",
    "\n",
    "aximg = scoll_chunk.plot_raster(0, spatial_bounds=False, ax=axes[0])\n",
    "axes[0].set_title(scoll_chunk.df_layers.uname[0])\n",
    "\n",
    "aximg = scoll_chunk.plot_raster(1, spatial_bounds=False, ax=axes[1])\n",
    "axes[1].set_title(scoll_chunk.df_layers.uname[1])\n",
    "\n",
    "aximg = scoll_chunk.plot_raster(2, spatial_bounds=False, ax=axes[2])\n",
    "axes[2].set_title(scoll_chunk.df_layers.uname[2])\n",
    "\n",
    "plt.tight_layout()"
   ]
  },
  {
   "cell_type": "markdown",
   "metadata": {},
   "source": [
    "#### Categorical\n",
    "\n",
    "**ToDo**\n",
    "\n",
    "### RGBs\n",
    "\n",
    "There is a helper for getting the indices of commonly required for RGB plots:"
   ]
  },
  {
   "cell_type": "code",
   "execution_count": 7,
   "metadata": {},
   "outputs": [
    {
     "name": "stdout",
     "output_type": "stream",
     "text": [
      "[34, 33, 32]\n"
     ]
    },
    {
     "data": {
      "text/html": [
       "<div>\n",
       "<style scoped>\n",
       "    .dataframe tbody tr th:only-of-type {\n",
       "        vertical-align: middle;\n",
       "    }\n",
       "\n",
       "    .dataframe tbody tr th {\n",
       "        vertical-align: top;\n",
       "    }\n",
       "\n",
       "    .dataframe thead th {\n",
       "        text-align: right;\n",
       "    }\n",
       "</style>\n",
       "<table border=\"1\" class=\"dataframe\">\n",
       "  <thead>\n",
       "    <tr style=\"text-align: right;\">\n",
       "      <th></th>\n",
       "      <th>sceneid</th>\n",
       "      <th>band</th>\n",
       "      <th>date</th>\n",
       "      <th>uname</th>\n",
       "      <th>path</th>\n",
       "    </tr>\n",
       "  </thead>\n",
       "  <tbody>\n",
       "    <tr>\n",
       "      <th>34</th>\n",
       "      <td>LE70350322008182EDC00</td>\n",
       "      <td>b5</td>\n",
       "      <td>2008-06-30</td>\n",
       "      <td>LE7_2008-06-30_b5</td>\n",
       "      <td>/home/ben/Devel/Packages/eo-box/sampledata/eob...</td>\n",
       "    </tr>\n",
       "    <tr>\n",
       "      <th>33</th>\n",
       "      <td>LE70350322008182EDC00</td>\n",
       "      <td>b4</td>\n",
       "      <td>2008-06-30</td>\n",
       "      <td>LE7_2008-06-30_b4</td>\n",
       "      <td>/home/ben/Devel/Packages/eo-box/sampledata/eob...</td>\n",
       "    </tr>\n",
       "    <tr>\n",
       "      <th>32</th>\n",
       "      <td>LE70350322008182EDC00</td>\n",
       "      <td>b3</td>\n",
       "      <td>2008-06-30</td>\n",
       "      <td>LE7_2008-06-30_b3</td>\n",
       "      <td>/home/ben/Devel/Packages/eo-box/sampledata/eob...</td>\n",
       "    </tr>\n",
       "  </tbody>\n",
       "</table>\n",
       "</div>"
      ],
      "text/plain": [
       "                  sceneid band       date              uname  \\\n",
       "34  LE70350322008182EDC00   b5 2008-06-30  LE7_2008-06-30_b5   \n",
       "33  LE70350322008182EDC00   b4 2008-06-30  LE7_2008-06-30_b4   \n",
       "32  LE70350322008182EDC00   b3 2008-06-30  LE7_2008-06-30_b3   \n",
       "\n",
       "                                                 path  \n",
       "34  /home/ben/Devel/Packages/eo-box/sampledata/eob...  \n",
       "33  /home/ben/Devel/Packages/eo-box/sampledata/eob...  \n",
       "32  /home/ben/Devel/Packages/eo-box/sampledata/eob...  "
      ]
     },
     "metadata": {},
     "output_type": "display_data"
    },
    {
     "name": "stdout",
     "output_type": "stream",
     "text": [
      "[2, 38, 74]\n"
     ]
    },
    {
     "data": {
      "text/html": [
       "<div>\n",
       "<style scoped>\n",
       "    .dataframe tbody tr th:only-of-type {\n",
       "        vertical-align: middle;\n",
       "    }\n",
       "\n",
       "    .dataframe tbody tr th {\n",
       "        vertical-align: top;\n",
       "    }\n",
       "\n",
       "    .dataframe thead th {\n",
       "        text-align: right;\n",
       "    }\n",
       "</style>\n",
       "<table border=\"1\" class=\"dataframe\">\n",
       "  <thead>\n",
       "    <tr style=\"text-align: right;\">\n",
       "      <th></th>\n",
       "      <th>sceneid</th>\n",
       "      <th>band</th>\n",
       "      <th>date</th>\n",
       "      <th>uname</th>\n",
       "      <th>path</th>\n",
       "    </tr>\n",
       "  </thead>\n",
       "  <tbody>\n",
       "    <tr>\n",
       "      <th>2</th>\n",
       "      <td>LT50350322008110PAC01</td>\n",
       "      <td>b5</td>\n",
       "      <td>2008-04-19</td>\n",
       "      <td>LT5_2008-04-19_b5</td>\n",
       "      <td>/home/ben/Devel/Packages/eo-box/sampledata/eob...</td>\n",
       "    </tr>\n",
       "    <tr>\n",
       "      <th>38</th>\n",
       "      <td>LT50350322008190PAC01</td>\n",
       "      <td>b5</td>\n",
       "      <td>2008-07-08</td>\n",
       "      <td>LT5_2008-07-08_b5</td>\n",
       "      <td>/home/ben/Devel/Packages/eo-box/sampledata/eob...</td>\n",
       "    </tr>\n",
       "    <tr>\n",
       "      <th>74</th>\n",
       "      <td>LT50350322008270PAC01</td>\n",
       "      <td>b5</td>\n",
       "      <td>2008-09-26</td>\n",
       "      <td>LT5_2008-09-26_b5</td>\n",
       "      <td>/home/ben/Devel/Packages/eo-box/sampledata/eob...</td>\n",
       "    </tr>\n",
       "  </tbody>\n",
       "</table>\n",
       "</div>"
      ],
      "text/plain": [
       "                  sceneid band       date              uname  \\\n",
       "2   LT50350322008110PAC01   b5 2008-04-19  LT5_2008-04-19_b5   \n",
       "38  LT50350322008190PAC01   b5 2008-07-08  LT5_2008-07-08_b5   \n",
       "74  LT50350322008270PAC01   b5 2008-09-26  LT5_2008-09-26_b5   \n",
       "\n",
       "                                                 path  \n",
       "2   /home/ben/Devel/Packages/eo-box/sampledata/eob...  \n",
       "38  /home/ben/Devel/Packages/eo-box/sampledata/eob...  \n",
       "74  /home/ben/Devel/Packages/eo-box/sampledata/eob...  "
      ]
     },
     "metadata": {},
     "output_type": "display_data"
    }
   ],
   "source": [
    "# three bands, one date\n",
    "ilocs = scoll_chunk.get_df_ilocs(band=[\"b5\", \"b4\", \"b3\"], \n",
    "                                 date=\"2008-06-30\")\n",
    "print(ilocs)\n",
    "display(scoll_chunk.df_layers.iloc[ilocs])\n",
    "# one band, three dates\n",
    "ilocs = scoll_chunk.get_df_ilocs(band=\"b5\", \n",
    "                                 date=['2008-04-19', '2008-07-08', '2008-09-26'])\n",
    "print(ilocs)\n",
    "display(scoll_chunk.df_layers.iloc[ilocs])\n"
   ]
  },
  {
   "cell_type": "markdown",
   "metadata": {},
   "source": [
    "Plot false color RGB (SWIR-1, NIR, RED) of tree days. \n",
    "Each with its own robust color stretch."
   ]
  },
  {
   "cell_type": "code",
   "execution_count": 8,
   "metadata": {},
   "outputs": [
    {
     "name": "stdout",
     "output_type": "stream",
     "text": [
      "[2, 1, 0]\n",
      "[38, 37, 36]\n",
      "[74, 73, 72]\n"
     ]
    },
    {
     "data": {
      "image/png": "[encoded data removed]",
      "text/plain": [
       "<Figure size 1080x432 with 3 Axes>"
      ]
     },
     "metadata": {
      "needs_background": "light"
     },
     "output_type": "display_data"
    }
   ],
   "source": [
    "fig, axes = plt.subplots(nrows=1, ncols=3, figsize=(15, 6))\n",
    "\n",
    "ilocs = scoll_chunk.get_df_ilocs(band=[\"b5\", \"b4\", \"b3\"], \n",
    "                                 date=\"2008-04-19\")\n",
    "print(ilocs)\n",
    "scoll_chunk.plot_raster_rgb(ilocs, \n",
    "                            spatial_bounds=False, \n",
    "                            robust=True,\n",
    "                            ax=axes[0])\n",
    "axes[0].set_title(\"2008-04-19\")\n",
    "\n",
    "\n",
    "ilocs = scoll_chunk.get_df_ilocs(band=[\"b5\", \"b4\", \"b3\"], \n",
    "                                 date=\"2008-07-08\")\n",
    "print(ilocs)\n",
    "scoll_chunk.plot_raster_rgb(ilocs, \n",
    "                            spatial_bounds=False, \n",
    "                            robust=True,\n",
    "                            ax=axes[1])\n",
    "axes[1].set_title(\"2008-07-08\")\n",
    "\n",
    "ilocs = scoll_chunk.get_df_ilocs(band=[\"b5\", \"b4\", \"b3\"], \n",
    "                                 date=\"2008-09-26\")\n",
    "print(ilocs)\n",
    "scoll_chunk.plot_raster_rgb(ilocs, \n",
    "                            spatial_bounds=False, \n",
    "                            robust=True,\n",
    "                            ax=axes[2])\n",
    "axes[2].set_title(\"2008-09-26\")\n",
    "\n",
    "plt.tight_layout()"
   ]
  },
  {
   "cell_type": "markdown",
   "metadata": {},
   "source": [
    "Plot false color RGB (SWIR-1, NIR, RED) of tree days. \n",
    "All with the same color stretch derived from the first image."
   ]
  },
  {
   "cell_type": "code",
   "execution_count": 9,
   "metadata": {},
   "outputs": [
    {
     "name": "stdout",
     "output_type": "stream",
     "text": [
      "[339.0, 2016.0, 1092.0]\n",
      "[734.0, 6972.180000000001, 16000.0]\n"
     ]
    }
   ],
   "source": [
    "master_ilocs = scoll_chunk.get_df_ilocs(band=[\"b5\", \"b4\", \"b3\"], \n",
    "                                        date=\"2008-04-19\")\n",
    "master_array = scoll_chunk.data[:, :, master_ilocs]\n",
    "\n",
    "vmin, vmax = scoll_chunk.robust_data_range(master_array, robust=True)\n",
    "print(vmin)\n",
    "print(vmax)"
   ]
  },
  {
   "cell_type": "code",
   "execution_count": 10,
   "metadata": {},
   "outputs": [
    {
     "data": {
      "image/png": "[encoded data removed]",
      "text/plain": [
       "<Figure size 1080x432 with 3 Axes>"
      ]
     },
     "metadata": {
      "needs_background": "light"
     },
     "output_type": "display_data"
    }
   ],
   "source": [
    "fig, axes = plt.subplots(nrows=1, ncols=3, figsize=(15, 6))\n",
    "\n",
    "ilocs = scoll_chunk.get_df_ilocs(band=[\"b5\", \"b4\", \"b3\"], \n",
    "                                 date=\"2008-04-19\")\n",
    "scoll_chunk.plot_raster_rgb(ilocs, \n",
    "                            spatial_bounds=False, \n",
    "                            vmin=vmin, vmax=vmax,\n",
    "                            ax=axes[0])\n",
    "axes[0].set_title(\"2008-04-19\")\n",
    "\n",
    "\n",
    "ilocs = scoll_chunk.get_df_ilocs(band=[\"b5\", \"b4\", \"b3\"], \n",
    "                                 date=\"2008-07-08\")\n",
    "scoll_chunk.plot_raster_rgb(ilocs, \n",
    "                            spatial_bounds=False, \n",
    "                            vmin=vmin, vmax=vmax,\n",
    "                            ax=axes[1])\n",
    "axes[1].set_title(\"2008-07-08\")\n",
    "\n",
    "ilocs = scoll_chunk.get_df_ilocs(band=[\"b5\", \"b4\", \"b3\"], \n",
    "                                 date=\"2008-09-26\")\n",
    "scoll_chunk.plot_raster_rgb(ilocs, \n",
    "                            spatial_bounds=False, \n",
    "                            vmin=vmin, vmax=vmax,\n",
    "                            ax=axes[2])\n",
    "axes[2].set_title(\"2008-09-26\")\n",
    "\n",
    "plt.tight_layout()"
   ]
  },
  {
   "cell_type": "markdown",
   "metadata": {},
   "source": [
    "IS HERE SOMETHING WRONG WITH THE CODE OR THE DATA?"
   ]
  }
 ],
 "metadata": {
  "kernelspec": {
   "display_name": "Python 3",
   "language": "python",
   "name": "python3"
  },
  "language_info": {
   "codemirror_mode": {
    "name": "ipython",
    "version": 3
   },
   "file_extension": ".py",
   "mimetype": "text/x-python",
   "name": "python",
   "nbconvert_exporter": "python",
   "pygments_lexer": "ipython3",
   "version": "3.6.7"
  }
 },
 "nbformat": 4,
 "nbformat_minor": 2
}
