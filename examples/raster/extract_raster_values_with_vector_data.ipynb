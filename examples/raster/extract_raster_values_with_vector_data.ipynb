{
 "cells": [
  {
   "cell_type": "markdown",
   "metadata": {},
   "source": [
    "# Extract Raster Values with Vector Data\n",
    "\n",
    "Extracting raster values of pixels overlapping with vector data is one of the most common tasks for developers of earth observation applications.\n",
    "This notebook shows on the basis of a small toy dataset how to perform this task in Python with the **eobox** package. \n",
    "\n",
    "In general there are tow two main approaches to solve this task in Python.\n",
    "(I am eager to know if you see another approach or additional advantages or disadvantages that should be added to this list.)\n",
    "\n",
    "1) The *rasterstats*-way: \n",
    "   * For each feature (point, line, polygon) in the vector dataset\n",
    "      * get the geometry of the feature,\n",
    "      * get the bounding box for that geometry,\n",
    "      * get the raster data corresponding to the bounding box as array (extraction core),\n",
    "      * rasterize the geometry such that it correponds to the array,\n",
    "      * return only the raster values overlapping with the rasterized geometry.\n",
    "    \n",
    "A way of doing this in Python can be found in the \n",
    "    ``gen_zonal_stats`` [function](https://pythonhosted.org/rasterstats/rasterstats.html#rasterstats.gen_zonal_stats) \n",
    "    implemented in the **rasterstats** [package](https://pythonhosted.org/rasterstats/index.html).\n",
    "  \n",
    "2) The *rasterize*-way:\n",
    "   * Rasterize the whole vector dataset such that the rasterized raster \n",
    "     matches the raster data from which to extract the values \n",
    "     (e.g. with the ``gdal_rasterize`` [function](https://www.gdal.org/gdal_rasterize.html)).\n",
    "   * load the rasterized data as array and create a mask, \n",
    "   * load the raster from which to extract the data as array and select the values to be kept by the mask.\n",
    "   \n",
    "This tutorial shows how to use the ``extract`` [function](https://eo-box.readthedocs.io/en/latest/_modules/eobox/extraction/extraction.html#extract) implemented in the **eobox** [package](https://eo-box.readthedocs.io/en/latest/index.html) to go this way.\n",
    "   \n",
    "There is a major difference between the two approaches which might help you to find the best for your case:\n",
    "The first approach is memory sparing since the whole raster does not need to be loaded in memory at once, which is necessary in the second approach. \n",
    "However, if your vector dataset contains many features, it might be much faster to go for the second approach since it is not necessary to loop through all the features in Python. \n",
    "\n",
    "Let's get stated and import the required modules. "
   ]
  },
  {
   "cell_type": "code",
   "execution_count": 1,
   "metadata": {},
   "outputs": [],
   "source": [
    "%load_ext autoreload\n",
    "%autoreload 2\n",
    "%matplotlib inline\n",
    "\n",
    "import fnmatch\n",
    "import geopandas as gpd\n",
    "import os\n",
    "import pandas as pd\n",
    "from pathlib import Path\n",
    "\n",
    "from eobox.raster import extraction\n",
    "from eobox.raster.extraction import convert_df_to_geodf\n",
    "from eobox import sampledata\n"
   ]
  },
  {
   "cell_type": "markdown",
   "metadata": {},
   "source": [
    "We now load a small sample dataset from which we can derive all requird arguments for running the ``extract`` function.\n",
    "\n",
    "Note that the sample dataset is S2 L1C that comes in different resolutions. \n",
    "Extraction from multiple resolutions is not supported and handling it is (so far) the responsibilit of the user.\n",
    "\n",
    "Here we only slect the 10m bands for extraction."
   ]
  },
  {
   "cell_type": "code",
   "execution_count": 2,
   "metadata": {},
   "outputs": [
    {
     "name": "stdout",
     "output_type": "stream",
     "text": [
      "***ARGUMENTS***\n",
      "\n",
      "src_vector:\n",
      "-----------\n",
      " - /home/ben/Devel/Packages/eo-box/eobox/sampledata/data/s2l1c/s2l1c_ref.gpkg\n",
      "\n",
      "dst_dir:\n",
      "--------\n",
      " - s2l1c_ref__s2l1c/s2_l1c/10m\n",
      "\n",
      "src_raster:\n",
      "-----------\n",
      " - /home/ben/Devel/Packages/eo-box/eobox/sampledata/data/s2l1c/IMG_DATA/T33UUU_20170216T102101_B08.jp2\n",
      " - /home/ben/Devel/Packages/eo-box/eobox/sampledata/data/s2l1c/IMG_DATA/T33UUU_20170216T102101_B02.jp2\n",
      " - /home/ben/Devel/Packages/eo-box/eobox/sampledata/data/s2l1c/IMG_DATA/T33UUU_20170216T102101_B03.jp2\n",
      " - /home/ben/Devel/Packages/eo-box/eobox/sampledata/data/s2l1c/IMG_DATA/T33UUU_20170216T102101_B04.jp2\n",
      "\n",
      "dst_names:\n",
      "----------\n",
      " - 20170216T102101_B08\n",
      " - 20170216T102101_B02\n",
      " - 20170216T102101_B03\n",
      " - 20170216T102101_B04\n",
      "\n",
      "***ARGUMENTS - END***\n"
     ]
    }
   ],
   "source": [
    "dataset = sampledata.get_dataset(\"s2l1c\")\n",
    "\n",
    "src_vector = dataset[\"vector_file\"]\n",
    "burn_attribute = \"pid\"  # should be unique for the polygons and not contain zero\n",
    "src_raster = fnmatch.filter(dataset[\"raster_files\"], \"*B0[2,3,4,8]*\")  # 10 m bands\n",
    "dst_names = [\"_\".join(Path(src).stem.split(\"_\")[1::]) for src in src_raster]\n",
    "extraction_dir = Path(\"s2l1c_ref__s2l1c/s2_l1c/10m\")\n",
    "\n",
    "print(\"***ARGUMENTS***\")\n",
    "print(\"\\nsrc_vector:\\n-----------\\n -\", src_vector)\n",
    "print(\"\\ndst_dir:\\n--------\\n -\", extraction_dir)\n",
    "print(\"\\nsrc_raster:\\n-----------\\n -\", \"\\n - \".join(src_raster))\n",
    "print(\"\\ndst_names:\\n----------\\n -\", \"\\n - \".join(dst_names))\n",
    "print(\"\\n***ARGUMENTS - END***\")"
   ]
  },
  {
   "cell_type": "markdown",
   "metadata": {},
   "source": [
    "The vector dataset looks as follows:"
   ]
  },
  {
   "cell_type": "code",
   "execution_count": 3,
   "metadata": {},
   "outputs": [
    {
     "data": {
      "text/plain": [
       "<matplotlib.axes._subplots.AxesSubplot at 0x7f20f4505c50>"
      ]
     },
     "execution_count": 3,
     "metadata": {},
     "output_type": "execute_result"
    },
    {
     "data": {
      "image/png": "[encoded data removed]",
      "text/plain": [
       "<Figure size 1296x576 with 1 Axes>"
      ]
     },
     "metadata": {
      "needs_background": "light"
     },
     "output_type": "display_data"
    }
   ],
   "source": [
    "gdf = gpd.read_file(src_vector)\n",
    "gdf.plot(column=\"cid\", figsize=(18, 8))"
   ]
  },
  {
   "cell_type": "markdown",
   "metadata": {},
   "source": [
    "Note that the *cid* column represents the classes water (*cid*:1) and forest (*cid*:2).\n",
    "Even though we are usually interested in such an attribute we use as burn attribute the *pid* column contains unique ids for the polygons.\n",
    "Using a unique id for each feature is recommended since it assures that for each extracted pixel the polygon it belongs to can easily been identified.\n",
    "We will see later that it is easy to merge the *cid* information or any other information of the vector data attribute table can easily be merged into the extrected data.\n",
    "\n",
    "But now let's do the extraction."
   ]
  },
  {
   "cell_type": "code",
   "execution_count": 4,
   "metadata": {},
   "outputs": [
    {
     "name": "stderr",
     "output_type": "stream",
     "text": [
      "100%|██████████| 4/4 [00:00<00:00, 11.67it/s]"
     ]
    },
    {
     "name": "stdout",
     "output_type": "stream",
     "text": [
      "CPU times: user 2.18 s, sys: 343 ms, total: 2.53 s\n",
      "Wall time: 397 ms\n"
     ]
    },
    {
     "name": "stderr",
     "output_type": "stream",
     "text": [
      "\n"
     ]
    },
    {
     "data": {
      "text/plain": [
       "0"
      ]
     },
     "execution_count": 4,
     "metadata": {},
     "output_type": "execute_result"
    }
   ],
   "source": [
    "%%time\n",
    "extraction.extract(src_vector=src_vector,\n",
    "                   burn_attribute=burn_attribute,\n",
    "                   src_raster=src_raster,\n",
    "                   dst_names=dst_names,\n",
    "                   dst_dir=extraction_dir)"
   ]
  },
  {
   "cell_type": "markdown",
   "metadata": {},
   "source": [
    "So what just happened? - Roughly the function made what was described above under the *rasterize*-way and stored the extracted data and some auxiliary information to .npy files:"
   ]
  },
  {
   "cell_type": "code",
   "execution_count": 5,
   "metadata": {},
   "outputs": [
    {
     "data": {
      "text/plain": [
       "[PosixPath('s2l1c_ref__s2l1c/s2_l1c/10m/aux_coord_x.npy'),\n",
       " PosixPath('s2l1c_ref__s2l1c/s2_l1c/10m/20170216T102101_B04.npy'),\n",
       " PosixPath('s2l1c_ref__s2l1c/s2_l1c/10m/20170216T102101_B02.npy'),\n",
       " PosixPath('s2l1c_ref__s2l1c/s2_l1c/10m/aux_coord_y.npy'),\n",
       " PosixPath('s2l1c_ref__s2l1c/s2_l1c/10m/20170216T102101_B08.npy'),\n",
       " PosixPath('s2l1c_ref__s2l1c/s2_l1c/10m/aux_vector_pid.npy'),\n",
       " PosixPath('s2l1c_ref__s2l1c/s2_l1c/10m/20170216T102101_B03.npy')]"
      ]
     },
     "execution_count": 5,
     "metadata": {},
     "output_type": "execute_result"
    }
   ],
   "source": [
    "list(extraction_dir.glob(\"*.npy\"))"
   ]
  },
  {
   "cell_type": "markdown",
   "metadata": {},
   "source": [
    "Note that the aux(iliary) variables are\n",
    "* *aux_coord_x*: the x coordinates of the pixels,\n",
    "* *aux_coord_y*: the y coordinates of the pixels,\n",
    "* *aux_coord_y*: the polygon id (here) or whatever attribute has been passed ``burn_attribute`` before.\n",
    "\n",
    "The rest of the variables contain the data extracted from the raster layers.\n",
    "\n",
    "* 20170216T102101_B02.npy\n",
    "* 20170216T102101_B03.npy\n",
    "* 20170216T102101_B04.npy\n",
    "* 20170216T102101_B08.npy\n",
    "\n",
    "It is worth noting that the function checks what has already been extracted by using the ``dst_names``. \n",
    "Thus, only the ``dst_names`` that alread exist are skipped.\n",
    "So far, it is the responsibility of the user to delete existing bands in case they should be re-extracted.\n",
    "\n",
    "With the the function ``load_extracted`` it is easy to load the data.\n",
    "It has a couple of options which returns different dataframes:\n",
    "\n",
    "* The defaults return all variable in columns."
   ]
  },
  {
   "cell_type": "markdown",
   "metadata": {},
   "source": [
    "* ``patterns`` can be used to load specific variables matching a list of patterns."
   ]
  },
  {
   "cell_type": "code",
   "execution_count": 6,
   "metadata": {},
   "outputs": [
    {
     "data": {
      "text/html": [
       "<div>\n",
       "<style scoped>\n",
       "    .dataframe tbody tr th:only-of-type {\n",
       "        vertical-align: middle;\n",
       "    }\n",
       "\n",
       "    .dataframe tbody tr th {\n",
       "        vertical-align: top;\n",
       "    }\n",
       "\n",
       "    .dataframe thead th {\n",
       "        text-align: right;\n",
       "    }\n",
       "</style>\n",
       "<table border=\"1\" class=\"dataframe\">\n",
       "  <thead>\n",
       "    <tr style=\"text-align: right;\">\n",
       "      <th></th>\n",
       "      <th>aux_coord_x</th>\n",
       "      <th>aux_coord_y</th>\n",
       "      <th>aux_vector_pid</th>\n",
       "    </tr>\n",
       "  </thead>\n",
       "  <tbody>\n",
       "    <tr>\n",
       "      <th>0</th>\n",
       "      <td>344545.0</td>\n",
       "      <td>5822035.0</td>\n",
       "      <td>17</td>\n",
       "    </tr>\n",
       "    <tr>\n",
       "      <th>1</th>\n",
       "      <td>344555.0</td>\n",
       "      <td>5822035.0</td>\n",
       "      <td>17</td>\n",
       "    </tr>\n",
       "    <tr>\n",
       "      <th>2</th>\n",
       "      <td>344615.0</td>\n",
       "      <td>5821885.0</td>\n",
       "      <td>6</td>\n",
       "    </tr>\n",
       "    <tr>\n",
       "      <th>3</th>\n",
       "      <td>344625.0</td>\n",
       "      <td>5821885.0</td>\n",
       "      <td>6</td>\n",
       "    </tr>\n",
       "    <tr>\n",
       "      <th>4</th>\n",
       "      <td>344615.0</td>\n",
       "      <td>5821875.0</td>\n",
       "      <td>6</td>\n",
       "    </tr>\n",
       "  </tbody>\n",
       "</table>\n",
       "</div>"
      ],
      "text/plain": [
       "   aux_coord_x  aux_coord_y  aux_vector_pid\n",
       "0     344545.0    5822035.0              17\n",
       "1     344555.0    5822035.0              17\n",
       "2     344615.0    5821885.0               6\n",
       "3     344625.0    5821885.0               6\n",
       "4     344615.0    5821875.0               6"
      ]
     },
     "execution_count": 6,
     "metadata": {},
     "output_type": "execute_result"
    }
   ],
   "source": [
    "extraction.load_extracted(extraction_dir, patterns=[\"aux_*.npy\"]).head()"
   ]
  },
  {
   "cell_type": "code",
   "execution_count": 7,
   "metadata": {},
   "outputs": [
    {
     "data": {
      "text/html": [
       "<div>\n",
       "<style scoped>\n",
       "    .dataframe tbody tr th:only-of-type {\n",
       "        vertical-align: middle;\n",
       "    }\n",
       "\n",
       "    .dataframe tbody tr th {\n",
       "        vertical-align: top;\n",
       "    }\n",
       "\n",
       "    .dataframe thead th {\n",
       "        text-align: right;\n",
       "    }\n",
       "</style>\n",
       "<table border=\"1\" class=\"dataframe\">\n",
       "  <thead>\n",
       "    <tr style=\"text-align: right;\">\n",
       "      <th></th>\n",
       "      <th>aux_vector_pid</th>\n",
       "      <th>20170216T102101_B04</th>\n",
       "      <th>20170216T102101_B02</th>\n",
       "      <th>20170216T102101_B08</th>\n",
       "      <th>20170216T102101_B03</th>\n",
       "    </tr>\n",
       "  </thead>\n",
       "  <tbody>\n",
       "    <tr>\n",
       "      <th>0</th>\n",
       "      <td>17</td>\n",
       "      <td>928</td>\n",
       "      <td>1456</td>\n",
       "      <td>672</td>\n",
       "      <td>1072</td>\n",
       "    </tr>\n",
       "    <tr>\n",
       "      <th>1</th>\n",
       "      <td>17</td>\n",
       "      <td>928</td>\n",
       "      <td>1392</td>\n",
       "      <td>672</td>\n",
       "      <td>1040</td>\n",
       "    </tr>\n",
       "    <tr>\n",
       "      <th>2</th>\n",
       "      <td>6</td>\n",
       "      <td>928</td>\n",
       "      <td>1456</td>\n",
       "      <td>608</td>\n",
       "      <td>1072</td>\n",
       "    </tr>\n",
       "    <tr>\n",
       "      <th>3</th>\n",
       "      <td>6</td>\n",
       "      <td>864</td>\n",
       "      <td>1424</td>\n",
       "      <td>608</td>\n",
       "      <td>1072</td>\n",
       "    </tr>\n",
       "    <tr>\n",
       "      <th>4</th>\n",
       "      <td>6</td>\n",
       "      <td>928</td>\n",
       "      <td>1424</td>\n",
       "      <td>608</td>\n",
       "      <td>1072</td>\n",
       "    </tr>\n",
       "  </tbody>\n",
       "</table>\n",
       "</div>"
      ],
      "text/plain": [
       "   aux_vector_pid  20170216T102101_B04  20170216T102101_B02  \\\n",
       "0              17                  928                 1456   \n",
       "1              17                  928                 1392   \n",
       "2               6                  928                 1456   \n",
       "3               6                  864                 1424   \n",
       "4               6                  928                 1424   \n",
       "\n",
       "   20170216T102101_B08  20170216T102101_B03  \n",
       "0                  672                 1072  \n",
       "1                  672                 1040  \n",
       "2                  608                 1072  \n",
       "3                  608                 1072  \n",
       "4                  608                 1072  "
      ]
     },
     "execution_count": 7,
     "metadata": {},
     "output_type": "execute_result"
    }
   ],
   "source": [
    "extraction.load_extracted(extraction_dir, patterns=[\"aux_vector_pid.npy\", \"*_B??.npy\"]).head()"
   ]
  },
  {
   "cell_type": "markdown",
   "metadata": {},
   "source": [
    "* ``vars_in_cols`` can be used to load the variables in the columns.\n",
    "  \n",
    "  This does not make so much sense here, but if you have e.g. a long time series of the NDVI and you want to make time series analysis you might want to have the dates in the rows. "
   ]
  },
  {
   "cell_type": "code",
   "execution_count": 8,
   "metadata": {},
   "outputs": [
    {
     "data": {
      "text/html": [
       "<div>\n",
       "<style scoped>\n",
       "    .dataframe tbody tr th:only-of-type {\n",
       "        vertical-align: middle;\n",
       "    }\n",
       "\n",
       "    .dataframe tbody tr th {\n",
       "        vertical-align: top;\n",
       "    }\n",
       "\n",
       "    .dataframe thead th {\n",
       "        text-align: right;\n",
       "    }\n",
       "</style>\n",
       "<table border=\"1\" class=\"dataframe\">\n",
       "  <thead>\n",
       "    <tr style=\"text-align: right;\">\n",
       "      <th></th>\n",
       "      <th>0</th>\n",
       "      <th>1</th>\n",
       "      <th>2</th>\n",
       "      <th>3</th>\n",
       "      <th>4</th>\n",
       "      <th>5</th>\n",
       "      <th>6</th>\n",
       "      <th>7</th>\n",
       "      <th>8</th>\n",
       "      <th>9</th>\n",
       "      <th>...</th>\n",
       "      <th>3490</th>\n",
       "      <th>3491</th>\n",
       "      <th>3492</th>\n",
       "      <th>3493</th>\n",
       "      <th>3494</th>\n",
       "      <th>3495</th>\n",
       "      <th>3496</th>\n",
       "      <th>3497</th>\n",
       "      <th>3498</th>\n",
       "      <th>3499</th>\n",
       "    </tr>\n",
       "  </thead>\n",
       "  <tbody>\n",
       "    <tr>\n",
       "      <th>20170216T102101_B04</th>\n",
       "      <td>928</td>\n",
       "      <td>928</td>\n",
       "      <td>928</td>\n",
       "      <td>864</td>\n",
       "      <td>928</td>\n",
       "      <td>864</td>\n",
       "      <td>864</td>\n",
       "      <td>864</td>\n",
       "      <td>864</td>\n",
       "      <td>928</td>\n",
       "      <td>...</td>\n",
       "      <td>880</td>\n",
       "      <td>912</td>\n",
       "      <td>880</td>\n",
       "      <td>848</td>\n",
       "      <td>848</td>\n",
       "      <td>848</td>\n",
       "      <td>816</td>\n",
       "      <td>816</td>\n",
       "      <td>816</td>\n",
       "      <td>816</td>\n",
       "    </tr>\n",
       "    <tr>\n",
       "      <th>20170216T102101_B02</th>\n",
       "      <td>1456</td>\n",
       "      <td>1392</td>\n",
       "      <td>1456</td>\n",
       "      <td>1424</td>\n",
       "      <td>1424</td>\n",
       "      <td>1424</td>\n",
       "      <td>1424</td>\n",
       "      <td>1392</td>\n",
       "      <td>1424</td>\n",
       "      <td>1392</td>\n",
       "      <td>...</td>\n",
       "      <td>1448</td>\n",
       "      <td>1464</td>\n",
       "      <td>1448</td>\n",
       "      <td>1432</td>\n",
       "      <td>1448</td>\n",
       "      <td>1480</td>\n",
       "      <td>1432</td>\n",
       "      <td>1448</td>\n",
       "      <td>1400</td>\n",
       "      <td>1400</td>\n",
       "    </tr>\n",
       "    <tr>\n",
       "      <th>20170216T102101_B08</th>\n",
       "      <td>672</td>\n",
       "      <td>672</td>\n",
       "      <td>608</td>\n",
       "      <td>608</td>\n",
       "      <td>608</td>\n",
       "      <td>608</td>\n",
       "      <td>608</td>\n",
       "      <td>608</td>\n",
       "      <td>608</td>\n",
       "      <td>608</td>\n",
       "      <td>...</td>\n",
       "      <td>624</td>\n",
       "      <td>656</td>\n",
       "      <td>592</td>\n",
       "      <td>560</td>\n",
       "      <td>592</td>\n",
       "      <td>592</td>\n",
       "      <td>592</td>\n",
       "      <td>560</td>\n",
       "      <td>560</td>\n",
       "      <td>560</td>\n",
       "    </tr>\n",
       "    <tr>\n",
       "      <th>20170216T102101_B03</th>\n",
       "      <td>1072</td>\n",
       "      <td>1040</td>\n",
       "      <td>1072</td>\n",
       "      <td>1072</td>\n",
       "      <td>1072</td>\n",
       "      <td>1072</td>\n",
       "      <td>1040</td>\n",
       "      <td>1040</td>\n",
       "      <td>1040</td>\n",
       "      <td>1072</td>\n",
       "      <td>...</td>\n",
       "      <td>1056</td>\n",
       "      <td>1120</td>\n",
       "      <td>1056</td>\n",
       "      <td>1056</td>\n",
       "      <td>1056</td>\n",
       "      <td>1056</td>\n",
       "      <td>1056</td>\n",
       "      <td>1056</td>\n",
       "      <td>1056</td>\n",
       "      <td>1056</td>\n",
       "    </tr>\n",
       "  </tbody>\n",
       "</table>\n",
       "<p>4 rows × 3500 columns</p>\n",
       "</div>"
      ],
      "text/plain": [
       "                     0     1     2     3     4     5     6     7     8     \\\n",
       "20170216T102101_B04   928   928   928   864   928   864   864   864   864   \n",
       "20170216T102101_B02  1456  1392  1456  1424  1424  1424  1424  1392  1424   \n",
       "20170216T102101_B08   672   672   608   608   608   608   608   608   608   \n",
       "20170216T102101_B03  1072  1040  1072  1072  1072  1072  1040  1040  1040   \n",
       "\n",
       "                     9     ...  3490  3491  3492  3493  3494  3495  3496  \\\n",
       "20170216T102101_B04   928  ...   880   912   880   848   848   848   816   \n",
       "20170216T102101_B02  1392  ...  1448  1464  1448  1432  1448  1480  1432   \n",
       "20170216T102101_B08   608  ...   624   656   592   560   592   592   592   \n",
       "20170216T102101_B03  1072  ...  1056  1120  1056  1056  1056  1056  1056   \n",
       "\n",
       "                     3497  3498  3499  \n",
       "20170216T102101_B04   816   816   816  \n",
       "20170216T102101_B02  1448  1400  1400  \n",
       "20170216T102101_B08   560   560   560  \n",
       "20170216T102101_B03  1056  1056  1056  \n",
       "\n",
       "[4 rows x 3500 columns]"
      ]
     },
     "execution_count": 8,
     "metadata": {},
     "output_type": "execute_result"
    }
   ],
   "source": [
    "extraction.load_extracted(extraction_dir, patterns=[\"*B??.npy\"], vars_in_cols=False).head()"
   ]
  },
  {
   "cell_type": "markdown",
   "metadata": {},
   "source": [
    "You can also get the *head* of the data loaded by ``load_extracted``, i.e. the first five rows."
   ]
  },
  {
   "cell_type": "code",
   "execution_count": 9,
   "metadata": {},
   "outputs": [
    {
     "data": {
      "text/html": [
       "<div>\n",
       "<style scoped>\n",
       "    .dataframe tbody tr th:only-of-type {\n",
       "        vertical-align: middle;\n",
       "    }\n",
       "\n",
       "    .dataframe tbody tr th {\n",
       "        vertical-align: top;\n",
       "    }\n",
       "\n",
       "    .dataframe thead th {\n",
       "        text-align: right;\n",
       "    }\n",
       "</style>\n",
       "<table border=\"1\" class=\"dataframe\">\n",
       "  <thead>\n",
       "    <tr style=\"text-align: right;\">\n",
       "      <th></th>\n",
       "      <th>0</th>\n",
       "      <th>1</th>\n",
       "      <th>2</th>\n",
       "      <th>3</th>\n",
       "      <th>4</th>\n",
       "      <th>5</th>\n",
       "    </tr>\n",
       "  </thead>\n",
       "  <tbody>\n",
       "    <tr>\n",
       "      <th>aux_coord_x</th>\n",
       "      <td>344545.0</td>\n",
       "      <td>344555.0</td>\n",
       "      <td>344615.0</td>\n",
       "      <td>344625.0</td>\n",
       "      <td>344615.0</td>\n",
       "      <td>344625.0</td>\n",
       "    </tr>\n",
       "    <tr>\n",
       "      <th>20170216T102101_B04</th>\n",
       "      <td>928.0</td>\n",
       "      <td>928.0</td>\n",
       "      <td>928.0</td>\n",
       "      <td>864.0</td>\n",
       "      <td>928.0</td>\n",
       "      <td>864.0</td>\n",
       "    </tr>\n",
       "    <tr>\n",
       "      <th>20170216T102101_B02</th>\n",
       "      <td>1456.0</td>\n",
       "      <td>1392.0</td>\n",
       "      <td>1456.0</td>\n",
       "      <td>1424.0</td>\n",
       "      <td>1424.0</td>\n",
       "      <td>1424.0</td>\n",
       "    </tr>\n",
       "    <tr>\n",
       "      <th>aux_coord_y</th>\n",
       "      <td>5822035.0</td>\n",
       "      <td>5822035.0</td>\n",
       "      <td>5821885.0</td>\n",
       "      <td>5821885.0</td>\n",
       "      <td>5821875.0</td>\n",
       "      <td>5821875.0</td>\n",
       "    </tr>\n",
       "    <tr>\n",
       "      <th>20170216T102101_B08</th>\n",
       "      <td>672.0</td>\n",
       "      <td>672.0</td>\n",
       "      <td>608.0</td>\n",
       "      <td>608.0</td>\n",
       "      <td>608.0</td>\n",
       "      <td>608.0</td>\n",
       "    </tr>\n",
       "    <tr>\n",
       "      <th>aux_vector_pid</th>\n",
       "      <td>17.0</td>\n",
       "      <td>17.0</td>\n",
       "      <td>6.0</td>\n",
       "      <td>6.0</td>\n",
       "      <td>6.0</td>\n",
       "      <td>6.0</td>\n",
       "    </tr>\n",
       "    <tr>\n",
       "      <th>20170216T102101_B03</th>\n",
       "      <td>1072.0</td>\n",
       "      <td>1040.0</td>\n",
       "      <td>1072.0</td>\n",
       "      <td>1072.0</td>\n",
       "      <td>1072.0</td>\n",
       "      <td>1072.0</td>\n",
       "    </tr>\n",
       "  </tbody>\n",
       "</table>\n",
       "</div>"
      ],
      "text/plain": [
       "                             0          1          2          3          4  \\\n",
       "aux_coord_x           344545.0   344555.0   344615.0   344625.0   344615.0   \n",
       "20170216T102101_B04      928.0      928.0      928.0      864.0      928.0   \n",
       "20170216T102101_B02     1456.0     1392.0     1456.0     1424.0     1424.0   \n",
       "aux_coord_y          5822035.0  5822035.0  5821885.0  5821885.0  5821875.0   \n",
       "20170216T102101_B08      672.0      672.0      608.0      608.0      608.0   \n",
       "aux_vector_pid            17.0       17.0        6.0        6.0        6.0   \n",
       "20170216T102101_B03     1072.0     1040.0     1072.0     1072.0     1072.0   \n",
       "\n",
       "                             5  \n",
       "aux_coord_x           344625.0  \n",
       "20170216T102101_B04      864.0  \n",
       "20170216T102101_B02     1424.0  \n",
       "aux_coord_y          5821875.0  \n",
       "20170216T102101_B08      608.0  \n",
       "aux_vector_pid             6.0  \n",
       "20170216T102101_B03     1072.0  "
      ]
     },
     "execution_count": 9,
     "metadata": {},
     "output_type": "execute_result"
    }
   ],
   "source": [
    "extraction.load_extracted(extraction_dir, vars_in_cols=False, head=True)"
   ]
  },
  {
   "cell_type": "markdown",
   "metadata": {},
   "source": [
    "And finally you can convert the data to a geodataframe."
   ]
  },
  {
   "cell_type": "code",
   "execution_count": 11,
   "metadata": {},
   "outputs": [
    {
     "data": {
      "text/plain": [
       "<matplotlib.axes._subplots.AxesSubplot at 0x7f20bc8b81d0>"
      ]
     },
     "execution_count": 11,
     "metadata": {},
     "output_type": "execute_result"
    },
    {
     "data": {
      "image/png": "[encoded data removed]",
      "text/plain": [
       "<Figure size 1440x864 with 1 Axes>"
      ]
     },
     "metadata": {
      "needs_background": "light"
     },
     "output_type": "display_data"
    }
   ],
   "source": [
    "df_extracted = extraction.load_extracted(extraction_dir, patterns=[\"aux_*.npy\", \"*_B??.npy\"])\n",
    "gdf_extracted = convert_df_to_geodf(df_extracted, crs=extraction_dir)\n",
    "gdf_extracted.plot(column='aux_vector_pid', marker='x', figsize=(20, 12))"
   ]
  },
  {
   "cell_type": "markdown",
   "metadata": {},
   "source": [
    "It has been said above that it is easy to join the extracted values to the values stored in the attribute table of the vector file."
   ]
  },
  {
   "cell_type": "code",
   "execution_count": 12,
   "metadata": {},
   "outputs": [
    {
     "data": {
      "text/html": [
       "<div>\n",
       "<style scoped>\n",
       "    .dataframe tbody tr th:only-of-type {\n",
       "        vertical-align: middle;\n",
       "    }\n",
       "\n",
       "    .dataframe tbody tr th {\n",
       "        vertical-align: top;\n",
       "    }\n",
       "\n",
       "    .dataframe thead th {\n",
       "        text-align: right;\n",
       "    }\n",
       "</style>\n",
       "<table border=\"1\" class=\"dataframe\">\n",
       "  <thead>\n",
       "    <tr style=\"text-align: right;\">\n",
       "      <th></th>\n",
       "      <th>aux_coord_x</th>\n",
       "      <th>aux_coord_y</th>\n",
       "      <th>aux_vector_pid</th>\n",
       "      <th>20170216T102101_B04</th>\n",
       "      <th>20170216T102101_B02</th>\n",
       "      <th>20170216T102101_B08</th>\n",
       "      <th>20170216T102101_B03</th>\n",
       "      <th>geometry</th>\n",
       "      <th>pid</th>\n",
       "      <th>cid</th>\n",
       "      <th>comment</th>\n",
       "    </tr>\n",
       "  </thead>\n",
       "  <tbody>\n",
       "    <tr>\n",
       "      <th>0</th>\n",
       "      <td>344545.0</td>\n",
       "      <td>5822035.0</td>\n",
       "      <td>17</td>\n",
       "      <td>928</td>\n",
       "      <td>1456</td>\n",
       "      <td>672</td>\n",
       "      <td>1072</td>\n",
       "      <td>POINT (344545 5822035)</td>\n",
       "      <td>17</td>\n",
       "      <td>1</td>\n",
       "      <td>partially out; expecting: 2 - with default ras...</td>\n",
       "    </tr>\n",
       "    <tr>\n",
       "      <th>1</th>\n",
       "      <td>344555.0</td>\n",
       "      <td>5822035.0</td>\n",
       "      <td>17</td>\n",
       "      <td>928</td>\n",
       "      <td>1392</td>\n",
       "      <td>672</td>\n",
       "      <td>1040</td>\n",
       "      <td>POINT (344555 5822035)</td>\n",
       "      <td>17</td>\n",
       "      <td>1</td>\n",
       "      <td>partially out; expecting: 2 - with default ras...</td>\n",
       "    </tr>\n",
       "    <tr>\n",
       "      <th>2</th>\n",
       "      <td>344615.0</td>\n",
       "      <td>5821885.0</td>\n",
       "      <td>6</td>\n",
       "      <td>928</td>\n",
       "      <td>1456</td>\n",
       "      <td>608</td>\n",
       "      <td>1072</td>\n",
       "      <td>POINT (344615 5821885)</td>\n",
       "      <td>6</td>\n",
       "      <td>1</td>\n",
       "      <td>None</td>\n",
       "    </tr>\n",
       "    <tr>\n",
       "      <th>3</th>\n",
       "      <td>344625.0</td>\n",
       "      <td>5821885.0</td>\n",
       "      <td>6</td>\n",
       "      <td>864</td>\n",
       "      <td>1424</td>\n",
       "      <td>608</td>\n",
       "      <td>1072</td>\n",
       "      <td>POINT (344625 5821885)</td>\n",
       "      <td>6</td>\n",
       "      <td>1</td>\n",
       "      <td>None</td>\n",
       "    </tr>\n",
       "    <tr>\n",
       "      <th>4</th>\n",
       "      <td>344615.0</td>\n",
       "      <td>5821875.0</td>\n",
       "      <td>6</td>\n",
       "      <td>928</td>\n",
       "      <td>1424</td>\n",
       "      <td>608</td>\n",
       "      <td>1072</td>\n",
       "      <td>POINT (344615 5821875)</td>\n",
       "      <td>6</td>\n",
       "      <td>1</td>\n",
       "      <td>None</td>\n",
       "    </tr>\n",
       "  </tbody>\n",
       "</table>\n",
       "</div>"
      ],
      "text/plain": [
       "   aux_coord_x  aux_coord_y  aux_vector_pid  20170216T102101_B04  \\\n",
       "0     344545.0    5822035.0              17                  928   \n",
       "1     344555.0    5822035.0              17                  928   \n",
       "2     344615.0    5821885.0               6                  928   \n",
       "3     344625.0    5821885.0               6                  864   \n",
       "4     344615.0    5821875.0               6                  928   \n",
       "\n",
       "   20170216T102101_B02  20170216T102101_B08  20170216T102101_B03  \\\n",
       "0                 1456                  672                 1072   \n",
       "1                 1392                  672                 1040   \n",
       "2                 1456                  608                 1072   \n",
       "3                 1424                  608                 1072   \n",
       "4                 1424                  608                 1072   \n",
       "\n",
       "                 geometry  pid  cid  \\\n",
       "0  POINT (344545 5822035)   17    1   \n",
       "1  POINT (344555 5822035)   17    1   \n",
       "2  POINT (344615 5821885)    6    1   \n",
       "3  POINT (344625 5821885)    6    1   \n",
       "4  POINT (344615 5821875)    6    1   \n",
       "\n",
       "                                             comment  \n",
       "0  partially out; expecting: 2 - with default ras...  \n",
       "1  partially out; expecting: 2 - with default ras...  \n",
       "2                                               None  \n",
       "3                                               None  \n",
       "4                                               None  "
      ]
     },
     "execution_count": 12,
     "metadata": {},
     "output_type": "execute_result"
    }
   ],
   "source": [
    "df_extracted = df_extracted.merge(gdf[[\"pid\", \"cid\", \"comment\"]], how=\"left\", left_on=\"aux_vector_pid\", right_on=\"pid\")\n",
    "df_extracted.head()"
   ]
  },
  {
   "cell_type": "markdown",
   "metadata": {},
   "source": [
    "And now you can start analyzing the data."
   ]
  },
  {
   "cell_type": "code",
   "execution_count": 13,
   "metadata": {},
   "outputs": [
    {
     "data": {
      "image/png": "[encoded data removed]",
      "text/plain": [
       "<Figure size 1440x432 with 4 Axes>"
      ]
     },
     "metadata": {
      "needs_background": "light"
     },
     "output_type": "display_data"
    }
   ],
   "source": [
    "import matplotlib.pyplot as plt\n",
    "fig, axes = plt.subplots(1, 4, figsize=(20, 6))\n",
    "for ax, var in zip(axes.flatten(), [\"20170216T102101_B02\", \"20170216T102101_B03\", \"20170216T102101_B04\", \"20170216T102101_B08\"]):\n",
    "    df_extracted.boxplot(column=var, by=\"cid\", ax=ax)"
   ]
  }
 ],
 "metadata": {
  "kernelspec": {
   "display_name": "Python 3",
   "language": "python",
   "name": "python3"
  },
  "language_info": {
   "codemirror_mode": {
    "name": "ipython",
    "version": 3
   },
   "file_extension": ".py",
   "mimetype": "text/x-python",
   "name": "python",
   "nbconvert_exporter": "python",
   "pygments_lexer": "ipython3",
   "version": "3.6.8"
  }
 },
 "nbformat": 4,
 "nbformat_minor": 2
}
