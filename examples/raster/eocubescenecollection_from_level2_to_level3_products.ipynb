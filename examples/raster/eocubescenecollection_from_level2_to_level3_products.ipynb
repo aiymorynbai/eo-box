{
 "cells": [
  {
   "cell_type": "markdown",
   "metadata": {},
   "source": [
    "# ``EOCubeSceneCollection`` - from level-2 to level-3 products\n",
    "\n",
    "``EOCubeSceneCollection`` and ``EOCubeSceneCollectionChunk`` are similar to ``EOCube`` and ``EOCubeChunk`` and have basically all the functionality of these classes but some more specific functionality and behavious.\n",
    "\n",
    "While ``EOCube`` and ``EOCubeChunk`` do not make any assumption about the input data, ``EOCubeSceneCollection`` and ``EOCubeSceneCollectionChunk`` assume that the input is a collection (usally time series) of scenes where each scene consists of the same bands (including a quality assessment layer). \n",
    "\n",
    "In the Sentinel-2 / Landsat context, the atmospherically corrected single scene data is often refered to Level-2. \n",
    "Level-3 data products are usually derived from time series of lewer level products with the goal to get spatially-contiguous and missing data / gap free products. \n",
    "Such products are:\n",
    "\n",
    "* temporal statistical metrics, e.g. median\n",
    "* virtual time series derived from interpolation\n",
    "* best available pixel composites\n",
    "* ...\n",
    "\n",
    "This tutorial shows how to derive virtual time series with ``EOCubeSceneCollection``.\n",
    "\n",
    "First we load the packages required in this tutorial."
   ]
  },
  {
   "cell_type": "code",
   "execution_count": 1,
   "metadata": {},
   "outputs": [],
   "source": [
    "%load_ext autoreload\n",
    "%autoreload 2\n",
    "\n",
    "import numpy as np\n",
    "import pandas as pd\n",
    "from pathlib import Path\n",
    "import rasterio\n",
    "import seaborn as sns\n",
    "\n",
    "# from eobox.raster import MultiRasterIO\n",
    "from eobox import sampledata\n",
    "from eobox.raster import cube\n",
    "from eobox.raster import gdalutils\n",
    "\n",
    "from eobox.raster.utils import cleanup_df_values_for_given_dtype\n",
    "from eobox.raster.utils import dtype_checker_df"
   ]
  },
  {
   "cell_type": "markdown",
   "metadata": {},
   "source": [
    "## Sample dataset\n",
    "\n",
    "Lets get some typical dataset to make it more tangible what we are talking about."
   ]
  },
  {
   "cell_type": "code",
   "execution_count": 2,
   "metadata": {},
   "outputs": [],
   "source": [
    "def get_sampledata(year):\n",
    "    dataset = sampledata.get_dataset(\"lsts\")\n",
    "    layers_paths = [Path(p) for p in dataset[\"raster_files\"]]\n",
    "    layers_df = pd.Series([p.stem for p in layers_paths]).str.split(\"_\", expand=True) \\\n",
    "    .rename({0: \"sceneid\", 1:\"band\"}, axis=1)\n",
    "\n",
    "    layers_df[\"date\"] = pd.to_datetime(layers_df.sceneid.str[9:16], format=\"%Y%j\")\n",
    "    layers_df[\"uname\"] = layers_df.sceneid.str[:3] + \"_\" + layers_df.date.dt.strftime(\"%Y-%m-%d\") + \"_\" + layers_df.band.str[::] \n",
    "    layers_df[\"path\"] = layers_paths\n",
    "\n",
    "    layers_df = layers_df.sort_values([\"date\", \"band\"])\n",
    "    layers_df = layers_df.reset_index(drop=True)\n",
    "\n",
    "    layers_df_year = layers_df[(layers_df.date >= str(year)) & (layers_df.date < str(year+1))]\n",
    "    layers_df_year = layers_df_year.reset_index(drop=True)\n",
    "    return layers_df_year"
   ]
  },
  {
   "cell_type": "markdown",
   "metadata": {},
   "source": [
    "The sample data we are loading here contains 23 scenes each of which consists of three bands (*b3*, *b4*, *b5*) and a QA (quality assessment) band (here *fmask*).\n",
    "This is a typical starting point for nowadays *using-all-available-pixels* EO analysis tasks. "
   ]
  },
  {
   "cell_type": "code",
   "execution_count": 3,
   "metadata": {},
   "outputs": [
    {
     "data": {
      "text/html": [
       "<div>\n",
       "<style scoped>\n",
       "    .dataframe tbody tr th:only-of-type {\n",
       "        vertical-align: middle;\n",
       "    }\n",
       "\n",
       "    .dataframe tbody tr th {\n",
       "        vertical-align: top;\n",
       "    }\n",
       "\n",
       "    .dataframe thead th {\n",
       "        text-align: right;\n",
       "    }\n",
       "</style>\n",
       "<table border=\"1\" class=\"dataframe\">\n",
       "  <thead>\n",
       "    <tr style=\"text-align: right;\">\n",
       "      <th></th>\n",
       "      <th>sceneid</th>\n",
       "      <th>band</th>\n",
       "      <th>date</th>\n",
       "      <th>uname</th>\n",
       "      <th>path</th>\n",
       "    </tr>\n",
       "  </thead>\n",
       "  <tbody>\n",
       "    <tr>\n",
       "      <th>0</th>\n",
       "      <td>LT50350322008110PAC01</td>\n",
       "      <td>b3</td>\n",
       "      <td>2008-04-19</td>\n",
       "      <td>LT5_2008-04-19_b3</td>\n",
       "      <td>/home/ben/Devel/Packages/eo-box/eobox/sampleda...</td>\n",
       "    </tr>\n",
       "    <tr>\n",
       "      <th>1</th>\n",
       "      <td>LT50350322008110PAC01</td>\n",
       "      <td>b4</td>\n",
       "      <td>2008-04-19</td>\n",
       "      <td>LT5_2008-04-19_b4</td>\n",
       "      <td>/home/ben/Devel/Packages/eo-box/eobox/sampleda...</td>\n",
       "    </tr>\n",
       "    <tr>\n",
       "      <th>2</th>\n",
       "      <td>LT50350322008110PAC01</td>\n",
       "      <td>b5</td>\n",
       "      <td>2008-04-19</td>\n",
       "      <td>LT5_2008-04-19_b5</td>\n",
       "      <td>/home/ben/Devel/Packages/eo-box/eobox/sampleda...</td>\n",
       "    </tr>\n",
       "    <tr>\n",
       "      <th>3</th>\n",
       "      <td>LT50350322008110PAC01</td>\n",
       "      <td>fmask</td>\n",
       "      <td>2008-04-19</td>\n",
       "      <td>LT5_2008-04-19_fmask</td>\n",
       "      <td>/home/ben/Devel/Packages/eo-box/eobox/sampleda...</td>\n",
       "    </tr>\n",
       "    <tr>\n",
       "      <th>4</th>\n",
       "      <td>LE70350322008118EDC00</td>\n",
       "      <td>b3</td>\n",
       "      <td>2008-04-27</td>\n",
       "      <td>LE7_2008-04-27_b3</td>\n",
       "      <td>/home/ben/Devel/Packages/eo-box/eobox/sampleda...</td>\n",
       "    </tr>\n",
       "  </tbody>\n",
       "</table>\n",
       "</div>"
      ],
      "text/plain": [
       "                 sceneid   band       date                 uname  \\\n",
       "0  LT50350322008110PAC01     b3 2008-04-19     LT5_2008-04-19_b3   \n",
       "1  LT50350322008110PAC01     b4 2008-04-19     LT5_2008-04-19_b4   \n",
       "2  LT50350322008110PAC01     b5 2008-04-19     LT5_2008-04-19_b5   \n",
       "3  LT50350322008110PAC01  fmask 2008-04-19  LT5_2008-04-19_fmask   \n",
       "4  LE70350322008118EDC00     b3 2008-04-27     LE7_2008-04-27_b3   \n",
       "\n",
       "                                                path  \n",
       "0  /home/ben/Devel/Packages/eo-box/eobox/sampleda...  \n",
       "1  /home/ben/Devel/Packages/eo-box/eobox/sampleda...  \n",
       "2  /home/ben/Devel/Packages/eo-box/eobox/sampleda...  \n",
       "3  /home/ben/Devel/Packages/eo-box/eobox/sampleda...  \n",
       "4  /home/ben/Devel/Packages/eo-box/eobox/sampleda...  "
      ]
     },
     "metadata": {},
     "output_type": "display_data"
    },
    {
     "data": {
      "text/html": [
       "<div>\n",
       "<style scoped>\n",
       "    .dataframe tbody tr th:only-of-type {\n",
       "        vertical-align: middle;\n",
       "    }\n",
       "\n",
       "    .dataframe tbody tr th {\n",
       "        vertical-align: top;\n",
       "    }\n",
       "\n",
       "    .dataframe thead th {\n",
       "        text-align: right;\n",
       "    }\n",
       "</style>\n",
       "<table border=\"1\" class=\"dataframe\">\n",
       "  <thead>\n",
       "    <tr style=\"text-align: right;\">\n",
       "      <th></th>\n",
       "      <th>sceneid</th>\n",
       "      <th>band</th>\n",
       "      <th>date</th>\n",
       "      <th>uname</th>\n",
       "      <th>path</th>\n",
       "    </tr>\n",
       "  </thead>\n",
       "  <tbody>\n",
       "    <tr>\n",
       "      <th>91</th>\n",
       "      <td>LE70350322008342EDC00</td>\n",
       "      <td>fmask</td>\n",
       "      <td>2008-12-07</td>\n",
       "      <td>LE7_2008-12-07_fmask</td>\n",
       "      <td>/home/ben/Devel/Packages/eo-box/eobox/sampleda...</td>\n",
       "    </tr>\n",
       "  </tbody>\n",
       "</table>\n",
       "</div>"
      ],
      "text/plain": [
       "                  sceneid   band       date                 uname  \\\n",
       "91  LE70350322008342EDC00  fmask 2008-12-07  LE7_2008-12-07_fmask   \n",
       "\n",
       "                                                 path  \n",
       "91  /home/ben/Devel/Packages/eo-box/eobox/sampleda...  "
      ]
     },
     "metadata": {},
     "output_type": "display_data"
    },
    {
     "data": {
      "text/plain": [
       "b4       23\n",
       "fmask    23\n",
       "b5       23\n",
       "b3       23\n",
       "Name: band, dtype: int64"
      ]
     },
     "execution_count": 3,
     "metadata": {},
     "output_type": "execute_result"
    }
   ],
   "source": [
    "df_layers = get_sampledata(2008)\n",
    "display(df_layers.head())\n",
    "display(df_layers.tail(1))\n",
    "df_layers.band.value_counts()"
   ]
  },
  {
   "cell_type": "markdown",
   "metadata": {},
   "source": [
    "## ``EOCubeSceneCollection``\n",
    "\n",
    "### Initialization\n",
    "\n",
    "Typically we want to derive temporal features from these kind of dataset which involves masking out invalid pixels.\n",
    "Invalid pixels are typically covered by clouds, cloud shadows, saturated data, pixels which are outside the the sensed area, snow, etc.\n",
    "Usually, these categories are usually included in the QA layer.\n",
    "\n",
    "For example, *fmask* is a typical Landsat QA-like (or pre classification) layer which has the following categories:\n",
    "\n",
    "      0 - clear land\n",
    "      1 - clear water\n",
    "      2 - cloud\n",
    "      3 - snow\n",
    "      4 - shadow\n",
    "    255 - NoData"
   ]
  },
  {
   "cell_type": "markdown",
   "metadata": {},
   "source": [
    "As a result we initialize the ``EOCubeSceneCollection`` as follows:"
   ]
  },
  {
   "cell_type": "code",
   "execution_count": 4,
   "metadata": {},
   "outputs": [
    {
     "data": {
      "text/html": [
       "<div>\n",
       "<style scoped>\n",
       "    .dataframe tbody tr th:only-of-type {\n",
       "        vertical-align: middle;\n",
       "    }\n",
       "\n",
       "    .dataframe tbody tr th {\n",
       "        vertical-align: top;\n",
       "    }\n",
       "\n",
       "    .dataframe thead th {\n",
       "        text-align: right;\n",
       "    }\n",
       "</style>\n",
       "<table border=\"1\" class=\"dataframe\">\n",
       "  <thead>\n",
       "    <tr style=\"text-align: right;\">\n",
       "      <th></th>\n",
       "      <th>sceneid</th>\n",
       "      <th>band</th>\n",
       "      <th>date</th>\n",
       "      <th>uname</th>\n",
       "      <th>path</th>\n",
       "    </tr>\n",
       "  </thead>\n",
       "  <tbody>\n",
       "    <tr>\n",
       "      <th>0</th>\n",
       "      <td>LT50350322008110PAC01</td>\n",
       "      <td>b3</td>\n",
       "      <td>2008-04-19</td>\n",
       "      <td>LT5_2008-04-19_b3</td>\n",
       "      <td>/home/ben/Devel/Packages/eo-box/eobox/sampleda...</td>\n",
       "    </tr>\n",
       "    <tr>\n",
       "      <th>1</th>\n",
       "      <td>LT50350322008110PAC01</td>\n",
       "      <td>b4</td>\n",
       "      <td>2008-04-19</td>\n",
       "      <td>LT5_2008-04-19_b4</td>\n",
       "      <td>/home/ben/Devel/Packages/eo-box/eobox/sampleda...</td>\n",
       "    </tr>\n",
       "    <tr>\n",
       "      <th>2</th>\n",
       "      <td>LT50350322008110PAC01</td>\n",
       "      <td>b5</td>\n",
       "      <td>2008-04-19</td>\n",
       "      <td>LT5_2008-04-19_b5</td>\n",
       "      <td>/home/ben/Devel/Packages/eo-box/eobox/sampleda...</td>\n",
       "    </tr>\n",
       "    <tr>\n",
       "      <th>3</th>\n",
       "      <td>LT50350322008110PAC01</td>\n",
       "      <td>fmask</td>\n",
       "      <td>2008-04-19</td>\n",
       "      <td>LT5_2008-04-19_fmask</td>\n",
       "      <td>/home/ben/Devel/Packages/eo-box/eobox/sampleda...</td>\n",
       "    </tr>\n",
       "    <tr>\n",
       "      <th>4</th>\n",
       "      <td>LE70350322008118EDC00</td>\n",
       "      <td>b3</td>\n",
       "      <td>2008-04-27</td>\n",
       "      <td>LE7_2008-04-27_b3</td>\n",
       "      <td>/home/ben/Devel/Packages/eo-box/eobox/sampleda...</td>\n",
       "    </tr>\n",
       "  </tbody>\n",
       "</table>\n",
       "</div>"
      ],
      "text/plain": [
       "                 sceneid   band       date                 uname  \\\n",
       "0  LT50350322008110PAC01     b3 2008-04-19     LT5_2008-04-19_b3   \n",
       "1  LT50350322008110PAC01     b4 2008-04-19     LT5_2008-04-19_b4   \n",
       "2  LT50350322008110PAC01     b5 2008-04-19     LT5_2008-04-19_b5   \n",
       "3  LT50350322008110PAC01  fmask 2008-04-19  LT5_2008-04-19_fmask   \n",
       "4  LE70350322008118EDC00     b3 2008-04-27     LE7_2008-04-27_b3   \n",
       "\n",
       "                                                path  \n",
       "0  /home/ben/Devel/Packages/eo-box/eobox/sampleda...  \n",
       "1  /home/ben/Devel/Packages/eo-box/eobox/sampleda...  \n",
       "2  /home/ben/Devel/Packages/eo-box/eobox/sampleda...  \n",
       "3  /home/ben/Devel/Packages/eo-box/eobox/sampleda...  \n",
       "4  /home/ben/Devel/Packages/eo-box/eobox/sampleda...  "
      ]
     },
     "execution_count": 4,
     "metadata": {},
     "output_type": "execute_result"
    }
   ],
   "source": [
    "df_layers=df_layers\n",
    "chunksize=2**5\n",
    "variables=[\"b3\", \"b4\", \"b5\"]\n",
    "qa=\"fmask\"\n",
    "qa_valid=[0, 1]\n",
    "\n",
    "scoll = cube.EOCubeSceneCollection(df_layers=df_layers, \n",
    "                                   chunksize=chunksize, \n",
    "                                   variables=variables, \n",
    "                                   qa=qa, \n",
    "                                   qa_valid=qa_valid \n",
    "                                  )\n",
    "scoll.df_layers.head()"
   ]
  },
  {
   "cell_type": "markdown",
   "metadata": {},
   "source": [
    "### Calculation of level-3 features\n",
    "\n",
    "#### Virtual time series"
   ]
  },
  {
   "cell_type": "code",
   "execution_count": 5,
   "metadata": {},
   "outputs": [
    {
     "name": "stderr",
     "output_type": "stream",
     "text": [
      " 67%|██████▋   | 2/3 [00:08<00:04,  4.21s/it]\n"
     ]
    },
    {
     "ename": "KeyboardInterrupt",
     "evalue": "",
     "output_type": "error",
     "traceback": [
      "\u001b[0;31m-----------------------\u001b[0m",
      "\u001b[0;31mKeyboardInterrupt\u001b[0mTraceback (most recent call last)",
      "\u001b[0;32m<ipython-input-5-c659cc47df03>\u001b[0m in \u001b[0;36m<module>\u001b[0;34m\u001b[0m\n\u001b[1;32m     11\u001b[0m                                  \u001b[0mcompress\u001b[0m\u001b[0;34m=\u001b[0m\u001b[0;34m\"lzw\"\u001b[0m\u001b[0;34m,\u001b[0m\u001b[0;34m\u001b[0m\u001b[0;34m\u001b[0m\u001b[0m\n\u001b[1;32m     12\u001b[0m                                  \u001b[0mnodata\u001b[0m\u001b[0;34m=\u001b[0m\u001b[0;32mNone\u001b[0m\u001b[0;34m,\u001b[0m\u001b[0;34m\u001b[0m\u001b[0;34m\u001b[0m\u001b[0m\n\u001b[0;32m---> 13\u001b[0;31m                                  num_workers=8)\n\u001b[0m",
      "\u001b[0;32m~/Devel/Packages/eo-box/eobox/raster/cube.py\u001b[0m in \u001b[0;36mcreate_virtual_time_series\u001b[0;34m(self, idx_virtual, dst_pattern, dtypes, compress, nodata, num_workers)\u001b[0m\n\u001b[1;32m    489\u001b[0m                                          \u001b[0midx_virtual\u001b[0m\u001b[0;34m=\u001b[0m\u001b[0midx_virtual\u001b[0m\u001b[0;34m,\u001b[0m\u001b[0;34m\u001b[0m\u001b[0;34m\u001b[0m\u001b[0m\n\u001b[1;32m    490\u001b[0m                                          \u001b[0mnum_workers\u001b[0m\u001b[0;34m=\u001b[0m\u001b[0mnum_workers\u001b[0m\u001b[0;34m,\u001b[0m\u001b[0;34m\u001b[0m\u001b[0;34m\u001b[0m\u001b[0m\n\u001b[0;32m--> 491\u001b[0;31m                                          verbosity=0)\n\u001b[0m\u001b[1;32m    492\u001b[0m \u001b[0;34m\u001b[0m\u001b[0m\n\u001b[1;32m    493\u001b[0m \u001b[0;34m\u001b[0m\u001b[0m\n",
      "\u001b[0;32m~/Devel/Packages/eo-box/eobox/raster/cube.py\u001b[0m in \u001b[0;36mapply_and_write_by_variable\u001b[0;34m(self, fun, dst_paths, dtypes, compress, nodata, **kwargs)\u001b[0m\n\u001b[1;32m    452\u001b[0m             \u001b[0;32mfor\u001b[0m \u001b[0mvar\u001b[0m \u001b[0;32min\u001b[0m \u001b[0mself\u001b[0m\u001b[0;34m.\u001b[0m\u001b[0mvariables\u001b[0m\u001b[0;34m:\u001b[0m\u001b[0;34m\u001b[0m\u001b[0;34m\u001b[0m\u001b[0m\n\u001b[1;32m    453\u001b[0m                 \u001b[0;32mif\u001b[0m \u001b[0mji\u001b[0m \u001b[0;32min\u001b[0m \u001b[0mji_process\u001b[0m\u001b[0;34m[\u001b[0m\u001b[0mvar\u001b[0m\u001b[0;34m]\u001b[0m\u001b[0;34m:\u001b[0m\u001b[0;34m\u001b[0m\u001b[0;34m\u001b[0m\u001b[0m\n\u001b[0;32m--> 454\u001b[0;31m                     \u001b[0mresults\u001b[0m\u001b[0;34m[\u001b[0m\u001b[0mvar\u001b[0m\u001b[0;34m]\u001b[0m \u001b[0;34m=\u001b[0m \u001b[0mfun\u001b[0m\u001b[0;34m(\u001b[0m\u001b[0meoc_chunk\u001b[0m\u001b[0;34m.\u001b[0m\u001b[0mdata\u001b[0m\u001b[0;34m[\u001b[0m\u001b[0mvar\u001b[0m\u001b[0;34m]\u001b[0m\u001b[0;34m,\u001b[0m \u001b[0;34m**\u001b[0m\u001b[0mkwargs\u001b[0m\u001b[0;34m)\u001b[0m\u001b[0;34m\u001b[0m\u001b[0;34m\u001b[0m\u001b[0m\n\u001b[0m\u001b[1;32m    455\u001b[0m                     results[var] = cleanup_df_values_for_given_dtype(results[var],\n\u001b[1;32m    456\u001b[0m                                                                      \u001b[0mdtype\u001b[0m\u001b[0;34m=\u001b[0m\u001b[0mdtypes\u001b[0m\u001b[0;34m[\u001b[0m\u001b[0mvar\u001b[0m\u001b[0;34m]\u001b[0m\u001b[0;34m,\u001b[0m\u001b[0;34m\u001b[0m\u001b[0;34m\u001b[0m\u001b[0m\n",
      "\u001b[0;32m~/Devel/Packages/eo-box/eobox/raster/cube.py\u001b[0m in \u001b[0;36mcreate_virtual_time_series\u001b[0;34m(df_var, idx_virtual, num_workers, verbosity)\u001b[0m\n\u001b[1;32m    610\u001b[0m                                           \u001b[0midx_virtual\u001b[0m\u001b[0;34m=\u001b[0m\u001b[0midx_virtual\u001b[0m\u001b[0;34m,\u001b[0m\u001b[0;34m\u001b[0m\u001b[0;34m\u001b[0m\u001b[0m\n\u001b[1;32m    611\u001b[0m                                           verbosity=verbosity)\n\u001b[0;32m--> 612\u001b[0;31m         \u001b[0mdf_result\u001b[0m \u001b[0;34m=\u001b[0m \u001b[0mdf_result\u001b[0m\u001b[0;34m.\u001b[0m\u001b[0mcompute\u001b[0m\u001b[0;34m(\u001b[0m\u001b[0mscheduler\u001b[0m\u001b[0;34m=\u001b[0m\u001b[0;34m'processes'\u001b[0m\u001b[0;34m,\u001b[0m \u001b[0mnum_workers\u001b[0m\u001b[0;34m=\u001b[0m\u001b[0mnum_workers\u001b[0m\u001b[0;34m)\u001b[0m\u001b[0;34m\u001b[0m\u001b[0;34m\u001b[0m\u001b[0m\n\u001b[0m\u001b[1;32m    613\u001b[0m     \u001b[0;32melse\u001b[0m\u001b[0;34m:\u001b[0m\u001b[0;34m\u001b[0m\u001b[0;34m\u001b[0m\u001b[0m\n\u001b[1;32m    614\u001b[0m         df_result = _create_virtual_time_series_core(df_var,\n",
      "\u001b[0;32m~/anaconda3/envs/classify-hls/lib/python3.6/site-packages/dask/base.py\u001b[0m in \u001b[0;36mcompute\u001b[0;34m(self, **kwargs)\u001b[0m\n\u001b[1;32m    154\u001b[0m         \u001b[0mdask\u001b[0m\u001b[0;34m.\u001b[0m\u001b[0mbase\u001b[0m\u001b[0;34m.\u001b[0m\u001b[0mcompute\u001b[0m\u001b[0;34m\u001b[0m\u001b[0;34m\u001b[0m\u001b[0m\n\u001b[1;32m    155\u001b[0m         \"\"\"\n\u001b[0;32m--> 156\u001b[0;31m         \u001b[0;34m(\u001b[0m\u001b[0mresult\u001b[0m\u001b[0;34m,\u001b[0m\u001b[0;34m)\u001b[0m \u001b[0;34m=\u001b[0m \u001b[0mcompute\u001b[0m\u001b[0;34m(\u001b[0m\u001b[0mself\u001b[0m\u001b[0;34m,\u001b[0m \u001b[0mtraverse\u001b[0m\u001b[0;34m=\u001b[0m\u001b[0;32mFalse\u001b[0m\u001b[0;34m,\u001b[0m \u001b[0;34m**\u001b[0m\u001b[0mkwargs\u001b[0m\u001b[0;34m)\u001b[0m\u001b[0;34m\u001b[0m\u001b[0;34m\u001b[0m\u001b[0m\n\u001b[0m\u001b[1;32m    157\u001b[0m         \u001b[0;32mreturn\u001b[0m \u001b[0mresult\u001b[0m\u001b[0;34m\u001b[0m\u001b[0;34m\u001b[0m\u001b[0m\n\u001b[1;32m    158\u001b[0m \u001b[0;34m\u001b[0m\u001b[0m\n",
      "\u001b[0;32m~/anaconda3/envs/classify-hls/lib/python3.6/site-packages/dask/base.py\u001b[0m in \u001b[0;36mcompute\u001b[0;34m(*args, **kwargs)\u001b[0m\n\u001b[1;32m    396\u001b[0m     \u001b[0mkeys\u001b[0m \u001b[0;34m=\u001b[0m \u001b[0;34m[\u001b[0m\u001b[0mx\u001b[0m\u001b[0;34m.\u001b[0m\u001b[0m__dask_keys__\u001b[0m\u001b[0;34m(\u001b[0m\u001b[0;34m)\u001b[0m \u001b[0;32mfor\u001b[0m \u001b[0mx\u001b[0m \u001b[0;32min\u001b[0m \u001b[0mcollections\u001b[0m\u001b[0;34m]\u001b[0m\u001b[0;34m\u001b[0m\u001b[0;34m\u001b[0m\u001b[0m\n\u001b[1;32m    397\u001b[0m     \u001b[0mpostcomputes\u001b[0m \u001b[0;34m=\u001b[0m \u001b[0;34m[\u001b[0m\u001b[0mx\u001b[0m\u001b[0;34m.\u001b[0m\u001b[0m__dask_postcompute__\u001b[0m\u001b[0;34m(\u001b[0m\u001b[0;34m)\u001b[0m \u001b[0;32mfor\u001b[0m \u001b[0mx\u001b[0m \u001b[0;32min\u001b[0m \u001b[0mcollections\u001b[0m\u001b[0;34m]\u001b[0m\u001b[0;34m\u001b[0m\u001b[0;34m\u001b[0m\u001b[0m\n\u001b[0;32m--> 398\u001b[0;31m     \u001b[0mresults\u001b[0m \u001b[0;34m=\u001b[0m \u001b[0mschedule\u001b[0m\u001b[0;34m(\u001b[0m\u001b[0mdsk\u001b[0m\u001b[0;34m,\u001b[0m \u001b[0mkeys\u001b[0m\u001b[0;34m,\u001b[0m \u001b[0;34m**\u001b[0m\u001b[0mkwargs\u001b[0m\u001b[0;34m)\u001b[0m\u001b[0;34m\u001b[0m\u001b[0;34m\u001b[0m\u001b[0m\n\u001b[0m\u001b[1;32m    399\u001b[0m     \u001b[0;32mreturn\u001b[0m \u001b[0mrepack\u001b[0m\u001b[0;34m(\u001b[0m\u001b[0;34m[\u001b[0m\u001b[0mf\u001b[0m\u001b[0;34m(\u001b[0m\u001b[0mr\u001b[0m\u001b[0;34m,\u001b[0m \u001b[0;34m*\u001b[0m\u001b[0ma\u001b[0m\u001b[0;34m)\u001b[0m \u001b[0;32mfor\u001b[0m \u001b[0mr\u001b[0m\u001b[0;34m,\u001b[0m \u001b[0;34m(\u001b[0m\u001b[0mf\u001b[0m\u001b[0;34m,\u001b[0m \u001b[0ma\u001b[0m\u001b[0;34m)\u001b[0m \u001b[0;32min\u001b[0m \u001b[0mzip\u001b[0m\u001b[0;34m(\u001b[0m\u001b[0mresults\u001b[0m\u001b[0;34m,\u001b[0m \u001b[0mpostcomputes\u001b[0m\u001b[0;34m)\u001b[0m\u001b[0;34m]\u001b[0m\u001b[0;34m)\u001b[0m\u001b[0;34m\u001b[0m\u001b[0;34m\u001b[0m\u001b[0m\n\u001b[1;32m    400\u001b[0m \u001b[0;34m\u001b[0m\u001b[0m\n",
      "\u001b[0;32m~/anaconda3/envs/classify-hls/lib/python3.6/site-packages/dask/multiprocessing.py\u001b[0m in \u001b[0;36mget\u001b[0;34m(dsk, keys, num_workers, func_loads, func_dumps, optimize_graph, pool, **kwargs)\u001b[0m\n\u001b[1;32m    190\u001b[0m                            \u001b[0mget_id\u001b[0m\u001b[0;34m=\u001b[0m\u001b[0m_process_get_id\u001b[0m\u001b[0;34m,\u001b[0m \u001b[0mdumps\u001b[0m\u001b[0;34m=\u001b[0m\u001b[0mdumps\u001b[0m\u001b[0;34m,\u001b[0m \u001b[0mloads\u001b[0m\u001b[0;34m=\u001b[0m\u001b[0mloads\u001b[0m\u001b[0;34m,\u001b[0m\u001b[0;34m\u001b[0m\u001b[0;34m\u001b[0m\u001b[0m\n\u001b[1;32m    191\u001b[0m                            \u001b[0mpack_exception\u001b[0m\u001b[0;34m=\u001b[0m\u001b[0mpack_exception\u001b[0m\u001b[0;34m,\u001b[0m\u001b[0;34m\u001b[0m\u001b[0;34m\u001b[0m\u001b[0m\n\u001b[0;32m--> 192\u001b[0;31m                            raise_exception=reraise, **kwargs)\n\u001b[0m\u001b[1;32m    193\u001b[0m     \u001b[0;32mfinally\u001b[0m\u001b[0;34m:\u001b[0m\u001b[0;34m\u001b[0m\u001b[0;34m\u001b[0m\u001b[0m\n\u001b[1;32m    194\u001b[0m         \u001b[0;32mif\u001b[0m \u001b[0mcleanup\u001b[0m\u001b[0;34m:\u001b[0m\u001b[0;34m\u001b[0m\u001b[0;34m\u001b[0m\u001b[0m\n",
      "\u001b[0;32m~/anaconda3/envs/classify-hls/lib/python3.6/site-packages/dask/local.py\u001b[0m in \u001b[0;36mget_async\u001b[0;34m(apply_async, num_workers, dsk, result, cache, get_id, rerun_exceptions_locally, pack_exception, raise_exception, callbacks, dumps, loads, **kwargs)\u001b[0m\n\u001b[1;32m    451\u001b[0m             \u001b[0;31m# Main loop, wait on tasks to finish, insert new ones\u001b[0m\u001b[0;34m\u001b[0m\u001b[0;34m\u001b[0m\u001b[0;34m\u001b[0m\u001b[0m\n\u001b[1;32m    452\u001b[0m             \u001b[0;32mwhile\u001b[0m \u001b[0mstate\u001b[0m\u001b[0;34m[\u001b[0m\u001b[0;34m'waiting'\u001b[0m\u001b[0;34m]\u001b[0m \u001b[0;32mor\u001b[0m \u001b[0mstate\u001b[0m\u001b[0;34m[\u001b[0m\u001b[0;34m'ready'\u001b[0m\u001b[0;34m]\u001b[0m \u001b[0;32mor\u001b[0m \u001b[0mstate\u001b[0m\u001b[0;34m[\u001b[0m\u001b[0;34m'running'\u001b[0m\u001b[0;34m]\u001b[0m\u001b[0;34m:\u001b[0m\u001b[0;34m\u001b[0m\u001b[0;34m\u001b[0m\u001b[0m\n\u001b[0;32m--> 453\u001b[0;31m                 \u001b[0mkey\u001b[0m\u001b[0;34m,\u001b[0m \u001b[0mres_info\u001b[0m\u001b[0;34m,\u001b[0m \u001b[0mfailed\u001b[0m \u001b[0;34m=\u001b[0m \u001b[0mqueue_get\u001b[0m\u001b[0;34m(\u001b[0m\u001b[0mqueue\u001b[0m\u001b[0;34m)\u001b[0m\u001b[0;34m\u001b[0m\u001b[0;34m\u001b[0m\u001b[0m\n\u001b[0m\u001b[1;32m    454\u001b[0m                 \u001b[0;32mif\u001b[0m \u001b[0mfailed\u001b[0m\u001b[0;34m:\u001b[0m\u001b[0;34m\u001b[0m\u001b[0;34m\u001b[0m\u001b[0m\n\u001b[1;32m    455\u001b[0m                     \u001b[0mexc\u001b[0m\u001b[0;34m,\u001b[0m \u001b[0mtb\u001b[0m \u001b[0;34m=\u001b[0m \u001b[0mloads\u001b[0m\u001b[0;34m(\u001b[0m\u001b[0mres_info\u001b[0m\u001b[0;34m)\u001b[0m\u001b[0;34m\u001b[0m\u001b[0;34m\u001b[0m\u001b[0m\n",
      "\u001b[0;32m~/anaconda3/envs/classify-hls/lib/python3.6/site-packages/dask/local.py\u001b[0m in \u001b[0;36mqueue_get\u001b[0;34m(q)\u001b[0m\n\u001b[1;32m    139\u001b[0m \u001b[0;32melse\u001b[0m\u001b[0;34m:\u001b[0m\u001b[0;34m\u001b[0m\u001b[0;34m\u001b[0m\u001b[0m\n\u001b[1;32m    140\u001b[0m     \u001b[0;32mdef\u001b[0m \u001b[0mqueue_get\u001b[0m\u001b[0;34m(\u001b[0m\u001b[0mq\u001b[0m\u001b[0;34m)\u001b[0m\u001b[0;34m:\u001b[0m\u001b[0;34m\u001b[0m\u001b[0;34m\u001b[0m\u001b[0m\n\u001b[0;32m--> 141\u001b[0;31m         \u001b[0;32mreturn\u001b[0m \u001b[0mq\u001b[0m\u001b[0;34m.\u001b[0m\u001b[0mget\u001b[0m\u001b[0;34m(\u001b[0m\u001b[0;34m)\u001b[0m\u001b[0;34m\u001b[0m\u001b[0;34m\u001b[0m\u001b[0m\n\u001b[0m\u001b[1;32m    142\u001b[0m \u001b[0;34m\u001b[0m\u001b[0m\n\u001b[1;32m    143\u001b[0m \u001b[0;34m\u001b[0m\u001b[0m\n",
      "\u001b[0;32m~/anaconda3/envs/classify-hls/lib/python3.6/queue.py\u001b[0m in \u001b[0;36mget\u001b[0;34m(self, block, timeout)\u001b[0m\n\u001b[1;32m    162\u001b[0m             \u001b[0;32melif\u001b[0m \u001b[0mtimeout\u001b[0m \u001b[0;32mis\u001b[0m \u001b[0;32mNone\u001b[0m\u001b[0;34m:\u001b[0m\u001b[0;34m\u001b[0m\u001b[0;34m\u001b[0m\u001b[0m\n\u001b[1;32m    163\u001b[0m                 \u001b[0;32mwhile\u001b[0m \u001b[0;32mnot\u001b[0m \u001b[0mself\u001b[0m\u001b[0;34m.\u001b[0m\u001b[0m_qsize\u001b[0m\u001b[0;34m(\u001b[0m\u001b[0;34m)\u001b[0m\u001b[0;34m:\u001b[0m\u001b[0;34m\u001b[0m\u001b[0;34m\u001b[0m\u001b[0m\n\u001b[0;32m--> 164\u001b[0;31m                     \u001b[0mself\u001b[0m\u001b[0;34m.\u001b[0m\u001b[0mnot_empty\u001b[0m\u001b[0;34m.\u001b[0m\u001b[0mwait\u001b[0m\u001b[0;34m(\u001b[0m\u001b[0;34m)\u001b[0m\u001b[0;34m\u001b[0m\u001b[0;34m\u001b[0m\u001b[0m\n\u001b[0m\u001b[1;32m    165\u001b[0m             \u001b[0;32melif\u001b[0m \u001b[0mtimeout\u001b[0m \u001b[0;34m<\u001b[0m \u001b[0;36m0\u001b[0m\u001b[0;34m:\u001b[0m\u001b[0;34m\u001b[0m\u001b[0;34m\u001b[0m\u001b[0m\n\u001b[1;32m    166\u001b[0m                 \u001b[0;32mraise\u001b[0m \u001b[0mValueError\u001b[0m\u001b[0;34m(\u001b[0m\u001b[0;34m\"'timeout' must be a non-negative number\"\u001b[0m\u001b[0;34m)\u001b[0m\u001b[0;34m\u001b[0m\u001b[0;34m\u001b[0m\u001b[0m\n",
      "\u001b[0;32m~/anaconda3/envs/classify-hls/lib/python3.6/threading.py\u001b[0m in \u001b[0;36mwait\u001b[0;34m(self, timeout)\u001b[0m\n\u001b[1;32m    293\u001b[0m         \u001b[0;32mtry\u001b[0m\u001b[0;34m:\u001b[0m    \u001b[0;31m# restore state no matter what (e.g., KeyboardInterrupt)\u001b[0m\u001b[0;34m\u001b[0m\u001b[0;34m\u001b[0m\u001b[0m\n\u001b[1;32m    294\u001b[0m             \u001b[0;32mif\u001b[0m \u001b[0mtimeout\u001b[0m \u001b[0;32mis\u001b[0m \u001b[0;32mNone\u001b[0m\u001b[0;34m:\u001b[0m\u001b[0;34m\u001b[0m\u001b[0;34m\u001b[0m\u001b[0m\n\u001b[0;32m--> 295\u001b[0;31m                 \u001b[0mwaiter\u001b[0m\u001b[0;34m.\u001b[0m\u001b[0macquire\u001b[0m\u001b[0;34m(\u001b[0m\u001b[0;34m)\u001b[0m\u001b[0;34m\u001b[0m\u001b[0;34m\u001b[0m\u001b[0m\n\u001b[0m\u001b[1;32m    296\u001b[0m                 \u001b[0mgotit\u001b[0m \u001b[0;34m=\u001b[0m \u001b[0;32mTrue\u001b[0m\u001b[0;34m\u001b[0m\u001b[0;34m\u001b[0m\u001b[0m\n\u001b[1;32m    297\u001b[0m             \u001b[0;32melse\u001b[0m\u001b[0;34m:\u001b[0m\u001b[0;34m\u001b[0m\u001b[0;34m\u001b[0m\u001b[0m\n",
      "\u001b[0;31mKeyboardInterrupt\u001b[0m: "
     ]
    }
   ],
   "source": [
    "dst_dir = \"./xxx_uncontrolled/ls2008_vts4w\"\n",
    "dst_pattern = \"./xxx_uncontrolled/ls2008_vts4w/ls2008_vts4w_{date}_{var}.vrt\"\n",
    "\n",
    "freq = '4W'\n",
    "idx_virtual = pd.date_range(start='2008-01-01', end=\"2008-12-31\", freq=freq)\n",
    "idx_virtual\n",
    "\n",
    "scoll.create_virtual_time_series(idx_virtual=idx_virtual,\n",
    "                                 dst_pattern=dst_pattern,\n",
    "                                 dtypes=\"int16\",\n",
    "                                 compress=\"lzw\",\n",
    "                                 nodata=None,\n",
    "                                 num_workers=8)"
   ]
  },
  {
   "cell_type": "markdown",
   "metadata": {},
   "source": [
    "Create a time series layer stack (VRT) for each variable. "
   ]
  },
  {
   "cell_type": "code",
   "execution_count": null,
   "metadata": {},
   "outputs": [],
   "source": [
    "for var in scoll.variables:\n",
    "    input_file_list = list(list(Path(dst_dir).glob(f\"*{var}*\")))\n",
    "    input_file_list = np.sort(input_file_list)\n",
    "    output_file = Path(dst_dir) / \"time_series_stacks\" / f\"ls_2008_vts__2008__{var}__vts4w.vrt\"\n",
    "    print(output_file)\n",
    "    gdalutils.buildvrt(input_file_list, output_file, relative=True, separate=True)\n",
    "    "
   ]
  },
  {
   "cell_type": "markdown",
   "metadata": {},
   "source": [
    "#### Statistical features\n",
    "\n",
    "Such as mean, std, min, max, percentiles, iqr, regression slope, ...\n",
    "\n",
    "**TODO**"
   ]
  }
 ],
 "metadata": {
  "kernelspec": {
   "display_name": "Python 3",
   "language": "python",
   "name": "python3"
  },
  "language_info": {
   "codemirror_mode": {
    "name": "ipython",
    "version": 3
   },
   "file_extension": ".py",
   "mimetype": "text/x-python",
   "name": "python",
   "nbconvert_exporter": "python",
   "pygments_lexer": "ipython3",
   "version": "3.6.7"
  }
 },
 "nbformat": 4,
 "nbformat_minor": 2
}
