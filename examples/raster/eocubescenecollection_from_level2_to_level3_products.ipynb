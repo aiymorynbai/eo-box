{
 "cells": [
  {
   "cell_type": "markdown",
   "metadata": {},
   "source": [
    "# ``EOCubeSceneCollection`` - from level-2 to level-3 products\n",
    "\n",
    "``EOCubeSceneCollection`` and ``EOCubeSceneCollectionChunk`` are similar to ``EOCube`` and ``EOCubeChunk`` and have basically all the functionality of these classes but some more specific functionality and behavious.\n",
    "\n",
    "While ``EOCube`` and ``EOCubeChunk`` do not make any assumption about the input data, ``EOCubeSceneCollection`` and ``EOCubeSceneCollectionChunk`` assume that the input is a collection (usally time series) of scenes where each scene consists of the same bands (including a quality assessment layer). \n",
    "\n",
    "In the Sentinel-2 / Landsat context, the atmospherically corrected single scene data is often refered to Level-2. \n",
    "Level-3 data products are usually derived from time series of lewer level products with the goal to get spatially-contiguous and missing data / gap free products. \n",
    "Such products are:\n",
    "\n",
    "* temporal statistical metrics, e.g. median\n",
    "* virtual time series derived from interpolation\n",
    "* best available pixel composites\n",
    "* ...\n",
    "\n",
    "This tutorial shows how to derive virtual time series with ``EOCubeSceneCollection``.\n",
    "\n",
    "First we load the packages required in this tutorial."
   ]
  },
  {
   "cell_type": "code",
   "execution_count": 1,
   "metadata": {},
   "outputs": [],
   "source": [
    "%load_ext autoreload\n",
    "%autoreload 2\n",
    "\n",
    "import numpy as np\n",
    "import pandas as pd\n",
    "from pathlib import Path\n",
    "import rasterio\n",
    "import seaborn as sns\n",
    "\n",
    "# from eobox.raster import MultiRasterIO\n",
    "from eobox import sampledata\n",
    "from eobox.raster import cube\n",
    "from eobox.raster import gdalutils\n",
    "\n",
    "from eobox.raster.utils import cleanup_df_values_for_given_dtype\n",
    "from eobox.raster.utils import dtype_checker_df"
   ]
  },
  {
   "cell_type": "markdown",
   "metadata": {},
   "source": [
    "## Sample dataset\n",
    "\n",
    "Lets get some typical dataset to make it more tangible what we are talking about."
   ]
  },
  {
   "cell_type": "code",
   "execution_count": 2,
   "metadata": {},
   "outputs": [],
   "source": [
    "def get_sampledata(year):\n",
    "    dataset = sampledata.get_dataset(\"lsts\")\n",
    "    layers_paths = [Path(p) for p in dataset[\"raster_files\"]]\n",
    "    layers_df = pd.Series([p.stem for p in layers_paths]).str.split(\"_\", expand=True) \\\n",
    "    .rename({0: \"sceneid\", 1:\"band\"}, axis=1)\n",
    "\n",
    "    layers_df[\"date\"] = pd.to_datetime(layers_df.sceneid.str[9:16], format=\"%Y%j\")\n",
    "    layers_df[\"uname\"] = layers_df.sceneid.str[:3] + \"_\" + layers_df.date.dt.strftime(\"%Y-%m-%d\") + \"_\" + layers_df.band.str[::] \n",
    "    layers_df[\"path\"] = layers_paths\n",
    "\n",
    "    layers_df = layers_df.sort_values([\"date\", \"band\"])\n",
    "    layers_df = layers_df.reset_index(drop=True)\n",
    "\n",
    "    layers_df_year = layers_df[(layers_df.date >= str(year)) & (layers_df.date < str(year+1))]\n",
    "    layers_df_year = layers_df_year.reset_index(drop=True)\n",
    "    return layers_df_year"
   ]
  },
  {
   "cell_type": "markdown",
   "metadata": {},
   "source": [
    "The sample data we are loading here contains 23 scenes each of which consists of three bands (*b3*, *b4*, *b5*) and a QA (quality assessment) band (here *fmask*).\n",
    "This is a typical starting point for nowadays *using-all-available-pixels* EO analysis tasks. "
   ]
  },
  {
   "cell_type": "code",
   "execution_count": 3,
   "metadata": {},
   "outputs": [
    {
     "data": {
      "text/html": [
       "<div>\n",
       "<style scoped>\n",
       "    .dataframe tbody tr th:only-of-type {\n",
       "        vertical-align: middle;\n",
       "    }\n",
       "\n",
       "    .dataframe tbody tr th {\n",
       "        vertical-align: top;\n",
       "    }\n",
       "\n",
       "    .dataframe thead th {\n",
       "        text-align: right;\n",
       "    }\n",
       "</style>\n",
       "<table border=\"1\" class=\"dataframe\">\n",
       "  <thead>\n",
       "    <tr style=\"text-align: right;\">\n",
       "      <th></th>\n",
       "      <th>sceneid</th>\n",
       "      <th>band</th>\n",
       "      <th>date</th>\n",
       "      <th>uname</th>\n",
       "      <th>path</th>\n",
       "    </tr>\n",
       "  </thead>\n",
       "  <tbody>\n",
       "    <tr>\n",
       "      <th>0</th>\n",
       "      <td>LT50350322008110PAC01</td>\n",
       "      <td>b3</td>\n",
       "      <td>2008-04-19</td>\n",
       "      <td>LT5_2008-04-19_b3</td>\n",
       "      <td>/home/ben/Devel/Packages/eo-box/eobox/sampleda...</td>\n",
       "    </tr>\n",
       "    <tr>\n",
       "      <th>1</th>\n",
       "      <td>LT50350322008110PAC01</td>\n",
       "      <td>b4</td>\n",
       "      <td>2008-04-19</td>\n",
       "      <td>LT5_2008-04-19_b4</td>\n",
       "      <td>/home/ben/Devel/Packages/eo-box/eobox/sampleda...</td>\n",
       "    </tr>\n",
       "    <tr>\n",
       "      <th>2</th>\n",
       "      <td>LT50350322008110PAC01</td>\n",
       "      <td>b5</td>\n",
       "      <td>2008-04-19</td>\n",
       "      <td>LT5_2008-04-19_b5</td>\n",
       "      <td>/home/ben/Devel/Packages/eo-box/eobox/sampleda...</td>\n",
       "    </tr>\n",
       "    <tr>\n",
       "      <th>3</th>\n",
       "      <td>LT50350322008110PAC01</td>\n",
       "      <td>fmask</td>\n",
       "      <td>2008-04-19</td>\n",
       "      <td>LT5_2008-04-19_fmask</td>\n",
       "      <td>/home/ben/Devel/Packages/eo-box/eobox/sampleda...</td>\n",
       "    </tr>\n",
       "    <tr>\n",
       "      <th>4</th>\n",
       "      <td>LE70350322008118EDC00</td>\n",
       "      <td>b3</td>\n",
       "      <td>2008-04-27</td>\n",
       "      <td>LE7_2008-04-27_b3</td>\n",
       "      <td>/home/ben/Devel/Packages/eo-box/eobox/sampleda...</td>\n",
       "    </tr>\n",
       "  </tbody>\n",
       "</table>\n",
       "</div>"
      ],
      "text/plain": [
       "                 sceneid   band       date                 uname  \\\n",
       "0  LT50350322008110PAC01     b3 2008-04-19     LT5_2008-04-19_b3   \n",
       "1  LT50350322008110PAC01     b4 2008-04-19     LT5_2008-04-19_b4   \n",
       "2  LT50350322008110PAC01     b5 2008-04-19     LT5_2008-04-19_b5   \n",
       "3  LT50350322008110PAC01  fmask 2008-04-19  LT5_2008-04-19_fmask   \n",
       "4  LE70350322008118EDC00     b3 2008-04-27     LE7_2008-04-27_b3   \n",
       "\n",
       "                                                path  \n",
       "0  /home/ben/Devel/Packages/eo-box/eobox/sampleda...  \n",
       "1  /home/ben/Devel/Packages/eo-box/eobox/sampleda...  \n",
       "2  /home/ben/Devel/Packages/eo-box/eobox/sampleda...  \n",
       "3  /home/ben/Devel/Packages/eo-box/eobox/sampleda...  \n",
       "4  /home/ben/Devel/Packages/eo-box/eobox/sampleda...  "
      ]
     },
     "metadata": {},
     "output_type": "display_data"
    },
    {
     "data": {
      "text/html": [
       "<div>\n",
       "<style scoped>\n",
       "    .dataframe tbody tr th:only-of-type {\n",
       "        vertical-align: middle;\n",
       "    }\n",
       "\n",
       "    .dataframe tbody tr th {\n",
       "        vertical-align: top;\n",
       "    }\n",
       "\n",
       "    .dataframe thead th {\n",
       "        text-align: right;\n",
       "    }\n",
       "</style>\n",
       "<table border=\"1\" class=\"dataframe\">\n",
       "  <thead>\n",
       "    <tr style=\"text-align: right;\">\n",
       "      <th></th>\n",
       "      <th>sceneid</th>\n",
       "      <th>band</th>\n",
       "      <th>date</th>\n",
       "      <th>uname</th>\n",
       "      <th>path</th>\n",
       "    </tr>\n",
       "  </thead>\n",
       "  <tbody>\n",
       "    <tr>\n",
       "      <th>91</th>\n",
       "      <td>LE70350322008342EDC00</td>\n",
       "      <td>fmask</td>\n",
       "      <td>2008-12-07</td>\n",
       "      <td>LE7_2008-12-07_fmask</td>\n",
       "      <td>/home/ben/Devel/Packages/eo-box/eobox/sampleda...</td>\n",
       "    </tr>\n",
       "  </tbody>\n",
       "</table>\n",
       "</div>"
      ],
      "text/plain": [
       "                  sceneid   band       date                 uname  \\\n",
       "91  LE70350322008342EDC00  fmask 2008-12-07  LE7_2008-12-07_fmask   \n",
       "\n",
       "                                                 path  \n",
       "91  /home/ben/Devel/Packages/eo-box/eobox/sampleda...  "
      ]
     },
     "metadata": {},
     "output_type": "display_data"
    },
    {
     "data": {
      "text/plain": [
       "b3       23\n",
       "b5       23\n",
       "fmask    23\n",
       "b4       23\n",
       "Name: band, dtype: int64"
      ]
     },
     "execution_count": 3,
     "metadata": {},
     "output_type": "execute_result"
    }
   ],
   "source": [
    "df_layers = get_sampledata(2008)\n",
    "display(df_layers.head())\n",
    "display(df_layers.tail(1))\n",
    "df_layers.band.value_counts()"
   ]
  },
  {
   "cell_type": "markdown",
   "metadata": {},
   "source": [
    "## ``EOCubeSceneCollection``\n",
    "\n",
    "### Initialization\n",
    "\n",
    "Typically we want to derive temporal features from these kind of dataset which involves masking out invalid pixels.\n",
    "Invalid pixels are typically covered by clouds, cloud shadows, saturated data, pixels which are outside the the sensed area, snow, etc.\n",
    "Usually, these categories are usually included in the QA layer.\n",
    "\n",
    "For example, *fmask* is a typical Landsat QA-like (or pre classification) layer which has the following categories:\n",
    "\n",
    "      0 - clear land\n",
    "      1 - clear water\n",
    "      2 - cloud\n",
    "      3 - snow\n",
    "      4 - shadow\n",
    "    255 - NoData"
   ]
  },
  {
   "cell_type": "markdown",
   "metadata": {},
   "source": [
    "As a result we initialize the ``EOCubeSceneCollection`` as follows:"
   ]
  },
  {
   "cell_type": "code",
   "execution_count": 4,
   "metadata": {},
   "outputs": [
    {
     "data": {
      "text/html": [
       "<div>\n",
       "<style scoped>\n",
       "    .dataframe tbody tr th:only-of-type {\n",
       "        vertical-align: middle;\n",
       "    }\n",
       "\n",
       "    .dataframe tbody tr th {\n",
       "        vertical-align: top;\n",
       "    }\n",
       "\n",
       "    .dataframe thead th {\n",
       "        text-align: right;\n",
       "    }\n",
       "</style>\n",
       "<table border=\"1\" class=\"dataframe\">\n",
       "  <thead>\n",
       "    <tr style=\"text-align: right;\">\n",
       "      <th></th>\n",
       "      <th>sceneid</th>\n",
       "      <th>band</th>\n",
       "      <th>date</th>\n",
       "      <th>uname</th>\n",
       "      <th>path</th>\n",
       "    </tr>\n",
       "  </thead>\n",
       "  <tbody>\n",
       "    <tr>\n",
       "      <th>0</th>\n",
       "      <td>LT50350322008110PAC01</td>\n",
       "      <td>b3</td>\n",
       "      <td>2008-04-19</td>\n",
       "      <td>LT5_2008-04-19_b3</td>\n",
       "      <td>/home/ben/Devel/Packages/eo-box/eobox/sampleda...</td>\n",
       "    </tr>\n",
       "    <tr>\n",
       "      <th>1</th>\n",
       "      <td>LT50350322008110PAC01</td>\n",
       "      <td>b4</td>\n",
       "      <td>2008-04-19</td>\n",
       "      <td>LT5_2008-04-19_b4</td>\n",
       "      <td>/home/ben/Devel/Packages/eo-box/eobox/sampleda...</td>\n",
       "    </tr>\n",
       "    <tr>\n",
       "      <th>2</th>\n",
       "      <td>LT50350322008110PAC01</td>\n",
       "      <td>b5</td>\n",
       "      <td>2008-04-19</td>\n",
       "      <td>LT5_2008-04-19_b5</td>\n",
       "      <td>/home/ben/Devel/Packages/eo-box/eobox/sampleda...</td>\n",
       "    </tr>\n",
       "    <tr>\n",
       "      <th>3</th>\n",
       "      <td>LT50350322008110PAC01</td>\n",
       "      <td>fmask</td>\n",
       "      <td>2008-04-19</td>\n",
       "      <td>LT5_2008-04-19_fmask</td>\n",
       "      <td>/home/ben/Devel/Packages/eo-box/eobox/sampleda...</td>\n",
       "    </tr>\n",
       "    <tr>\n",
       "      <th>4</th>\n",
       "      <td>LE70350322008118EDC00</td>\n",
       "      <td>b3</td>\n",
       "      <td>2008-04-27</td>\n",
       "      <td>LE7_2008-04-27_b3</td>\n",
       "      <td>/home/ben/Devel/Packages/eo-box/eobox/sampleda...</td>\n",
       "    </tr>\n",
       "  </tbody>\n",
       "</table>\n",
       "</div>"
      ],
      "text/plain": [
       "                 sceneid   band       date                 uname  \\\n",
       "0  LT50350322008110PAC01     b3 2008-04-19     LT5_2008-04-19_b3   \n",
       "1  LT50350322008110PAC01     b4 2008-04-19     LT5_2008-04-19_b4   \n",
       "2  LT50350322008110PAC01     b5 2008-04-19     LT5_2008-04-19_b5   \n",
       "3  LT50350322008110PAC01  fmask 2008-04-19  LT5_2008-04-19_fmask   \n",
       "4  LE70350322008118EDC00     b3 2008-04-27     LE7_2008-04-27_b3   \n",
       "\n",
       "                                                path  \n",
       "0  /home/ben/Devel/Packages/eo-box/eobox/sampleda...  \n",
       "1  /home/ben/Devel/Packages/eo-box/eobox/sampleda...  \n",
       "2  /home/ben/Devel/Packages/eo-box/eobox/sampleda...  \n",
       "3  /home/ben/Devel/Packages/eo-box/eobox/sampleda...  \n",
       "4  /home/ben/Devel/Packages/eo-box/eobox/sampleda...  "
      ]
     },
     "execution_count": 4,
     "metadata": {},
     "output_type": "execute_result"
    }
   ],
   "source": [
    "df_layers=df_layers\n",
    "chunksize=2**5\n",
    "variables=[\"b3\", \"b4\", \"b5\"]\n",
    "qa=\"fmask\"\n",
    "qa_valid=[0, 1]\n",
    "\n",
    "scoll = cube.EOCubeSceneCollection(df_layers=df_layers, \n",
    "                                   chunksize=chunksize, \n",
    "                                   variables=variables, \n",
    "                                   qa=qa, \n",
    "                                   qa_valid=qa_valid \n",
    "                                  )\n",
    "scoll.df_layers.head()"
   ]
  },
  {
   "cell_type": "markdown",
   "metadata": {},
   "source": [
    "### Calculation of level-3 features\n",
    "\n",
    "#### Virtual time series"
   ]
  },
  {
   "cell_type": "code",
   "execution_count": 5,
   "metadata": {},
   "outputs": [
    {
     "name": "stderr",
     "output_type": "stream",
     "text": [
      "4it [00:04,  1.25s/it]                       \n"
     ]
    }
   ],
   "source": [
    "dst_dir = \"./xxx_uncontrolled/ls2008_vts4w\"\n",
    "dst_pattern = \"./xxx_uncontrolled/ls2008_vts4w/ls2008_vts4w_{date}_{var}.vrt\"\n",
    "\n",
    "freq = '4W'\n",
    "idx_virtual = pd.date_range(start='2008-01-01', end=\"2008-12-31\", freq=freq)\n",
    "idx_virtual\n",
    "\n",
    "scoll.create_virtual_time_series(idx_virtual=idx_virtual,\n",
    "                                 dst_pattern=dst_pattern,\n",
    "                                 dtypes=\"int16\",\n",
    "                                 compress=\"lzw\",\n",
    "                                 nodata=None,\n",
    "                                 num_workers=8)"
   ]
  },
  {
   "cell_type": "markdown",
   "metadata": {},
   "source": [
    "Create a time series layer stack (VRT) for each variable. "
   ]
  },
  {
   "cell_type": "code",
   "execution_count": 6,
   "metadata": {},
   "outputs": [
    {
     "name": "stdout",
     "output_type": "stream",
     "text": [
      "xxx_uncontrolled/ls2008_vts4w/time_series_stacks/ls_2008_vts__2008__b3__vts4w.vrt\n",
      "xxx_uncontrolled/ls2008_vts4w/time_series_stacks/ls_2008_vts__2008__b4__vts4w.vrt\n",
      "xxx_uncontrolled/ls2008_vts4w/time_series_stacks/ls_2008_vts__2008__b5__vts4w.vrt\n"
     ]
    }
   ],
   "source": [
    "for var in scoll.variables:\n",
    "    input_file_list = list(list(Path(dst_dir).glob(f\"*{var}*\")))\n",
    "    input_file_list = np.sort(input_file_list)\n",
    "    output_file = Path(dst_dir) / \"time_series_stacks\" / f\"ls_2008_vts__2008__{var}__vts4w.vrt\"\n",
    "    print(output_file)\n",
    "    gdalutils.buildvrt(input_file_list, output_file, relative=True, separate=True)"
   ]
  },
  {
   "cell_type": "markdown",
   "metadata": {},
   "source": [
    "#### Statistical features\n",
    "\n",
    "Such as mean, std, min, max, percentiles, iqr, ...\n",
    "\n",
    "**TODO**: Metrics such as regression slope (ordered by time), ... - What else can be interesting?"
   ]
  },
  {
   "cell_type": "code",
   "execution_count": 7,
   "metadata": {},
   "outputs": [
    {
     "name": "stderr",
     "output_type": "stream",
     "text": [
      "4it [00:10,  2.58s/it]                       \n"
     ]
    }
   ],
   "source": [
    "dst_dir = \"./xxx_uncontrolled/ls2008_stats1yr\"\n",
    "dst_pattern = \"./xxx_uncontrolled/ls2008_stats1yr/ls2008_stats1yr_{metric}_{var}.vrt\"\n",
    "\n",
    "percentiles = [.05, .1, .25, .50, .75, .9, .95]\n",
    "iqr = True\n",
    "diffs = True\n",
    "\n",
    "scoll.create_statistical_metrics(percentiles=percentiles,\n",
    "                                 iqr=iqr,\n",
    "                                 diffs=diffs,\n",
    "                                 dst_pattern=dst_pattern,\n",
    "                                 dtypes=\"int16\",\n",
    "                                 compress=\"lzw\",\n",
    "                                 nodata=None,\n",
    "                                 num_workers=8)\n"
   ]
  },
  {
   "cell_type": "markdown",
   "metadata": {},
   "source": [
    "Create a statistical metrics layer stack (VRT) for each variable. "
   ]
  },
  {
   "cell_type": "code",
   "execution_count": 26,
   "metadata": {},
   "outputs": [
    {
     "data": {
      "text/plain": [
       "array([PosixPath('xxx_uncontrolled/ls2008_stats1yr/ls2008_stats1yr_p05_b5.vrt'),\n",
       "       PosixPath('xxx_uncontrolled/ls2008_stats1yr/ls2008_stats1yr_p10_b5.vrt'),\n",
       "       PosixPath('xxx_uncontrolled/ls2008_stats1yr/ls2008_stats1yr_p25_b5.vrt'),\n",
       "       PosixPath('xxx_uncontrolled/ls2008_stats1yr/ls2008_stats1yr_p50_b5.vrt'),\n",
       "       PosixPath('xxx_uncontrolled/ls2008_stats1yr/ls2008_stats1yr_p75_b5.vrt'),\n",
       "       PosixPath('xxx_uncontrolled/ls2008_stats1yr/ls2008_stats1yr_p90_b5.vrt'),\n",
       "       PosixPath('xxx_uncontrolled/ls2008_stats1yr/ls2008_stats1yr_p95_b5.vrt')],\n",
       "      dtype=object)"
      ]
     },
     "execution_count": 26,
     "metadata": {},
     "output_type": "execute_result"
    }
   ],
   "source": []
  },
  {
   "cell_type": "code",
   "execution_count": 37,
   "metadata": {},
   "outputs": [
    {
     "name": "stdout",
     "output_type": "stream",
     "text": [
      "********************************************************************************\n",
      "b3\n",
      "xxx_uncontrolled/ls2008_stats1yr/time_series_stacks/ls_2008_stats__2008__b3__stats1yr.vrt\n",
      "Layers:\n",
      "ls2008_stats1yr_min_b3\n",
      "ls2008_stats1yr_p05_b3\n",
      "ls2008_stats1yr_p10_b3\n",
      "ls2008_stats1yr_p25_b3\n",
      "ls2008_stats1yr_p50_b3\n",
      "ls2008_stats1yr_p75_b3\n",
      "ls2008_stats1yr_p90_b3\n",
      "ls2008_stats1yr_p95_b3\n",
      "ls2008_stats1yr_max_b3\n",
      "ls2008_stats1yr_p75-p25_b3\n",
      "ls2008_stats1yr_p90-p10_b3\n",
      "ls2008_stats1yr_p95-p05_b3\n",
      "ls2008_stats1yr_mean_b3\n",
      "ls2008_stats1yr_std_b3\n",
      "********************************************************************************\n",
      "b4\n",
      "xxx_uncontrolled/ls2008_stats1yr/time_series_stacks/ls_2008_stats__2008__b4__stats1yr.vrt\n",
      "Layers:\n",
      "ls2008_stats1yr_min_b4\n",
      "ls2008_stats1yr_p05_b4\n",
      "ls2008_stats1yr_p10_b4\n",
      "ls2008_stats1yr_p25_b4\n",
      "ls2008_stats1yr_p50_b4\n",
      "ls2008_stats1yr_p75_b4\n",
      "ls2008_stats1yr_p90_b4\n",
      "ls2008_stats1yr_p95_b4\n",
      "ls2008_stats1yr_max_b4\n",
      "ls2008_stats1yr_p75-p25_b4\n",
      "ls2008_stats1yr_p90-p10_b4\n",
      "ls2008_stats1yr_p95-p05_b4\n",
      "ls2008_stats1yr_mean_b4\n",
      "ls2008_stats1yr_std_b4\n",
      "********************************************************************************\n",
      "b5\n",
      "xxx_uncontrolled/ls2008_stats1yr/time_series_stacks/ls_2008_stats__2008__b5__stats1yr.vrt\n",
      "Layers:\n",
      "ls2008_stats1yr_min_b5\n",
      "ls2008_stats1yr_p05_b5\n",
      "ls2008_stats1yr_p10_b5\n",
      "ls2008_stats1yr_p25_b5\n",
      "ls2008_stats1yr_p50_b5\n",
      "ls2008_stats1yr_p75_b5\n",
      "ls2008_stats1yr_p90_b5\n",
      "ls2008_stats1yr_p95_b5\n",
      "ls2008_stats1yr_max_b5\n",
      "ls2008_stats1yr_p75-p25_b5\n",
      "ls2008_stats1yr_p90-p10_b5\n",
      "ls2008_stats1yr_p95-p05_b5\n",
      "ls2008_stats1yr_mean_b5\n",
      "ls2008_stats1yr_std_b5\n"
     ]
    }
   ],
   "source": [
    "for var in scoll.variables:\n",
    "    print(\"*\" * 80)\n",
    "    print(var)\n",
    "    input_file_list = list(list(Path(dst_dir).glob(f\"*{var}*\")))\n",
    "    input_file_list = list(list(Path(dst_dir).glob(f\"*_min_*{var}*\")))\n",
    "    input_file_list += list(np.sort(list(Path(dst_dir).glob(f\"*_p??_*{var}*\"))))\n",
    "    input_file_list += list(list(Path(dst_dir).glob(f\"*_max_*{var}*\")))\n",
    "    input_file_list += list(np.sort(list(Path(dst_dir).glob(f\"*_p??-p??_*{var}*\"))))\n",
    "    input_file_list += list(list(Path(dst_dir).glob(f\"*_mean_*{var}*\")))\n",
    "    input_file_list += list(list(Path(dst_dir).glob(f\"*_std_*{var}*\")))\n",
    "    output_file = Path(dst_dir) / \"time_series_stacks\" / f\"ls_2008_stats__2008__{var}__stats1yr.vrt\"\n",
    "    print(output_file)\n",
    "    print(\"Layers:\")\n",
    "    print(\"\\n\".join([p.stem for p in input_file_list]))\n",
    "    gdalutils.buildvrt(input_file_list, output_file, relative=True, separate=True)"
   ]
  }
 ],
 "metadata": {
  "kernelspec": {
   "display_name": "Python 3",
   "language": "python",
   "name": "python3"
  },
  "language_info": {
   "codemirror_mode": {
    "name": "ipython",
    "version": 3
   },
   "file_extension": ".py",
   "mimetype": "text/x-python",
   "name": "python",
   "nbconvert_exporter": "python",
   "pygments_lexer": "ipython3",
   "version": "3.6.8"
  }
 },
 "nbformat": 4,
 "nbformat_minor": 2
}
