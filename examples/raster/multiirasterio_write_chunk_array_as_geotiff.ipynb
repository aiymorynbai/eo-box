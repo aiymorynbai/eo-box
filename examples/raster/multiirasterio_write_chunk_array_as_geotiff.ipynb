{
 "cells": [
  {
   "cell_type": "markdown",
   "metadata": {},
   "source": [
    "# Write chunk array as GeoTIFF\n",
    "\n",
    "Or: **How to safe a single layer chunk array as georeferenced raster with MultiRasterIO?**"
   ]
  },
  {
   "cell_type": "code",
   "execution_count": 4,
   "metadata": {},
   "outputs": [
    {
     "data": {
      "text/html": [
       "<div>\n",
       "<style scoped>\n",
       "    .dataframe tbody tr th:only-of-type {\n",
       "        vertical-align: middle;\n",
       "    }\n",
       "\n",
       "    .dataframe tbody tr th {\n",
       "        vertical-align: top;\n",
       "    }\n",
       "\n",
       "    .dataframe thead th {\n",
       "        text-align: right;\n",
       "    }\n",
       "</style>\n",
       "<table border=\"1\" class=\"dataframe\">\n",
       "  <thead>\n",
       "    <tr style=\"text-align: right;\">\n",
       "      <th></th>\n",
       "      <th>sceneid</th>\n",
       "      <th>band</th>\n",
       "      <th>date</th>\n",
       "      <th>uname</th>\n",
       "      <th>path</th>\n",
       "    </tr>\n",
       "  </thead>\n",
       "  <tbody>\n",
       "    <tr>\n",
       "      <th>0</th>\n",
       "      <td>LT50350322008110PAC01</td>\n",
       "      <td>b3</td>\n",
       "      <td>2008-04-19</td>\n",
       "      <td>LT5_2008-04-19_b3</td>\n",
       "      <td>/home/ben/anaconda/envs/eocube/lib/python3.6/s...</td>\n",
       "    </tr>\n",
       "    <tr>\n",
       "      <th>1</th>\n",
       "      <td>LT50350322008110PAC01</td>\n",
       "      <td>b4</td>\n",
       "      <td>2008-04-19</td>\n",
       "      <td>LT5_2008-04-19_b4</td>\n",
       "      <td>/home/ben/anaconda/envs/eocube/lib/python3.6/s...</td>\n",
       "    </tr>\n",
       "    <tr>\n",
       "      <th>2</th>\n",
       "      <td>LT50350322008110PAC01</td>\n",
       "      <td>b5</td>\n",
       "      <td>2008-04-19</td>\n",
       "      <td>LT5_2008-04-19_b5</td>\n",
       "      <td>/home/ben/anaconda/envs/eocube/lib/python3.6/s...</td>\n",
       "    </tr>\n",
       "    <tr>\n",
       "      <th>3</th>\n",
       "      <td>LT50350322008110PAC01</td>\n",
       "      <td>fmask</td>\n",
       "      <td>2008-04-19</td>\n",
       "      <td>LT5_2008-04-19_fmask</td>\n",
       "      <td>/home/ben/anaconda/envs/eocube/lib/python3.6/s...</td>\n",
       "    </tr>\n",
       "    <tr>\n",
       "      <th>4</th>\n",
       "      <td>LE70350322008118EDC00</td>\n",
       "      <td>b3</td>\n",
       "      <td>2008-04-27</td>\n",
       "      <td>LE7_2008-04-27_b3</td>\n",
       "      <td>/home/ben/anaconda/envs/eocube/lib/python3.6/s...</td>\n",
       "    </tr>\n",
       "  </tbody>\n",
       "</table>\n",
       "</div>"
      ],
      "text/plain": [
       "                 sceneid   band       date                 uname  \\\n",
       "0  LT50350322008110PAC01     b3 2008-04-19     LT5_2008-04-19_b3   \n",
       "1  LT50350322008110PAC01     b4 2008-04-19     LT5_2008-04-19_b4   \n",
       "2  LT50350322008110PAC01     b5 2008-04-19     LT5_2008-04-19_b5   \n",
       "3  LT50350322008110PAC01  fmask 2008-04-19  LT5_2008-04-19_fmask   \n",
       "4  LE70350322008118EDC00     b3 2008-04-27     LE7_2008-04-27_b3   \n",
       "\n",
       "                                                path  \n",
       "0  /home/ben/anaconda/envs/eocube/lib/python3.6/s...  \n",
       "1  /home/ben/anaconda/envs/eocube/lib/python3.6/s...  \n",
       "2  /home/ben/anaconda/envs/eocube/lib/python3.6/s...  \n",
       "3  /home/ben/anaconda/envs/eocube/lib/python3.6/s...  \n",
       "4  /home/ben/anaconda/envs/eocube/lib/python3.6/s...  "
      ]
     },
     "execution_count": 4,
     "metadata": {},
     "output_type": "execute_result"
    }
   ],
   "source": [
    "import pandas as pd\n",
    "from pathlib import Path\n",
    "import rasterio\n",
    "\n",
    "from eobox.raster import MultiRasterIO\n",
    "from eobox import sampledata\n",
    "\n",
    "\n",
    "year = 2008\n",
    "dataset = sampledata.get_dataset(\"lsts\")\n",
    "layers_paths = [Path(p) for p in dataset[\"raster_files\"]]\n",
    "layers_df = pd.Series([p.stem for p in layers_paths]).str.split(\"_\", expand=True) \\\n",
    ".rename({0: \"sceneid\", 1:\"band\"}, axis=1)\n",
    "\n",
    "layers_df[\"date\"] = pd.to_datetime(layers_df.sceneid.str[9:16], format=\"%Y%j\")\n",
    "layers_df[\"uname\"] = layers_df.sceneid.str[:3] + \"_\" + layers_df.date.dt.strftime(\"%Y-%m-%d\") + \"_\" + layers_df.band.str[::] \n",
    "layers_df[\"path\"] = layers_paths\n",
    "\n",
    "layers_df = layers_df.sort_values([\"date\", \"band\"])\n",
    "layers_df = layers_df.reset_index(drop=True)\n",
    "\n",
    "df_layers = layers_df[(layers_df.date >= str(year)) & (layers_df.date < str(year+1))]\n",
    "df_layers = df_layers.reset_index(drop=True)\n",
    "df_layers.head()"
   ]
  },
  {
   "cell_type": "code",
   "execution_count": 11,
   "metadata": {},
   "outputs": [
    {
     "name": "stdout",
     "output_type": "stream",
     "text": [
      "Number of chunks :  4\n",
      "shape of chunk_layer_ji :  (32, 32, 1)\n",
      "Chunk written to path: ./xxx_uncontrolled_99_chunk_ji00.tif\n",
      "shape of chunk_layer_ji :  (32, 29, 1)\n",
      "Chunk written to path: ./xxx_uncontrolled_99_chunk_ji01.tif\n",
      "shape of chunk_layer_ji :  (29, 32, 1)\n",
      "Chunk written to path: ./xxx_uncontrolled_99_chunk_ji02.tif\n",
      "shape of chunk_layer_ji :  (29, 29, 1)\n",
      "Chunk written to path: ./xxx_uncontrolled_99_chunk_ji03.tif\n"
     ]
    }
   ],
   "source": [
    "mrio = MultiRasterIO(df_layers.path.values) \\\n",
    "    .windows_from_blocksize(2**5)\n",
    "n_chunks = len(mrio.windows)\n",
    "print(\"Number of chunks : \", n_chunks)\n",
    "\n",
    "write_to_disk = False\n",
    "\n",
    "with rasterio.open(mrio._get_template_for_given_resolution(mrio.dst_res, \"path\")) as src_layer:\n",
    "    pass # later we need src_layer for src_layer.window_transform(win)\n",
    "\n",
    "for ji in range(n_chunks):\n",
    "    dst_path = f\"./xxx_uncontrolled_99_chunk_ji{ji:02}.tif\"\n",
    "    chunk_arrays_ji = mrio.get_arrays(ji)\n",
    "    chunk_layer_ji = chunk_arrays_ji[:,:,[0]]\n",
    "    print(\"shape of chunk_layer_ji : \", chunk_layer_ji.shape)\n",
    "    win = mrio.windows[ji]\n",
    "    kwargs = mrio._get_template_for_given_resolution(\n",
    "        res=mrio.dst_res, return_=\"meta\").copy()\n",
    "    kwargs.update({\"height\": win.height,\n",
    "                   \"width\": win.width,\n",
    "                   \"transform\": src_layer.window_transform(win)})\n",
    "    kwargs[\"dtype\"] = chunk_layer_ji.dtype\n",
    "    with rasterio.open(dst_path, \"w\", **kwargs) as dst:\n",
    "        dst.write(chunk_layer_ji[:,:,0], 1)\n",
    "        print(f\"Chunk written to path: {dst_path}\")  "
   ]
  }
 ],
 "metadata": {
  "kernelspec": {
   "display_name": "Python 3",
   "language": "python",
   "name": "python3"
  },
  "language_info": {
   "codemirror_mode": {
    "name": "ipython",
    "version": 3
   },
   "file_extension": ".py",
   "mimetype": "text/x-python",
   "name": "python",
   "nbconvert_exporter": "python",
   "pygments_lexer": "ipython3",
   "version": "3.6.7"
  }
 },
 "nbformat": 4,
 "nbformat_minor": 2
}
