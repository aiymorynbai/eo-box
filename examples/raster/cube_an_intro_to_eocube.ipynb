{
 "cells": [
  {
   "cell_type": "markdown",
   "metadata": {},
   "source": [
    "# An intro to ``EOCube``\n",
    "\n"
   ]
  },
  {
   "cell_type": "code",
   "execution_count": 1,
   "metadata": {},
   "outputs": [],
   "source": [
    "%load_ext autoreload\n",
    "%autoreload 2\n",
    "\n",
    "import numpy as np\n",
    "import pandas as pd\n",
    "from pathlib import Path\n",
    "import rasterio\n",
    "import seaborn as sns\n",
    "\n",
    "# from eobox.raster import MultiRasterIO\n",
    "from eobox import sampledata\n",
    "from eobox.raster import cube\n",
    "\n",
    "\n",
    "\n",
    "def get_sampledata(year):\n",
    "    dataset = sampledata.get_dataset(\"lsts\")\n",
    "    layers_paths = [Path(p) for p in dataset[\"raster_files\"]]\n",
    "    layers_df = pd.Series([p.stem for p in layers_paths]).str.split(\"_\", expand=True) \\\n",
    "    .rename({0: \"sceneid\", 1:\"band\"}, axis=1)\n",
    "\n",
    "    layers_df[\"date\"] = pd.to_datetime(layers_df.sceneid.str[9:16], format=\"%Y%j\")\n",
    "    layers_df[\"uname\"] = layers_df.sceneid.str[:3] + \"_\" + layers_df.date.dt.strftime(\"%Y-%m-%d\") + \"_\" + layers_df.band.str[::] \n",
    "    layers_df[\"path\"] = layers_paths\n",
    "\n",
    "    layers_df = layers_df.sort_values([\"date\", \"band\"])\n",
    "    layers_df = layers_df.reset_index(drop=True)\n",
    "\n",
    "    layers_df_year = layers_df[(layers_df.date >= str(year)) & (layers_df.date < str(year+1))]\n",
    "    layers_df_year = layers_df_year.reset_index(drop=True)\n",
    "    return layers_df_year\n"
   ]
  },
  {
   "cell_type": "markdown",
   "metadata": {},
   "source": [
    "## Input data constraints\n",
    "\n",
    "With ``EOCube`` we can for example calculate temporal features from stacks of data that do not fit in memory.\n",
    "\n",
    "We accept the following data constrains:\n",
    "\n",
    "* All layers, i.e. a single band of an acquisition, are available as single band GDAL readable raster files.\n",
    "* All files represent raster that are exactly spatially aligned with the same resolution, extend, projection, number of rows and columns etc. \n",
    "* (If all the above holds true you might band-subset or cut the data as VRTs to meet the spatial extend and single layer file constraint.\n",
    "* The data needs to come in a pandas dataframe containing at least the columns *path* containing the respective information. \n",
    "\n",
    "For calculating temporal features *date*, *band*, *sceneid* - as in the following sample dataset - are useful additional columns that you then can accessed later in your custom code."
   ]
  },
  {
   "cell_type": "code",
   "execution_count": 2,
   "metadata": {},
   "outputs": [
    {
     "data": {
      "text/html": [
       "<div>\n",
       "<style scoped>\n",
       "    .dataframe tbody tr th:only-of-type {\n",
       "        vertical-align: middle;\n",
       "    }\n",
       "\n",
       "    .dataframe tbody tr th {\n",
       "        vertical-align: top;\n",
       "    }\n",
       "\n",
       "    .dataframe thead th {\n",
       "        text-align: right;\n",
       "    }\n",
       "</style>\n",
       "<table border=\"1\" class=\"dataframe\">\n",
       "  <thead>\n",
       "    <tr style=\"text-align: right;\">\n",
       "      <th></th>\n",
       "      <th>sceneid</th>\n",
       "      <th>band</th>\n",
       "      <th>date</th>\n",
       "      <th>uname</th>\n",
       "      <th>path</th>\n",
       "    </tr>\n",
       "  </thead>\n",
       "  <tbody>\n",
       "    <tr>\n",
       "      <th>0</th>\n",
       "      <td>LT50350322008110PAC01</td>\n",
       "      <td>b3</td>\n",
       "      <td>2008-04-19</td>\n",
       "      <td>LT5_2008-04-19_b3</td>\n",
       "      <td>/home/ben/anaconda/envs/eocube/lib/python3.6/s...</td>\n",
       "    </tr>\n",
       "    <tr>\n",
       "      <th>1</th>\n",
       "      <td>LT50350322008110PAC01</td>\n",
       "      <td>b4</td>\n",
       "      <td>2008-04-19</td>\n",
       "      <td>LT5_2008-04-19_b4</td>\n",
       "      <td>/home/ben/anaconda/envs/eocube/lib/python3.6/s...</td>\n",
       "    </tr>\n",
       "    <tr>\n",
       "      <th>2</th>\n",
       "      <td>LT50350322008110PAC01</td>\n",
       "      <td>b5</td>\n",
       "      <td>2008-04-19</td>\n",
       "      <td>LT5_2008-04-19_b5</td>\n",
       "      <td>/home/ben/anaconda/envs/eocube/lib/python3.6/s...</td>\n",
       "    </tr>\n",
       "    <tr>\n",
       "      <th>3</th>\n",
       "      <td>LT50350322008110PAC01</td>\n",
       "      <td>fmask</td>\n",
       "      <td>2008-04-19</td>\n",
       "      <td>LT5_2008-04-19_fmask</td>\n",
       "      <td>/home/ben/anaconda/envs/eocube/lib/python3.6/s...</td>\n",
       "    </tr>\n",
       "    <tr>\n",
       "      <th>4</th>\n",
       "      <td>LE70350322008118EDC00</td>\n",
       "      <td>b3</td>\n",
       "      <td>2008-04-27</td>\n",
       "      <td>LE7_2008-04-27_b3</td>\n",
       "      <td>/home/ben/anaconda/envs/eocube/lib/python3.6/s...</td>\n",
       "    </tr>\n",
       "  </tbody>\n",
       "</table>\n",
       "</div>"
      ],
      "text/plain": [
       "                 sceneid   band       date                 uname  \\\n",
       "0  LT50350322008110PAC01     b3 2008-04-19     LT5_2008-04-19_b3   \n",
       "1  LT50350322008110PAC01     b4 2008-04-19     LT5_2008-04-19_b4   \n",
       "2  LT50350322008110PAC01     b5 2008-04-19     LT5_2008-04-19_b5   \n",
       "3  LT50350322008110PAC01  fmask 2008-04-19  LT5_2008-04-19_fmask   \n",
       "4  LE70350322008118EDC00     b3 2008-04-27     LE7_2008-04-27_b3   \n",
       "\n",
       "                                                path  \n",
       "0  /home/ben/anaconda/envs/eocube/lib/python3.6/s...  \n",
       "1  /home/ben/anaconda/envs/eocube/lib/python3.6/s...  \n",
       "2  /home/ben/anaconda/envs/eocube/lib/python3.6/s...  \n",
       "3  /home/ben/anaconda/envs/eocube/lib/python3.6/s...  \n",
       "4  /home/ben/anaconda/envs/eocube/lib/python3.6/s...  "
      ]
     },
     "metadata": {},
     "output_type": "display_data"
    },
    {
     "data": {
      "text/plain": [
       "b5       23\n",
       "b4       23\n",
       "fmask    23\n",
       "b3       23\n",
       "Name: band, dtype: int64"
      ]
     },
     "execution_count": 2,
     "metadata": {},
     "output_type": "execute_result"
    }
   ],
   "source": [
    "df_layers = get_sampledata(2008)\n",
    "display(df_layers.head())\n",
    "df_layers.band.value_counts()"
   ]
  },
  {
   "cell_type": "code",
   "execution_count": 3,
   "metadata": {},
   "outputs": [
    {
     "data": {
      "text/html": [
       "<div>\n",
       "<style scoped>\n",
       "    .dataframe tbody tr th:only-of-type {\n",
       "        vertical-align: middle;\n",
       "    }\n",
       "\n",
       "    .dataframe tbody tr th {\n",
       "        vertical-align: top;\n",
       "    }\n",
       "\n",
       "    .dataframe thead th {\n",
       "        text-align: right;\n",
       "    }\n",
       "</style>\n",
       "<table border=\"1\" class=\"dataframe\">\n",
       "  <thead>\n",
       "    <tr style=\"text-align: right;\">\n",
       "      <th></th>\n",
       "      <th>sceneid</th>\n",
       "      <th>band</th>\n",
       "      <th>date</th>\n",
       "      <th>uname</th>\n",
       "      <th>path</th>\n",
       "    </tr>\n",
       "  </thead>\n",
       "  <tbody>\n",
       "    <tr>\n",
       "      <th>0</th>\n",
       "      <td>LT50350322008110PAC01</td>\n",
       "      <td>b3</td>\n",
       "      <td>2008-04-19</td>\n",
       "      <td>LT5_2008-04-19_b3</td>\n",
       "      <td>/home/ben/anaconda/envs/eocube/lib/python3.6/s...</td>\n",
       "    </tr>\n",
       "    <tr>\n",
       "      <th>1</th>\n",
       "      <td>LT50350322008110PAC01</td>\n",
       "      <td>b4</td>\n",
       "      <td>2008-04-19</td>\n",
       "      <td>LT5_2008-04-19_b4</td>\n",
       "      <td>/home/ben/anaconda/envs/eocube/lib/python3.6/s...</td>\n",
       "    </tr>\n",
       "    <tr>\n",
       "      <th>2</th>\n",
       "      <td>LT50350322008110PAC01</td>\n",
       "      <td>b5</td>\n",
       "      <td>2008-04-19</td>\n",
       "      <td>LT5_2008-04-19_b5</td>\n",
       "      <td>/home/ben/anaconda/envs/eocube/lib/python3.6/s...</td>\n",
       "    </tr>\n",
       "    <tr>\n",
       "      <th>3</th>\n",
       "      <td>LT50350322008110PAC01</td>\n",
       "      <td>fmask</td>\n",
       "      <td>2008-04-19</td>\n",
       "      <td>LT5_2008-04-19_fmask</td>\n",
       "      <td>/home/ben/anaconda/envs/eocube/lib/python3.6/s...</td>\n",
       "    </tr>\n",
       "    <tr>\n",
       "      <th>4</th>\n",
       "      <td>LE70350322008118EDC00</td>\n",
       "      <td>b3</td>\n",
       "      <td>2008-04-27</td>\n",
       "      <td>LE7_2008-04-27_b3</td>\n",
       "      <td>/home/ben/anaconda/envs/eocube/lib/python3.6/s...</td>\n",
       "    </tr>\n",
       "  </tbody>\n",
       "</table>\n",
       "</div>"
      ],
      "text/plain": [
       "                 sceneid   band       date                 uname  \\\n",
       "0  LT50350322008110PAC01     b3 2008-04-19     LT5_2008-04-19_b3   \n",
       "1  LT50350322008110PAC01     b4 2008-04-19     LT5_2008-04-19_b4   \n",
       "2  LT50350322008110PAC01     b5 2008-04-19     LT5_2008-04-19_b5   \n",
       "3  LT50350322008110PAC01  fmask 2008-04-19  LT5_2008-04-19_fmask   \n",
       "4  LE70350322008118EDC00     b3 2008-04-27     LE7_2008-04-27_b3   \n",
       "\n",
       "                                                path  \n",
       "0  /home/ben/anaconda/envs/eocube/lib/python3.6/s...  \n",
       "1  /home/ben/anaconda/envs/eocube/lib/python3.6/s...  \n",
       "2  /home/ben/anaconda/envs/eocube/lib/python3.6/s...  \n",
       "3  /home/ben/anaconda/envs/eocube/lib/python3.6/s...  \n",
       "4  /home/ben/anaconda/envs/eocube/lib/python3.6/s...  "
      ]
     },
     "execution_count": 3,
     "metadata": {},
     "output_type": "execute_result"
    }
   ],
   "source": [
    "df_layers.head(5)"
   ]
  },
  {
   "cell_type": "markdown",
   "metadata": {},
   "source": [
    "### ``EOCube`` and ``EOCubeChunk``"
   ]
  },
  {
   "cell_type": "markdown",
   "metadata": {},
   "source": [
    "#### ``EOCube``"
   ]
  },
  {
   "cell_type": "code",
   "execution_count": 6,
   "metadata": {},
   "outputs": [],
   "source": [
    "eoc = cube.EOCube(df_layers, chunksize=2**5)"
   ]
  },
  {
   "cell_type": "markdown",
   "metadata": {},
   "source": [
    "**Attributes you can get.**"
   ]
  },
  {
   "cell_type": "code",
   "execution_count": 7,
   "metadata": {},
   "outputs": [
    {
     "name": "stdout",
     "output_type": "stream",
     "text": [
      "The data frame with your data.\n"
     ]
    },
    {
     "data": {
      "text/html": [
       "<div>\n",
       "<style scoped>\n",
       "    .dataframe tbody tr th:only-of-type {\n",
       "        vertical-align: middle;\n",
       "    }\n",
       "\n",
       "    .dataframe tbody tr th {\n",
       "        vertical-align: top;\n",
       "    }\n",
       "\n",
       "    .dataframe thead th {\n",
       "        text-align: right;\n",
       "    }\n",
       "</style>\n",
       "<table border=\"1\" class=\"dataframe\">\n",
       "  <thead>\n",
       "    <tr style=\"text-align: right;\">\n",
       "      <th></th>\n",
       "      <th>sceneid</th>\n",
       "      <th>band</th>\n",
       "      <th>date</th>\n",
       "      <th>uname</th>\n",
       "      <th>path</th>\n",
       "    </tr>\n",
       "  </thead>\n",
       "  <tbody>\n",
       "    <tr>\n",
       "      <th>0</th>\n",
       "      <td>LT50350322008110PAC01</td>\n",
       "      <td>b3</td>\n",
       "      <td>2008-04-19</td>\n",
       "      <td>LT5_2008-04-19_b3</td>\n",
       "      <td>/home/ben/anaconda/envs/eocube/lib/python3.6/s...</td>\n",
       "    </tr>\n",
       "    <tr>\n",
       "      <th>1</th>\n",
       "      <td>LT50350322008110PAC01</td>\n",
       "      <td>b4</td>\n",
       "      <td>2008-04-19</td>\n",
       "      <td>LT5_2008-04-19_b4</td>\n",
       "      <td>/home/ben/anaconda/envs/eocube/lib/python3.6/s...</td>\n",
       "    </tr>\n",
       "  </tbody>\n",
       "</table>\n",
       "</div>"
      ],
      "text/plain": [
       "                 sceneid band       date              uname  \\\n",
       "0  LT50350322008110PAC01   b3 2008-04-19  LT5_2008-04-19_b3   \n",
       "1  LT50350322008110PAC01   b4 2008-04-19  LT5_2008-04-19_b4   \n",
       "\n",
       "                                                path  \n",
       "0  /home/ben/anaconda/envs/eocube/lib/python3.6/s...  \n",
       "1  /home/ben/anaconda/envs/eocube/lib/python3.6/s...  "
      ]
     },
     "metadata": {},
     "output_type": "display_data"
    },
    {
     "name": "stdout",
     "output_type": "stream",
     "text": [
      "Chunksize:  32\n",
      "Number of Chunks:  4\n"
     ]
    }
   ],
   "source": [
    "print(\"The data frame with your data.\")\n",
    "display(eoc.df_layers.head(2))\n",
    "print(\"Chunksize: \", eoc.chunksize)\n",
    "print(\"Number of Chunks: \", eoc.n_chunks)"
   ]
  },
  {
   "cell_type": "markdown",
   "metadata": {},
   "source": [
    "**Attributes you can set.**"
   ]
  },
  {
   "cell_type": "code",
   "execution_count": 8,
   "metadata": {},
   "outputs": [
    {
     "name": "stdout",
     "output_type": "stream",
     "text": [
      "Chunksize:  16\n",
      "Number of Chunks:  16\n",
      "Chunksize:  32\n",
      "Number of Chunks:  4\n"
     ]
    }
   ],
   "source": [
    "eoc.chunksize=2**4\n",
    "print(\"Chunksize: \", eoc.chunksize)\n",
    "print(\"Number of Chunks: \", eoc.n_chunks)\n",
    "\n",
    "eoc.chunksize=2**5\n",
    "print(\"Chunksize: \", eoc.chunksize)\n",
    "print(\"Number of Chunks: \", eoc.n_chunks)"
   ]
  },
  {
   "cell_type": "markdown",
   "metadata": {},
   "source": [
    "#### ``EOCubeChunk``\n",
    "\n",
    "This is a child class of ``EOCube`` and you get an ``EOCubeChunk`` object from an ``EOCube`` object."
   ]
  },
  {
   "cell_type": "code",
   "execution_count": 9,
   "metadata": {},
   "outputs": [
    {
     "name": "stdout",
     "output_type": "stream",
     "text": [
      "Chunk ID:  1\n"
     ]
    }
   ],
   "source": [
    "ji = 1\n",
    "eoc_chunk = eoc.get_chunk(ji)\n",
    "print(\"Chunk ID: \", eoc_chunk.ji)"
   ]
  },
  {
   "cell_type": "markdown",
   "metadata": {},
   "source": [
    "**Load data and convert it between ndarray and DataFrame.** "
   ]
  },
  {
   "cell_type": "code",
   "execution_count": 10,
   "metadata": {},
   "outputs": [
    {
     "name": "stdout",
     "output_type": "stream",
     "text": [
      "****************\n",
      "<class 'eobox.raster.cube.EOCubeChunk'>\n",
      "eochunk.data is :  None\n",
      "Chunk ID:  1\n",
      "****************\n",
      "<class 'numpy.ndarray'>\n",
      "eochunk.data is ndarray with shape :  (32, 29, 92)\n",
      "****************\n",
      "eochunk.data is DataFrame with shape :  (928, 92)\n",
      "(column names come from eoc_chunk.df_layers['uname']\n"
     ]
    },
    {
     "data": {
      "text/html": [
       "<div>\n",
       "<style scoped>\n",
       "    .dataframe tbody tr th:only-of-type {\n",
       "        vertical-align: middle;\n",
       "    }\n",
       "\n",
       "    .dataframe tbody tr th {\n",
       "        vertical-align: top;\n",
       "    }\n",
       "\n",
       "    .dataframe thead th {\n",
       "        text-align: right;\n",
       "    }\n",
       "</style>\n",
       "<table border=\"1\" class=\"dataframe\">\n",
       "  <thead>\n",
       "    <tr style=\"text-align: right;\">\n",
       "      <th>uname</th>\n",
       "      <th>LT5_2008-04-19_b3</th>\n",
       "      <th>LT5_2008-04-19_b4</th>\n",
       "      <th>LT5_2008-04-19_b5</th>\n",
       "      <th>LT5_2008-04-19_fmask</th>\n",
       "      <th>LE7_2008-04-27_b3</th>\n",
       "      <th>LE7_2008-04-27_b4</th>\n",
       "      <th>LE7_2008-04-27_b5</th>\n",
       "      <th>LE7_2008-04-27_fmask</th>\n",
       "      <th>LT5_2008-05-05_b3</th>\n",
       "      <th>LT5_2008-05-05_b4</th>\n",
       "      <th>...</th>\n",
       "      <th>LT5_2008-10-28_b5</th>\n",
       "      <th>LT5_2008-10-28_fmask</th>\n",
       "      <th>LE7_2008-11-21_b3</th>\n",
       "      <th>LE7_2008-11-21_b4</th>\n",
       "      <th>LE7_2008-11-21_b5</th>\n",
       "      <th>LE7_2008-11-21_fmask</th>\n",
       "      <th>LE7_2008-12-07_b3</th>\n",
       "      <th>LE7_2008-12-07_b4</th>\n",
       "      <th>LE7_2008-12-07_b5</th>\n",
       "      <th>LE7_2008-12-07_fmask</th>\n",
       "    </tr>\n",
       "  </thead>\n",
       "  <tbody>\n",
       "    <tr>\n",
       "      <th>0</th>\n",
       "      <td>16000</td>\n",
       "      <td>6889</td>\n",
       "      <td>292</td>\n",
       "      <td>3</td>\n",
       "      <td>16000</td>\n",
       "      <td>7468</td>\n",
       "      <td>540</td>\n",
       "      <td>3</td>\n",
       "      <td>16000</td>\n",
       "      <td>6448</td>\n",
       "      <td>...</td>\n",
       "      <td>2410</td>\n",
       "      <td>0</td>\n",
       "      <td>5609</td>\n",
       "      <td>6227</td>\n",
       "      <td>3191</td>\n",
       "      <td>4</td>\n",
       "      <td>5040</td>\n",
       "      <td>6126</td>\n",
       "      <td>575</td>\n",
       "      <td>3</td>\n",
       "    </tr>\n",
       "    <tr>\n",
       "      <th>1</th>\n",
       "      <td>6868</td>\n",
       "      <td>6584</td>\n",
       "      <td>361</td>\n",
       "      <td>3</td>\n",
       "      <td>16000</td>\n",
       "      <td>6865</td>\n",
       "      <td>584</td>\n",
       "      <td>3</td>\n",
       "      <td>6149</td>\n",
       "      <td>6025</td>\n",
       "      <td>...</td>\n",
       "      <td>2134</td>\n",
       "      <td>0</td>\n",
       "      <td>5609</td>\n",
       "      <td>6140</td>\n",
       "      <td>3231</td>\n",
       "      <td>4</td>\n",
       "      <td>5248</td>\n",
       "      <td>6126</td>\n",
       "      <td>710</td>\n",
       "      <td>3</td>\n",
       "    </tr>\n",
       "    <tr>\n",
       "      <th>2</th>\n",
       "      <td>5590</td>\n",
       "      <td>5705</td>\n",
       "      <td>478</td>\n",
       "      <td>3</td>\n",
       "      <td>16000</td>\n",
       "      <td>6045</td>\n",
       "      <td>606</td>\n",
       "      <td>3</td>\n",
       "      <td>4933</td>\n",
       "      <td>5342</td>\n",
       "      <td>...</td>\n",
       "      <td>2099</td>\n",
       "      <td>0</td>\n",
       "      <td>5550</td>\n",
       "      <td>6271</td>\n",
       "      <td>3272</td>\n",
       "      <td>4</td>\n",
       "      <td>4624</td>\n",
       "      <td>5976</td>\n",
       "      <td>802</td>\n",
       "      <td>3</td>\n",
       "    </tr>\n",
       "    <tr>\n",
       "      <th>3</th>\n",
       "      <td>6008</td>\n",
       "      <td>5772</td>\n",
       "      <td>501</td>\n",
       "      <td>3</td>\n",
       "      <td>16000</td>\n",
       "      <td>5795</td>\n",
       "      <td>584</td>\n",
       "      <td>3</td>\n",
       "      <td>5065</td>\n",
       "      <td>5276</td>\n",
       "      <td>...</td>\n",
       "      <td>2514</td>\n",
       "      <td>0</td>\n",
       "      <td>5550</td>\n",
       "      <td>6227</td>\n",
       "      <td>3311</td>\n",
       "      <td>4</td>\n",
       "      <td>6176</td>\n",
       "      <td>7224</td>\n",
       "      <td>892</td>\n",
       "      <td>3</td>\n",
       "    </tr>\n",
       "    <tr>\n",
       "      <th>4</th>\n",
       "      <td>4917</td>\n",
       "      <td>4957</td>\n",
       "      <td>548</td>\n",
       "      <td>3</td>\n",
       "      <td>3874</td>\n",
       "      <td>4683</td>\n",
       "      <td>606</td>\n",
       "      <td>3</td>\n",
       "      <td>4134</td>\n",
       "      <td>4362</td>\n",
       "      <td>...</td>\n",
       "      <td>2099</td>\n",
       "      <td>0</td>\n",
       "      <td>5639</td>\n",
       "      <td>6271</td>\n",
       "      <td>3391</td>\n",
       "      <td>4</td>\n",
       "      <td>5627</td>\n",
       "      <td>6126</td>\n",
       "      <td>846</td>\n",
       "      <td>3</td>\n",
       "    </tr>\n",
       "  </tbody>\n",
       "</table>\n",
       "<p>5 rows × 92 columns</p>\n",
       "</div>"
      ],
      "text/plain": [
       "uname  LT5_2008-04-19_b3  LT5_2008-04-19_b4  LT5_2008-04-19_b5  \\\n",
       "0                  16000               6889                292   \n",
       "1                   6868               6584                361   \n",
       "2                   5590               5705                478   \n",
       "3                   6008               5772                501   \n",
       "4                   4917               4957                548   \n",
       "\n",
       "uname  LT5_2008-04-19_fmask  LE7_2008-04-27_b3  LE7_2008-04-27_b4  \\\n",
       "0                         3              16000               7468   \n",
       "1                         3              16000               6865   \n",
       "2                         3              16000               6045   \n",
       "3                         3              16000               5795   \n",
       "4                         3               3874               4683   \n",
       "\n",
       "uname  LE7_2008-04-27_b5  LE7_2008-04-27_fmask  LT5_2008-05-05_b3  \\\n",
       "0                    540                     3              16000   \n",
       "1                    584                     3               6149   \n",
       "2                    606                     3               4933   \n",
       "3                    584                     3               5065   \n",
       "4                    606                     3               4134   \n",
       "\n",
       "uname  LT5_2008-05-05_b4          ...           LT5_2008-10-28_b5  \\\n",
       "0                   6448          ...                        2410   \n",
       "1                   6025          ...                        2134   \n",
       "2                   5342          ...                        2099   \n",
       "3                   5276          ...                        2514   \n",
       "4                   4362          ...                        2099   \n",
       "\n",
       "uname  LT5_2008-10-28_fmask  LE7_2008-11-21_b3  LE7_2008-11-21_b4  \\\n",
       "0                         0               5609               6227   \n",
       "1                         0               5609               6140   \n",
       "2                         0               5550               6271   \n",
       "3                         0               5550               6227   \n",
       "4                         0               5639               6271   \n",
       "\n",
       "uname  LE7_2008-11-21_b5  LE7_2008-11-21_fmask  LE7_2008-12-07_b3  \\\n",
       "0                   3191                     4               5040   \n",
       "1                   3231                     4               5248   \n",
       "2                   3272                     4               4624   \n",
       "3                   3311                     4               6176   \n",
       "4                   3391                     4               5627   \n",
       "\n",
       "uname  LE7_2008-12-07_b4  LE7_2008-12-07_b5  LE7_2008-12-07_fmask  \n",
       "0                   6126                575                     3  \n",
       "1                   6126                710                     3  \n",
       "2                   5976                802                     3  \n",
       "3                   7224                892                     3  \n",
       "4                   6126                846                     3  \n",
       "\n",
       "[5 rows x 92 columns]"
      ]
     },
     "metadata": {},
     "output_type": "display_data"
    },
    {
     "name": "stdout",
     "output_type": "stream",
     "text": [
      "****************\n",
      "eochunk.data is again a ndarray with shape :  (32, 29, 92)\n"
     ]
    }
   ],
   "source": [
    "ji = 1\n",
    "eoc_chunk = eoc.get_chunk(ji)\n",
    "print(\"****************\")\n",
    "print(eoc_chunk.__class__)\n",
    "print(\"eochunk.data is : \", eoc_chunk.data)\n",
    "print(\"Chunk ID: \", eoc_chunk.ji)\n",
    "\n",
    "print(\"****************\")\n",
    "eoc_chunk = eoc_chunk.read_data()\n",
    "print(eoc_chunk.data.__class__)\n",
    "print(\"eochunk.data is ndarray with shape : \", eoc_chunk.data.shape)\n",
    "data_ndarray = eoc_chunk.data.copy()\n",
    "\n",
    "print(\"****************\")\n",
    "eoc_chunk = eoc_chunk.convert_data_to_dataframe()\n",
    "print(\"eochunk.data is DataFrame with shape : \", eoc_chunk.data.shape)\n",
    "print(\"(column names come from eoc_chunk.df_layers['uname']\")\n",
    "display(eoc_chunk.data.head())\n",
    "\n",
    "print(\"****************\")\n",
    "eoc_chunk = eoc_chunk.convert_data_to_ndarray()\n",
    "print(\"eochunk.data is again a ndarray with shape : \", eoc_chunk.data.shape)\n"
   ]
  },
  {
   "cell_type": "markdown",
   "metadata": {},
   "source": [
    "**Write results with ``EOCubeWindow.write_ndarray()``.**\n",
    "\n",
    "Usually we want to chunk-wise process all the data but save each of the resulting layers as single files, i.e. all chunks merged.\n",
    "\n",
    "However, when we want to parallel process the chunks it is easier better to first read, process and write single chunk data and later put them together when all the chunks are computed. \n",
    "\n",
    "Thus, for saving data you need\n",
    "\n",
    "* your processing logic starting from an ndarray (if you want to start from a DataFrame see below), and\n",
    "* the destination files."
   ]
  },
  {
   "cell_type": "markdown",
   "metadata": {},
   "source": [
    "Let us get the data which will be the input to our custom process:"
   ]
  },
  {
   "cell_type": "code",
   "execution_count": 11,
   "metadata": {},
   "outputs": [],
   "source": [
    "ji = 1\n",
    "eoc_chunk = eoc.get_chunk(ji)\n",
    "eoc_chunk = eoc_chunk.read_data()"
   ]
  },
  {
   "cell_type": "markdown",
   "metadata": {},
   "source": [
    "Apply our logic and get the result as a ndarray.\n",
    "\n",
    "Here as an example we calculate a boolean mask with the valid pixels derived from the fmask layers. "
   ]
  },
  {
   "cell_type": "code",
   "execution_count": 12,
   "metadata": {},
   "outputs": [
    {
     "name": "stdout",
     "output_type": "stream",
     "text": [
      "shape of data   :  (32, 29, 92)\n",
      "shape of result :  (32, 29, 23)\n"
     ]
    }
   ],
   "source": [
    "ilocs_fmask = np.where((eoc_chunk.df_layers[\"band\"] == \"fmask\").values)[0]\n",
    "result = eoc_chunk.data[:,:,ilocs_fmask]\n",
    "print(\"shape of data   : \", eoc_chunk.data.shape)\n",
    "result = np.isin(result, [0, 1]).astype(\"uint8\")\n",
    "print(\"shape of result : \", result.shape)"
   ]
  },
  {
   "cell_type": "markdown",
   "metadata": {},
   "source": [
    "Note that the first two numbers of the result array shape have to be identical to the ones of the input array. \n",
    "\n",
    "Instead the number of layers (third number) have to match the number of your destination paths. \n",
    "Note that we only need filenames for the whole layers,not the chunks. The files for the chunk files will be derived in ``EOCubeWindow``. \n",
    "Here we assume that later we will merge the chunks virtually in form of a VRT, thus the *.vrt* extension. \n",
    "So let us get the destination paths:"
   ]
  },
  {
   "cell_type": "code",
   "execution_count": 13,
   "metadata": {},
   "outputs": [
    {
     "data": {
      "text/plain": [
       "[PosixPath('results/LT50350322008110PAC01_valid.vrt'),\n",
       " PosixPath('results/LE70350322008118EDC00_valid.vrt'),\n",
       " PosixPath('results/LT50350322008126PAC01_valid.vrt')]"
      ]
     },
     "execution_count": 13,
     "metadata": {},
     "output_type": "execute_result"
    }
   ],
   "source": [
    "dst_paths = [Path(\"./results\") / (sid + \"_valid.vrt\") for sid in eoc_chunk.df_layers.iloc[ilocs_fmask][\"sceneid\"]]\n",
    "dst_paths[:3]"
   ]
  },
  {
   "cell_type": "markdown",
   "metadata": {},
   "source": [
    "And finally use the ``EOCubeChunk.write_ndarray`` to save the results."
   ]
  },
  {
   "cell_type": "code",
   "execution_count": 14,
   "metadata": {},
   "outputs": [],
   "source": [
    "eoc_chunk.write_ndarray(result, dst_paths)"
   ]
  },
  {
   "cell_type": "markdown",
   "metadata": {},
   "source": [
    "**TODO: Show how to execute this for all chunks with ``EOCube``. By now see how this is done in the next eocube tutorial: *Calculate virtual time series with ``EOCube``.**"
   ]
  }
 ],
 "metadata": {
  "kernelspec": {
   "display_name": "Python 3",
   "language": "python",
   "name": "python3"
  },
  "language_info": {
   "codemirror_mode": {
    "name": "ipython",
    "version": 3
   },
   "file_extension": ".py",
   "mimetype": "text/x-python",
   "name": "python",
   "nbconvert_exporter": "python",
   "pygments_lexer": "ipython3",
   "version": "3.6.7"
  }
 },
 "nbformat": 4,
 "nbformat_minor": 2
}
