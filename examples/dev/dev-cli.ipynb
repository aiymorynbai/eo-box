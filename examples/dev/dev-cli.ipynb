{
 "cells": [
  {
   "cell_type": "markdown",
   "metadata": {},
   "source": [
    "# Develop CLI\n",
    "\n",
    "## Preparation\n",
    "\n",
    "### Installation\n",
    "\n",
    "Install the package in editable mode. From within the repository root run:\n",
    "\n",
    "    pip install -e .\n",
    "\n",
    "Add your new entrypoint in the *setup.py*, e.g. \n",
    "\n",
    "    eobox_extract_from_file=eobox.scripts.extraction:from_file\n",
    "\n",
    "### Sample data\n",
    "\n",
    "Create all the data and parameters that you expect for your CLI."
   ]
  },
  {
   "cell_type": "code",
   "execution_count": 1,
   "metadata": {},
   "outputs": [
    {
     "data": {
      "text/plain": [
       "'/home/ben/Repos/eo-box/eobox/sampledata/data'"
      ]
     },
     "execution_count": 1,
     "metadata": {},
     "output_type": "execute_result"
    }
   ],
   "source": [
    "# get the path where eobox sampledata is located\n",
    "import eobox\n",
    "eobox.sampledata.base.DIR_DATA\n",
    "# import shutil\n",
    "# shutil.copytree(eobox.sampledata.base.DIR_DATA, \"xxx_uncontrolled/sampledata\")"
   ]
  },
  {
   "cell_type": "code",
   "execution_count": 25,
   "metadata": {},
   "outputs": [
    {
     "name": "stdout",
     "output_type": "stream",
     "text": [
      "Done\n"
     ]
    }
   ],
   "source": [
    "%%bash \n",
    "\n",
    "datasrc=/home/ben/Repos/eo-box/eobox/sampledata/data/s2l1c\n",
    "datadir=./xxx_uncontrolled\n",
    "\n",
    "dst_dir=$datadir/extracted\n",
    "\n",
    "if [ ! -d $datadir/inputs ]; then\n",
    "    mkdir -p $datadir/inputs\n",
    "    cp -r $datasrc $datadir/inputs\n",
    "fi\n",
    "\n",
    "ls -R $datadir/inputs/s2l1c/IMG_DATA/*0[2,3,4,8].jp2 > $datadir/param__src_raster.txt\n",
    "\n",
    "echo Done"
   ]
  },
  {
   "cell_type": "markdown",
   "metadata": {},
   "source": [
    "## Implement"
   ]
  },
  {
   "cell_type": "markdown",
   "metadata": {},
   "source": [
    "Write down how your CLI should work and implement it: "
   ]
  },
  {
   "cell_type": "code",
   "execution_count": 28,
   "metadata": {},
   "outputs": [],
   "source": [
    "%%bash\n",
    "\n",
    "eobox-extract ./xxx_uncontrolled/inputs/s2l1c/s2l1c_ref.gpkg pid ./xxx_uncontrolled/param__src_raster.txt ./xxx_uncontrolled/extracted"
   ]
  },
  {
   "cell_type": "code",
   "execution_count": 29,
   "metadata": {},
   "outputs": [
    {
     "name": "stdout",
     "output_type": "stream",
     "text": [
      "Usage: eobox-extract [OPTIONS] SRC_VECTOR BURN_ATTRIBUTE SRC_RASTER DST_DIR\n",
      "\n",
      "  Extract raster values\n",
      "\n",
      "Arguments:\n",
      "  SRC_VECTOR      Vector filpath.  [required]\n",
      "  BURN_ATTRIBUTE  Attribute table field of the src_vector dataset to be stored\n",
      "                  along with the raster values.  [required]\n",
      "\n",
      "  SRC_RASTER      Text filepath with paths to single-band raster files from\n",
      "                  which to extract.  [required]\n",
      "\n",
      "  DST_DIR         Destination directory to store the extracted data to.\n",
      "                  [required]\n",
      "\n",
      "\n",
      "Options:\n",
      "  --dst-names TEXT      Text filepath with destination names corresponding to\n",
      "                        src_raster. If not given the stem of the paths in\n",
      "                        src_raster is used.\n",
      "\n",
      "  --install-completion  Install completion for the current shell.\n",
      "  --show-completion     Show completion for the current shell, to copy it or\n",
      "                        customize the installation.\n",
      "\n",
      "  --help                Show this message and exit.\n"
     ]
    }
   ],
   "source": [
    "%%bash\n",
    "\n",
    "eobox-extract --help"
   ]
  },
  {
   "cell_type": "markdown",
   "metadata": {},
   "source": [
    "## Future maybe\n",
    "\n",
    "Create groups https://typer.tiangolo.com/tutorial/subcommands/add-typer/#put-them-together\n"
   ]
  }
 ],
 "metadata": {
  "kernelspec": {
   "display_name": "Python 3.8.3 64-bit ('geoml': conda)",
   "language": "python",
   "name": "python38364bitgeomlconda5b0aaf1d100b42e2b932304991c37e9f"
  },
  "language_info": {
   "codemirror_mode": {
    "name": "ipython",
    "version": 3
   },
   "file_extension": ".py",
   "mimetype": "text/x-python",
   "name": "python",
   "nbconvert_exporter": "python",
   "pygments_lexer": "ipython3",
   "version": "3.8.3"
  }
 },
 "nbformat": 4,
 "nbformat_minor": 4
}
