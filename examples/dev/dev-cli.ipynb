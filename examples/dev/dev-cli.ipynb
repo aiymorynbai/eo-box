{
 "cells": [
  {
   "cell_type": "markdown",
   "metadata": {},
   "source": [
    "# Develop CLI\n",
    "\n",
    "## Preparation\n",
    "\n",
    "### Installation\n",
    "\n",
    "Install the package in editable mode. From within the repository root run:\n",
    "\n",
    "    pip install -e .\n",
    "\n",
    "Add your new entrypoint in the *setup.py*, e.g. \n",
    "\n",
    "    eobox_extract_from_file=eobox.scripts.extraction:from_file\n",
    "\n",
    "### Sample data\n",
    "\n",
    "Create all the data and parameters that you expect for your CLI."
   ]
  },
  {
   "cell_type": "code",
   "execution_count": 42,
   "metadata": {},
   "outputs": [
    {
     "output_type": "execute_result",
     "data": {
      "text/plain": "'/home/ben/Repos/eo-box/eobox/sampledata/data'"
     },
     "metadata": {},
     "execution_count": 42
    }
   ],
   "source": [
    "# get the path where eobox sampledata is located\n",
    "import eobox\n",
    "eobox.sampledata.base.DIR_DATA\n",
    "# import shutil\n",
    "# shutil.copytree(eobox.sampledata.base.DIR_DATA, \"xxx_uncontrolled/sampledata\")"
   ]
  },
  {
   "cell_type": "code",
   "execution_count": 43,
   "metadata": {
    "tags": []
   },
   "outputs": [
    {
     "output_type": "stream",
     "name": "stdout",
     "text": "Done\n"
    }
   ],
   "source": [
    "%%bash \n",
    "\n",
    "datasrc=/home/ben/Repos/eo-box/eobox/sampledata/data/s2l1c\n",
    "datadir=./xxx_uncontrolled\n",
    "\n",
    "dst_dir=$datadir/extracted\n",
    "\n",
    "if [ ! -d $datadir/inputs ]; then\n",
    "    mkdir -p $datadir/inputs\n",
    "    cp -r $datasrc $datadir/inputs\n",
    "fi\n",
    "\n",
    "ls -R $datadir/inputs/s2l1c/IMG_DATA/*0[2,3,4,8].jp2 > $datadir/param__src_raster.txt\n",
    "\n",
    "echo Done"
   ]
  },
  {
   "cell_type": "markdown",
   "metadata": {},
   "source": [
    "## Implement\n",
    "\n",
    "\n"
   ]
  },
  {
   "cell_type": "code",
   "execution_count": 44,
   "metadata": {
    "tags": []
   },
   "outputs": [
    {
     "output_type": "stream",
     "name": "stderr",
     "text": "100%|██████████| 4/4 [00:00<00:00, 12.12it/s]\n"
    }
   ],
   "source": [
    "%%bash\n",
    "\n",
    "eobox-extract ./xxx_uncontrolled/inputs/s2l1c/s2l1c_ref.gpkg pid ./xxx_uncontrolled/param__src_raster.txt ./xxx_uncontrolled/extracted"
   ]
  },
  {
   "cell_type": "markdown",
   "metadata": {},
   "source": [
    "* a list of all (matched) rasters in a directory: "
   ]
  },
  {
   "cell_type": "code",
   "execution_count": 47,
   "metadata": {
    "tags": []
   },
   "outputs": [
    {
     "output_type": "stream",
     "name": "stdout",
     "text": "/home/ben/Repos/eo-box/examples/dev\nFalse\n['./xxx_uncontrolled/inputs/s2l1c/IMG_DATA/T33UUU_20170216T102101_B01.jp2', './xxx_uncontrolled/inputs/s2l1c/IMG_DATA/T33UUU_20170216T102101_B02.jp2']\n"
    }
   ],
   "source": [
    "import glob\n",
    "from pathlib import Path\n",
    "src_raster = \"./**/*.jp2\"\n",
    "print(str(Path(\".\").resolve()))\n",
    "print(Path(src_raster).exists())\n",
    "print(glob.glob(\"./**/*.jp2\", recursive=True)[:2])"
   ]
  },
  {
   "cell_type": "code",
   "execution_count": 48,
   "metadata": {
    "tags": []
   },
   "outputs": [
    {
     "output_type": "stream",
     "name": "stdout",
     "text": "/home/ben/Repos/eo-box/examples/dev\n0...10...20...30...40...50...60...70...80...90...100 - done.\n0...10...20...30...40...50...60...70...80...90...100 - done.\n100%|██████████| 30/30 [00:00<00:00, 80299.37it/s]\n100%|██████████| 4/4 [00:00<00:00, 11.23it/s]\n"
    }
   ],
   "source": [
    "%%bash\n",
    "echo ${PWD}\n",
    "\n",
    "eobox-extract ./xxx_uncontrolled/inputs/s2l1c/s2l1c_ref.gpkg pid ./**/*0[2,3,4,8].jp2 ./xxx_uncontrolled/extracted"
   ]
  },
  {
   "cell_type": "markdown",
   "metadata": {},
   "source": [
    "Look how your help looks like:"
   ]
  },
  {
   "cell_type": "code",
   "execution_count": 38,
   "metadata": {
    "tags": []
   },
   "outputs": [
    {
     "output_type": "stream",
     "name": "stdout",
     "text": "Usage: eobox-extract [OPTIONS] SRC_VECTOR BURN_ATTRIBUTE SRC_RASTER DST_DIR\n\n  Extract raster values\n\nArguments:\n  SRC_VECTOR      Vector filpath.  [required]\n  BURN_ATTRIBUTE  Attribute table field of the src_vector dataset to be stored\n                  along with the raster values.  [required]\n\n  SRC_RASTER      Raster path matching specification passed to glob.glob (e.g.\n                  ./**/*.jp2) or text filepath with paths to single-band\n                  raster files from which to extract.  [required]\n\n  DST_DIR         Destination directory to store the extracted data to.\n                  [required]\n\n\nOptions:\n  --dst-names TEXT              Text filepath with destination names\n                                corresponding to src_raster. If not given the\n                                stem of the paths in src_raster is used.\n\n  --recursive / --no-recursive  Define if you want to search for matching\n                                rasters recursively. Only used if src_raster\n                                is a raster path matching specification.\n                                [default: True]\n\n  --install-completion          Install completion for the current shell.\n  --show-completion             Show completion for the current shell, to copy\n                                it or customize the installation.\n\n  --help                        Show this message and exit.\n"
    }
   ],
   "source": [
    "%%bash\n",
    "\n",
    "eobox-extract --help"
   ]
  },
  {
   "cell_type": "markdown",
   "metadata": {},
   "source": [
    "## Future maybe\n",
    "\n",
    "Create groups https://typer.tiangolo.com/tutorial/subcommands/add-typer/#put-them-together\n"
   ]
  }
 ],
 "metadata": {
  "kernelspec": {
   "display_name": "Python 3.8.3 64-bit ('geoml': conda)",
   "language": "python",
   "name": "python38364bitgeomlconda5b0aaf1d100b42e2b932304991c37e9f"
  },
  "language_info": {
   "codemirror_mode": {
    "name": "ipython",
    "version": 3
   },
   "file_extension": ".py",
   "mimetype": "text/x-python",
   "name": "python",
   "nbconvert_exporter": "python",
   "pygments_lexer": "ipython3",
   "version": "3.8.3-final"
  }
 },
 "nbformat": 4,
 "nbformat_minor": 4
}