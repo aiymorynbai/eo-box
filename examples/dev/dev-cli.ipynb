{
 "cells": [
  {
   "cell_type": "markdown",
   "metadata": {},
   "source": [
    "# Develop CLI\n",
    "\n",
    "## Preparation\n",
    "\n",
    "### Installation\n",
    "\n",
    "Install the package in editable mode. From within the repository root run:\n",
    "\n",
    "    pip install -e .\n",
    "\n",
    "Add your new entrypoint in the *setup.py*, e.g. \n",
    "\n",
    "    eobox_extract_from_file=eobox.scripts.extraction:from_file\n",
    "\n",
    "### Sample data\n",
    "\n",
    "Create all the data and parameters that you expect for your CLI."
   ]
  },
  {
   "cell_type": "code",
   "execution_count": 34,
   "metadata": {},
   "outputs": [
    {
     "data": {
      "text/plain": [
       "'/home/ben/Repos/eo-box/eobox/sampledata/data'"
      ]
     },
     "execution_count": 34,
     "metadata": {},
     "output_type": "execute_result"
    }
   ],
   "source": [
    "# get the path where eobox sampledata is located\n",
    "import eobox\n",
    "eobox.sampledata.base.DIR_DATA\n",
    "# import shutil\n",
    "# shutil.copytree(eobox.sampledata.base.DIR_DATA, \"xxx_uncontrolled/sampledata\")"
   ]
  },
  {
   "cell_type": "code",
   "execution_count": 35,
   "metadata": {
    "tags": []
   },
   "outputs": [
    {
     "name": "stdout",
     "output_type": "stream",
     "text": [
      "Done\n"
     ]
    }
   ],
   "source": [
    "%%bash \n",
    "\n",
    "datasrc=/home/ben/Repos/eo-box/eobox/sampledata/data/s2l1c\n",
    "datadir=./xxx_uncontrolled\n",
    "\n",
    "dst_dir=$datadir/extracted\n",
    "\n",
    "if [ ! -d $datadir/inputs ]; then\n",
    "    mkdir -p $datadir/inputs\n",
    "    cp -r $datasrc $datadir/inputs\n",
    "fi\n",
    "\n",
    "ls -R $datadir/inputs/s2l1c/IMG_DATA/*0[2,3,4,8].jp2 > $datadir/param__src_raster.txt\n",
    "\n",
    "echo Done"
   ]
  },
  {
   "cell_type": "markdown",
   "metadata": {},
   "source": [
    "## Implement\n",
    "\n",
    "\n"
   ]
  },
  {
   "cell_type": "code",
   "execution_count": 26,
   "metadata": {
    "tags": []
   },
   "outputs": [
    {
     "name": "stderr",
     "output_type": "stream",
     "text": [
      "/home/ben/anaconda3/envs/geoml/lib/python3.8/site-packages/fsspec/implementations/local.py:29: FutureWarning: The default value of auto_mkdir=True has been deprecated and will be changed to auto_mkdir=False by default in a future release.\n",
      "  warnings.warn(\n"
     ]
    }
   ],
   "source": [
    "%%bash\n",
    "\n",
    "eobox-extract ./xxx_uncontrolled/inputs/s2l1c/s2l1c_ref.gpkg pid ./xxx_uncontrolled/param__src_raster.txt ./xxx_uncontrolled/extracted --dst-parquet ./xxx_uncontrolled/extracted.parquet --delete-dst-dir "
   ]
  },
  {
   "cell_type": "code",
   "execution_count": 33,
   "metadata": {},
   "outputs": [
    {
     "data": {
      "text/plain": [
       "(3500, 11)"
      ]
     },
     "execution_count": 33,
     "metadata": {},
     "output_type": "execute_result"
    }
   ],
   "source": [
    "import pandas as pd\n",
    "\n",
    "df = pd.read_parquet(\"./xxx_uncontrolled/extracted.parquet\")\n",
    "df.shape"
   ]
  },
  {
   "cell_type": "markdown",
   "metadata": {},
   "source": [
    "* a list of all (matched) rasters in a directory: "
   ]
  },
  {
   "cell_type": "code",
   "execution_count": 27,
   "metadata": {
    "tags": []
   },
   "outputs": [
    {
     "name": "stdout",
     "output_type": "stream",
     "text": [
      "/home/ben/Repos/eo-box/examples/dev\n",
      "False\n",
      "['./xxx_uncontrolled/inputs/s2l1c/IMG_DATA/T33UUU_20170216T102101_B01.jp2', './xxx_uncontrolled/inputs/s2l1c/IMG_DATA/T33UUU_20170216T102101_B02.jp2']\n"
     ]
    }
   ],
   "source": [
    "import glob\n",
    "from pathlib import Path\n",
    "src_raster = \"./**/*.jp2\"\n",
    "print(str(Path(\".\").resolve()))\n",
    "print(Path(src_raster).exists())\n",
    "print(glob.glob(\"./**/*.jp2\", recursive=True)[:2])"
   ]
  },
  {
   "cell_type": "code",
   "execution_count": 28,
   "metadata": {
    "tags": []
   },
   "outputs": [
    {
     "name": "stdout",
     "output_type": "stream",
     "text": [
      "/home/ben/Repos/eo-box/examples/dev\n",
      "0...10...20...30...40...50...60...70...80...90...100 - done.\n",
      "0...10...20...30...40...50...60...70...80...90...100 - done.\n"
     ]
    },
    {
     "name": "stderr",
     "output_type": "stream",
     "text": [
      "100%|██████████| 30/30 [00:00<00:00, 88988.06it/s]\n",
      "100%|██████████| 4/4 [00:00<00:00, 12.23it/s]\n",
      "/home/ben/anaconda3/envs/geoml/lib/python3.8/site-packages/fsspec/implementations/local.py:29: FutureWarning: The default value of auto_mkdir=True has been deprecated and will be changed to auto_mkdir=False by default in a future release.\n",
      "  warnings.warn(\n"
     ]
    }
   ],
   "source": [
    "%%bash\n",
    "echo ${PWD}\n",
    "\n",
    "eobox-extract ./xxx_uncontrolled/inputs/s2l1c/s2l1c_ref.gpkg pid ./**/*0[2,3,4,8].jp2 ./xxx_uncontrolled/extracted --dst-parquet ./xxx_uncontrolled/extracted.parquet --delete-dst-dir"
   ]
  },
  {
   "cell_type": "markdown",
   "metadata": {},
   "source": [
    "Look how your help looks like:"
   ]
  },
  {
   "cell_type": "code",
   "execution_count": 38,
   "metadata": {
    "tags": []
   },
   "outputs": [
    {
     "name": "stdout",
     "output_type": "stream",
     "text": [
      "Usage: eobox-extract [OPTIONS] SRC_VECTOR BURN_ATTRIBUTE SRC_RASTER DST_DIR\n",
      "\n",
      "  Extract raster values\n",
      "\n",
      "Arguments:\n",
      "  SRC_VECTOR      Vector filpath.  [required]\n",
      "  BURN_ATTRIBUTE  Attribute table field of the src_vector dataset to be stored\n",
      "                  along with the raster values.  [required]\n",
      "\n",
      "  SRC_RASTER      Raster path matching specification passed to glob.glob (e.g.\n",
      "                  ./**/*.jp2) or text filepath with paths to single-band\n",
      "                  raster files from which to extract.  [required]\n",
      "\n",
      "  DST_DIR         Destination directory to store the extracted data to.\n",
      "                  [required]\n",
      "\n",
      "\n",
      "Options:\n",
      "  --dst-names TEXT              Text filepath with destination names\n",
      "                                corresponding to src_raster. If not given the\n",
      "                                stem of the paths in src_raster is used.\n",
      "\n",
      "  --recursive / --no-recursive  Define if you want to search for matching\n",
      "                                rasters recursively. Only used if src_raster\n",
      "                                is a raster path matching specification.\n",
      "                                [default: True]\n",
      "\n",
      "  --install-completion          Install completion for the current shell.\n",
      "  --show-completion             Show completion for the current shell, to copy\n",
      "                                it or customize the installation.\n",
      "\n",
      "  --help                        Show this message and exit.\n"
     ]
    }
   ],
   "source": [
    "%%bash\n",
    "\n",
    "eobox-extract --help"
   ]
  },
  {
   "cell_type": "markdown",
   "metadata": {},
   "source": [
    "## In Docker"
   ]
  },
  {
   "cell_type": "code",
   "execution_count": 53,
   "metadata": {},
   "outputs": [
    {
     "name": "stdout",
     "output_type": "stream",
     "text": [
      "0...10...20...30...40...50...60...70...80...90...100 - done.\n",
      "0...10...20...30...40...50...60...70...80...90...100 - done.\n"
     ]
    },
    {
     "name": "stderr",
     "output_type": "stream",
     "text": [
      "100%|██████████| 30/30 [00:00<00:00, 32913.71it/s]ERROR 1: PROJ: proj_identify: Cannot find proj.db\n",
      "\n",
      "100%|██████████| 4/4 [00:00<00:00, 12.11it/s]\n",
      "/opt/conda/lib/python3.8/site-packages/pyarrow/compat.py:24: FutureWarning: pyarrow.compat has been deprecated and will be removed in a future release\n",
      "  warnings.warn(\"pyarrow.compat has been deprecated and will be removed in a \"\n"
     ]
    }
   ],
   "source": [
    "%%bash\n",
    "docker run --rm -v ${PWD}/xxx_uncontrolled:/home/jovyan/xxx_uncontrolled benmack/eobox-notebook:2020-08-11 bash \\\n",
    "        -c \"eobox-extract ./xxx_uncontrolled/inputs/s2l1c/s2l1c_ref.gpkg pid ./xxx_uncontrolled/param__src_raster.txt ./xxx_uncontrolled/extracted --dst-parquet ./xxx_uncontrolled/extracted.parquet\"\n"
   ]
  },
  {
   "cell_type": "markdown",
   "metadata": {},
   "source": [
    "## Future maybe\n",
    "\n",
    "Create groups https://typer.tiangolo.com/tutorial/subcommands/add-typer/#put-them-together"
   ]
  }
 ],
 "metadata": {
  "kernelspec": {
   "display_name": "Python 3.8.3 64-bit ('geoml': conda)",
   "language": "python",
   "name": "python38364bitgeomlconda5b0aaf1d100b42e2b932304991c37e9f"
  },
  "language_info": {
   "codemirror_mode": {
    "name": "ipython",
    "version": 3
   },
   "file_extension": ".py",
   "mimetype": "text/x-python",
   "name": "python",
   "nbconvert_exporter": "python",
   "pygments_lexer": "ipython3",
   "version": "3.8.3"
  }
 },
 "nbformat": 4,
 "nbformat_minor": 4
}
